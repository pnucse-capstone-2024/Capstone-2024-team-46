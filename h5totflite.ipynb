{
 "cells": [
  {
   "cell_type": "code",
   "execution_count": 1,
   "metadata": {},
   "outputs": [
    {
     "name": "stderr",
     "output_type": "stream",
     "text": [
      "WARNING:absl:Compiled the loaded model, but the compiled metrics have yet to be built. `model.compile_metrics` will be empty until you train or evaluate the model.\n"
     ]
    },
    {
     "name": "stdout",
     "output_type": "stream",
     "text": [
      "INFO:tensorflow:Assets written to: /var/folders/lx/t6fh69qs69d9s21bvsl3_ynr0000gn/T/tmp7qqm33eb/assets\n"
     ]
    },
    {
     "name": "stderr",
     "output_type": "stream",
     "text": [
      "INFO:tensorflow:Assets written to: /var/folders/lx/t6fh69qs69d9s21bvsl3_ynr0000gn/T/tmp7qqm33eb/assets\n"
     ]
    },
    {
     "name": "stdout",
     "output_type": "stream",
     "text": [
      "Saved artifact at '/var/folders/lx/t6fh69qs69d9s21bvsl3_ynr0000gn/T/tmp7qqm33eb'. The following endpoints are available:\n",
      "\n",
      "* Endpoint 'serve'\n",
      "  args_0 (POSITIONAL_ONLY): TensorSpec(shape=(None, 100, 3), dtype=tf.float32, name='input_layer_2')\n",
      "Output Type:\n",
      "  TensorSpec(shape=(None, 4), dtype=tf.float32, name=None)\n",
      "Captures:\n",
      "  5769765712: TensorSpec(shape=(), dtype=tf.resource, name=None)\n",
      "  5769769408: TensorSpec(shape=(), dtype=tf.resource, name=None)\n",
      "  5770106256: TensorSpec(shape=(), dtype=tf.resource, name=None)\n",
      "  5770106080: TensorSpec(shape=(), dtype=tf.resource, name=None)\n",
      "  5770115584: TensorSpec(shape=(), dtype=tf.resource, name=None)\n",
      "  5770114704: TensorSpec(shape=(), dtype=tf.resource, name=None)\n",
      "  5906763264: TensorSpec(shape=(), dtype=tf.resource, name=None)\n",
      "  5906765552: TensorSpec(shape=(), dtype=tf.resource, name=None)\n",
      "  5906769776: TensorSpec(shape=(), dtype=tf.resource, name=None)\n",
      "  5906772064: TensorSpec(shape=(), dtype=tf.resource, name=None)\n",
      "  5769763248: TensorSpec(shape=(), dtype=tf.resource, name=None)\n",
      "  5769763600: TensorSpec(shape=(), dtype=tf.resource, name=None)\n",
      "  5906993696: TensorSpec(shape=(), dtype=tf.resource, name=None)\n",
      "  5906995984: TensorSpec(shape=(), dtype=tf.resource, name=None)\n",
      "  5906998272: TensorSpec(shape=(), dtype=tf.resource, name=None)\n",
      "  5907002496: TensorSpec(shape=(), dtype=tf.resource, name=None)\n",
      "  5907002672: TensorSpec(shape=(), dtype=tf.resource, name=None)\n",
      "  5907003024: TensorSpec(shape=(), dtype=tf.resource, name=None)\n"
     ]
    },
    {
     "name": "stderr",
     "output_type": "stream",
     "text": [
      "WARNING: All log messages before absl::InitializeLog() is called are written to STDERR\n",
      "W0000 00:00:1727658438.557970 7543712 tf_tfl_flatbuffer_helpers.cc:392] Ignored output_format.\n",
      "W0000 00:00:1727658438.559071 7543712 tf_tfl_flatbuffer_helpers.cc:395] Ignored drop_control_dependency.\n",
      "2024-09-30 10:07:18.560247: I tensorflow/cc/saved_model/reader.cc:83] Reading SavedModel from: /var/folders/lx/t6fh69qs69d9s21bvsl3_ynr0000gn/T/tmp7qqm33eb\n",
      "2024-09-30 10:07:18.560928: I tensorflow/cc/saved_model/reader.cc:52] Reading meta graph with tags { serve }\n",
      "2024-09-30 10:07:18.560936: I tensorflow/cc/saved_model/reader.cc:147] Reading SavedModel debug info (if present) from: /var/folders/lx/t6fh69qs69d9s21bvsl3_ynr0000gn/T/tmp7qqm33eb\n",
      "2024-09-30 10:07:18.567513: I tensorflow/compiler/mlir/mlir_graph_optimization_pass.cc:388] MLIR V1 optimization pass is not enabled\n",
      "2024-09-30 10:07:18.568611: I tensorflow/cc/saved_model/loader.cc:236] Restoring SavedModel bundle.\n",
      "2024-09-30 10:07:18.638208: I tensorflow/cc/saved_model/loader.cc:220] Running initialization op on SavedModel bundle at path: /var/folders/lx/t6fh69qs69d9s21bvsl3_ynr0000gn/T/tmp7qqm33eb\n",
      "2024-09-30 10:07:18.649964: I tensorflow/cc/saved_model/loader.cc:462] SavedModel load for tags { serve }; Status: success: OK. Took 89719 microseconds.\n",
      "2024-09-30 10:07:18.684521: I tensorflow/compiler/mlir/tensorflow/utils/dump_mlir_util.cc:268] disabling MLIR crash reproducer, set env var `MLIR_CRASH_REPRODUCER_DIRECTORY` to enable.\n"
     ]
    }
   ],
   "source": [
    "import tensorflow as tf\n",
    "import numpy as np\n",
    "\n",
    "# .h5 모델 로드\n",
    "h5_model = tf.keras.models.load_model('conv_net_v1.h5')\n",
    "\n",
    "# .tflite 변환기 생성\n",
    "converter = tf.lite.TFLiteConverter.from_keras_model(h5_model)\n",
    "\n",
    "# .tflite 모델로 변환\n",
    "tflite_model = converter.convert()\n",
    "\n",
    "# .tflite 모델 저장\n",
    "with open('conv_net_no_quantiz_v1.tflite', 'wb') as f:\n",
    "    f.write(tflite_model)"
   ]
  }
 ],
 "metadata": {
  "kernelspec": {
   "display_name": "anomaly_detection",
   "language": "python",
   "name": "python3"
  },
  "language_info": {
   "codemirror_mode": {
    "name": "ipython",
    "version": 3
   },
   "file_extension": ".py",
   "mimetype": "text/x-python",
   "name": "python",
   "nbconvert_exporter": "python",
   "pygments_lexer": "ipython3",
   "version": "3.10.14"
  }
 },
 "nbformat": 4,
 "nbformat_minor": 2
}
