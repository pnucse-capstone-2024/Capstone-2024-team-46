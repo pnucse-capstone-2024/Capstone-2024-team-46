{
 "cells": [
  {
   "cell_type": "code",
   "execution_count": 1,
   "metadata": {},
   "outputs": [
    {
     "name": "stderr",
     "output_type": "stream",
     "text": [
      "WARNING:absl:Compiled the loaded model, but the compiled metrics have yet to be built. `model.compile_metrics` will be empty until you train or evaluate the model.\n"
     ]
    }
   ],
   "source": [
    "from tensorflow.keras.models import load_model\n",
    "\n",
    "# H5 파일에서 모델 로드\n",
    "model = load_model('conv_net_v1.h5')\n"
   ]
  },
  {
   "cell_type": "code",
   "execution_count": 2,
   "metadata": {},
   "outputs": [],
   "source": [
    "import pandas as pd\n",
    "\n",
    "label_0 = pd.read_csv(\"data/label_0_data.csv\")\n",
    "label_1 = pd.read_csv(\"data/label_1b_data.csv\")\n",
    "label_2 = pd.read_csv(\"data/label_2_data.csv\")\n",
    "label_3 = pd.read_csv(\"data/label_3_data.csv\")"
   ]
  },
  {
   "cell_type": "code",
   "execution_count": 3,
   "metadata": {},
   "outputs": [],
   "source": [
    "import matplotlib.pyplot as plt\n",
    "import numpy as np\n",
    "from scipy.ndimage import gaussian_filter1d\n",
    "\n",
    "def multiple_plotting():\n",
    "    # 파일 경로, 이름 설정해주세요.\n",
    "    data1_df = pd.read_csv('data/label_0_data.csv', header=None)\n",
    "    data2_df = pd.read_csv('data/label_1b_data.csv', header=None)\n",
    "    data3_df = pd.read_csv('data/label_2_data.csv', header=None)\n",
    "    data4_df = pd.read_csv('data/label_3_data.csv', header=None)\n",
    "\n",
    "    data1_df.columns = ['x', 'y', 'z']\n",
    "    data2_df.columns = ['x', 'y', 'z']\n",
    "    data3_df.columns = ['x', 'y', 'z']\n",
    "    data4_df.columns = ['x', 'y', 'z']\n",
    "\n",
    "\n",
    "    vector_value1 = np.sqrt(data1_df['x']** 2 + data1_df['y']**2 + data1_df['z']**2)\n",
    "    vector_value2 = np.sqrt(data2_df['x']** 2 + data2_df['y']**2 + data2_df['z']**2)\n",
    "    vector_value3 = np.sqrt(data3_df['x']** 2 + data3_df['y']**2 + data3_df['z']**2)\n",
    "    vector_value4 = np.sqrt(data4_df['x']** 2 + data4_df['y']**2 + data4_df['z']**2)\n",
    "\n",
    "    plt.figure(figsize=(20,20))\n",
    "    fig, axes = plt.subplots(nrows=2, ncols=2)\n",
    "\n",
    "    axes[0][0].plot(vector_value1)\n",
    "    axes[0][1].plot(vector_value2)\n",
    "    axes[1][0].plot(vector_value3)\n",
    "    axes[1][1].plot(vector_value4)\n",
    "    plt.show()"
   ]
  },
  {
   "cell_type": "code",
   "execution_count": 4,
   "metadata": {},
   "outputs": [
    {
     "data": {
      "text/plain": [
       "<Figure size 2000x2000 with 0 Axes>"
      ]
     },
     "metadata": {},
     "output_type": "display_data"
    },
    {
     "data": {
      "image/png": "[encoded data removed]",
      "text/plain": [
       "<Figure size 640x480 with 4 Axes>"
      ]
     },
     "metadata": {},
     "output_type": "display_data"
    }
   ],
   "source": [
    "multiple_plotting()"
   ]
  },
  {
   "cell_type": "code",
   "execution_count": 5,
   "metadata": {},
   "outputs": [
    {
     "name": "stdout",
     "output_type": "stream",
     "text": [
      "359900\n",
      "359800\n",
      "359900\n",
      "359900\n"
     ]
    },
    {
     "name": "stderr",
     "output_type": "stream",
     "text": [
      "/Users/seyeong/anaconda3/envs/anomaly_detection/lib/python3.10/site-packages/numpy/core/fromnumeric.py:59: FutureWarning: 'DataFrame.swapaxes' is deprecated and will be removed in a future version. Please use 'DataFrame.transpose' instead.\n",
      "  return bound(*args, **kwds)\n"
     ]
    }
   ],
   "source": [
    "len_0 = len(label_0)\n",
    "len_1 = len(label_1)\n",
    "len_2 = len(label_2)\n",
    "len_3 = len(label_3)\n",
    "\n",
    "label_X = [label_0, label_1, label_2, label_3]\n",
    "rem = [len_0, len_1, len_2, len_3]\n",
    "\n",
    "for i in range(4):\n",
    "    r = rem[i] % 100\n",
    "    label_X[i] = label_X[i].iloc[:rem[i] - r]\n",
    "\n",
    "    print(len(label_X[i]))\n",
    "\n",
    "data_split_0 = np.array_split(label_X[0], len(label_X[0]) // 100)\n",
    "data_split_1 = np.array_split(label_X[1], len(label_X[1]) // 100)\n",
    "data_split_2 = np.array_split(label_X[2], len(label_X[2]) // 100)\n",
    "data_split_3 = np.array_split(label_X[3], len(label_X[3]) // 100)\n",
    "\n",
    "\n",
    "y_label_0 = np.zeros(len(data_split_0))\n",
    "y_label_1 = np.ones(len(data_split_1))\n",
    "y_label_2 = np.full(len(data_split_2), 2)\n",
    "y_label_3 = np.full(len(data_split_3), 3)"
   ]
  },
  {
   "cell_type": "code",
   "execution_count": 8,
   "metadata": {},
   "outputs": [
    {
     "data": {
      "text/plain": [
       "array([[[ 0.989293,  0.00706 ,  0.008017],\n",
       "        [ 0.878125,  0.016363,  0.009689],\n",
       "        [ 0.952647,  0.011712,  0.015421],\n",
       "        ...,\n",
       "        [ 1.033317,  0.010733,  0.008972],\n",
       "        [ 1.035531,  0.008529,  0.006345],\n",
       "        [ 0.959288,  0.014894,  0.00159 ]],\n",
       "\n",
       "       [[ 0.970109,  0.010488,  0.006345],\n",
       "        [ 1.019544,  0.008774,  0.011361],\n",
       "        [ 1.003312,  0.011712,  0.001832],\n",
       "        ...,\n",
       "        [ 0.972077,  0.007795, -0.001557],\n",
       "        [ 0.887963,  0.006815,  0.004912],\n",
       "        [ 0.974044,  0.009998,  0.014943]],\n",
       "\n",
       "       [[ 1.015855,  0.017588,  0.006345],\n",
       "        [ 0.924363,  0.00755 ,  0.012555],\n",
       "        [ 0.999623,  0.012446,  0.007301],\n",
       "        ...,\n",
       "        [ 1.003558,  0.008039,  0.012555],\n",
       "        [ 1.003558,  0.008039,  0.012555],\n",
       "        [ 1.00405 ,  0.007795,  0.006345]],\n",
       "\n",
       "       ...,\n",
       "\n",
       "       [[ 0.982407,  0.010243, -0.058443],\n",
       "        [ 1.010198,  0.010977, -0.049244],\n",
       "        [ 1.005525,  0.013915, -0.053843],\n",
       "        ...,\n",
       "        [ 0.823033,  0.013181, -0.04174 ],\n",
       "        [ 0.952647,  0.016119, -0.057474],\n",
       "        [ 0.968634,  0.012936, -0.054086]],\n",
       "\n",
       "       [[ 0.951663,  0.011467, -0.064736],\n",
       "        [ 1.014871,  0.005346, -0.072483],\n",
       "        [ 1.014871,  0.005346, -0.072483],\n",
       "        ...,\n",
       "        [ 0.851071,  0.011957, -0.046339],\n",
       "        [ 0.851071,  0.011957, -0.046339],\n",
       "        [ 0.959288,  0.00706 , -0.065463]],\n",
       "\n",
       "       [[ 0.998393,  0.01367 , -0.058685],\n",
       "        [ 0.986096,  0.019546, -0.063042],\n",
       "        [ 0.986096,  0.019546, -0.063042],\n",
       "        ...,\n",
       "        [ 1.090869,  0.010977, -0.079018],\n",
       "        [ 1.090869,  0.010977, -0.079018],\n",
       "        [ 1.009215,  0.01416 , -0.058201]]])"
      ]
     },
     "execution_count": 8,
     "metadata": {},
     "output_type": "execute_result"
    }
   ],
   "source": [
    "x_test = np.concatenate([data_split_0, data_split_1, data_split_2, data_split_3])\n",
    "x_test"
   ]
  },
  {
   "cell_type": "code",
   "execution_count": null,
   "metadata": {},
   "outputs": [],
   "source": [
    "y_test_one_hot = to_categorical(y_test_concat, num_classes=4)"
   ]
  }
 ],
 "metadata": {
  "kernelspec": {
   "display_name": "anomaly_detection",
   "language": "python",
   "name": "python3"
  },
  "language_info": {
   "codemirror_mode": {
    "name": "ipython",
    "version": 3
   },
   "file_extension": ".py",
   "mimetype": "text/x-python",
   "name": "python",
   "nbconvert_exporter": "python",
   "pygments_lexer": "ipython3",
   "version": "3.10.14"
  }
 },
 "nbformat": 4,
 "nbformat_minor": 2
}
