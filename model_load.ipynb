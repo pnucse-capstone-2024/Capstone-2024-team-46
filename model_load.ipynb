{
 "cells": [
  {
   "cell_type": "code",
   "execution_count": 90,
   "metadata": {},
   "outputs": [
    {
     "name": "stderr",
     "output_type": "stream",
     "text": [
      "WARNING:absl:Compiled the loaded model, but the compiled metrics have yet to be built. `model.compile_metrics` will be empty until you train or evaluate the model.\n"
     ]
    }
   ],
   "source": [
    "from tensorflow.keras.models import load_model\n",
    "\n",
    "# H5 파일에서 모델 로드\n",
    "model = load_model('conv_net_v1.h5')\n"
   ]
  },
  {
   "cell_type": "code",
   "execution_count": 5,
   "metadata": {},
   "outputs": [
    {
     "data": {
      "text/html": [
       "<pre style=\"white-space:pre;overflow-x:auto;line-height:normal;font-family:Menlo,'DejaVu Sans Mono',consolas,'Courier New',monospace\"><span style=\"font-weight: bold\">Model: \"sequential_2\"</span>\n",
       "</pre>\n"
      ],
      "text/plain": [
       "\u001b[1mModel: \"sequential_2\"\u001b[0m\n"
      ]
     },
     "metadata": {},
     "output_type": "display_data"
    },
    {
     "data": {
      "text/html": [
       "<pre style=\"white-space:pre;overflow-x:auto;line-height:normal;font-family:Menlo,'DejaVu Sans Mono',consolas,'Courier New',monospace\">┏━━━━━━━━━━━━━━━━━━━━━━━━━━━━━━━━━┳━━━━━━━━━━━━━━━━━━━━━━━━┳━━━━━━━━━━━━━━━┓\n",
       "┃<span style=\"font-weight: bold\"> Layer (type)                    </span>┃<span style=\"font-weight: bold\"> Output Shape           </span>┃<span style=\"font-weight: bold\">       Param # </span>┃\n",
       "┡━━━━━━━━━━━━━━━━━━━━━━━━━━━━━━━━━╇━━━━━━━━━━━━━━━━━━━━━━━━╇━━━━━━━━━━━━━━━┩\n",
       "│ conv1d_14 (<span style=\"color: #0087ff; text-decoration-color: #0087ff\">Conv1D</span>)              │ (<span style=\"color: #00d7ff; text-decoration-color: #00d7ff\">None</span>, <span style=\"color: #00af00; text-decoration-color: #00af00\">100</span>, <span style=\"color: #00af00; text-decoration-color: #00af00\">32</span>)        │           <span style=\"color: #00af00; text-decoration-color: #00af00\">320</span> │\n",
       "├─────────────────────────────────┼────────────────────────┼───────────────┤\n",
       "│ conv1d_15 (<span style=\"color: #0087ff; text-decoration-color: #0087ff\">Conv1D</span>)              │ (<span style=\"color: #00d7ff; text-decoration-color: #00d7ff\">None</span>, <span style=\"color: #00af00; text-decoration-color: #00af00\">100</span>, <span style=\"color: #00af00; text-decoration-color: #00af00\">32</span>)        │         <span style=\"color: #00af00; text-decoration-color: #00af00\">3,104</span> │\n",
       "├─────────────────────────────────┼────────────────────────┼───────────────┤\n",
       "│ max_pooling1d_6 (<span style=\"color: #0087ff; text-decoration-color: #0087ff\">MaxPooling1D</span>)  │ (<span style=\"color: #00d7ff; text-decoration-color: #00d7ff\">None</span>, <span style=\"color: #00af00; text-decoration-color: #00af00\">50</span>, <span style=\"color: #00af00; text-decoration-color: #00af00\">32</span>)         │             <span style=\"color: #00af00; text-decoration-color: #00af00\">0</span> │\n",
       "├─────────────────────────────────┼────────────────────────┼───────────────┤\n",
       "│ conv1d_16 (<span style=\"color: #0087ff; text-decoration-color: #0087ff\">Conv1D</span>)              │ (<span style=\"color: #00d7ff; text-decoration-color: #00d7ff\">None</span>, <span style=\"color: #00af00; text-decoration-color: #00af00\">50</span>, <span style=\"color: #00af00; text-decoration-color: #00af00\">64</span>)         │         <span style=\"color: #00af00; text-decoration-color: #00af00\">6,208</span> │\n",
       "├─────────────────────────────────┼────────────────────────┼───────────────┤\n",
       "│ conv1d_17 (<span style=\"color: #0087ff; text-decoration-color: #0087ff\">Conv1D</span>)              │ (<span style=\"color: #00d7ff; text-decoration-color: #00d7ff\">None</span>, <span style=\"color: #00af00; text-decoration-color: #00af00\">50</span>, <span style=\"color: #00af00; text-decoration-color: #00af00\">64</span>)         │        <span style=\"color: #00af00; text-decoration-color: #00af00\">12,352</span> │\n",
       "├─────────────────────────────────┼────────────────────────┼───────────────┤\n",
       "│ max_pooling1d_7 (<span style=\"color: #0087ff; text-decoration-color: #0087ff\">MaxPooling1D</span>)  │ (<span style=\"color: #00d7ff; text-decoration-color: #00d7ff\">None</span>, <span style=\"color: #00af00; text-decoration-color: #00af00\">25</span>, <span style=\"color: #00af00; text-decoration-color: #00af00\">64</span>)         │             <span style=\"color: #00af00; text-decoration-color: #00af00\">0</span> │\n",
       "├─────────────────────────────────┼────────────────────────┼───────────────┤\n",
       "│ conv1d_18 (<span style=\"color: #0087ff; text-decoration-color: #0087ff\">Conv1D</span>)              │ (<span style=\"color: #00d7ff; text-decoration-color: #00d7ff\">None</span>, <span style=\"color: #00af00; text-decoration-color: #00af00\">25</span>, <span style=\"color: #00af00; text-decoration-color: #00af00\">128</span>)        │        <span style=\"color: #00af00; text-decoration-color: #00af00\">24,704</span> │\n",
       "├─────────────────────────────────┼────────────────────────┼───────────────┤\n",
       "│ conv1d_19 (<span style=\"color: #0087ff; text-decoration-color: #0087ff\">Conv1D</span>)              │ (<span style=\"color: #00d7ff; text-decoration-color: #00d7ff\">None</span>, <span style=\"color: #00af00; text-decoration-color: #00af00\">25</span>, <span style=\"color: #00af00; text-decoration-color: #00af00\">128</span>)        │        <span style=\"color: #00af00; text-decoration-color: #00af00\">49,280</span> │\n",
       "├─────────────────────────────────┼────────────────────────┼───────────────┤\n",
       "│ max_pooling1d_8 (<span style=\"color: #0087ff; text-decoration-color: #0087ff\">MaxPooling1D</span>)  │ (<span style=\"color: #00d7ff; text-decoration-color: #00d7ff\">None</span>, <span style=\"color: #00af00; text-decoration-color: #00af00\">12</span>, <span style=\"color: #00af00; text-decoration-color: #00af00\">128</span>)        │             <span style=\"color: #00af00; text-decoration-color: #00af00\">0</span> │\n",
       "├─────────────────────────────────┼────────────────────────┼───────────────┤\n",
       "│ conv1d_20 (<span style=\"color: #0087ff; text-decoration-color: #0087ff\">Conv1D</span>)              │ (<span style=\"color: #00d7ff; text-decoration-color: #00d7ff\">None</span>, <span style=\"color: #00af00; text-decoration-color: #00af00\">12</span>, <span style=\"color: #00af00; text-decoration-color: #00af00\">256</span>)        │        <span style=\"color: #00af00; text-decoration-color: #00af00\">98,560</span> │\n",
       "├─────────────────────────────────┼────────────────────────┼───────────────┤\n",
       "│ global_average_pooling1d_2      │ (<span style=\"color: #00d7ff; text-decoration-color: #00d7ff\">None</span>, <span style=\"color: #00af00; text-decoration-color: #00af00\">256</span>)            │             <span style=\"color: #00af00; text-decoration-color: #00af00\">0</span> │\n",
       "│ (<span style=\"color: #0087ff; text-decoration-color: #0087ff\">GlobalAveragePooling1D</span>)        │                        │               │\n",
       "├─────────────────────────────────┼────────────────────────┼───────────────┤\n",
       "│ dense_4 (<span style=\"color: #0087ff; text-decoration-color: #0087ff\">Dense</span>)                 │ (<span style=\"color: #00d7ff; text-decoration-color: #00d7ff\">None</span>, <span style=\"color: #00af00; text-decoration-color: #00af00\">128</span>)            │        <span style=\"color: #00af00; text-decoration-color: #00af00\">32,896</span> │\n",
       "├─────────────────────────────────┼────────────────────────┼───────────────┤\n",
       "│ dense_5 (<span style=\"color: #0087ff; text-decoration-color: #0087ff\">Dense</span>)                 │ (<span style=\"color: #00d7ff; text-decoration-color: #00d7ff\">None</span>, <span style=\"color: #00af00; text-decoration-color: #00af00\">4</span>)              │           <span style=\"color: #00af00; text-decoration-color: #00af00\">516</span> │\n",
       "└─────────────────────────────────┴────────────────────────┴───────────────┘\n",
       "</pre>\n"
      ],
      "text/plain": [
       "┏━━━━━━━━━━━━━━━━━━━━━━━━━━━━━━━━━┳━━━━━━━━━━━━━━━━━━━━━━━━┳━━━━━━━━━━━━━━━┓\n",
       "┃\u001b[1m \u001b[0m\u001b[1mLayer (type)                   \u001b[0m\u001b[1m \u001b[0m┃\u001b[1m \u001b[0m\u001b[1mOutput Shape          \u001b[0m\u001b[1m \u001b[0m┃\u001b[1m \u001b[0m\u001b[1m      Param #\u001b[0m\u001b[1m \u001b[0m┃\n",
       "┡━━━━━━━━━━━━━━━━━━━━━━━━━━━━━━━━━╇━━━━━━━━━━━━━━━━━━━━━━━━╇━━━━━━━━━━━━━━━┩\n",
       "│ conv1d_14 (\u001b[38;5;33mConv1D\u001b[0m)              │ (\u001b[38;5;45mNone\u001b[0m, \u001b[38;5;34m100\u001b[0m, \u001b[38;5;34m32\u001b[0m)        │           \u001b[38;5;34m320\u001b[0m │\n",
       "├─────────────────────────────────┼────────────────────────┼───────────────┤\n",
       "│ conv1d_15 (\u001b[38;5;33mConv1D\u001b[0m)              │ (\u001b[38;5;45mNone\u001b[0m, \u001b[38;5;34m100\u001b[0m, \u001b[38;5;34m32\u001b[0m)        │         \u001b[38;5;34m3,104\u001b[0m │\n",
       "├─────────────────────────────────┼────────────────────────┼───────────────┤\n",
       "│ max_pooling1d_6 (\u001b[38;5;33mMaxPooling1D\u001b[0m)  │ (\u001b[38;5;45mNone\u001b[0m, \u001b[38;5;34m50\u001b[0m, \u001b[38;5;34m32\u001b[0m)         │             \u001b[38;5;34m0\u001b[0m │\n",
       "├─────────────────────────────────┼────────────────────────┼───────────────┤\n",
       "│ conv1d_16 (\u001b[38;5;33mConv1D\u001b[0m)              │ (\u001b[38;5;45mNone\u001b[0m, \u001b[38;5;34m50\u001b[0m, \u001b[38;5;34m64\u001b[0m)         │         \u001b[38;5;34m6,208\u001b[0m │\n",
       "├─────────────────────────────────┼────────────────────────┼───────────────┤\n",
       "│ conv1d_17 (\u001b[38;5;33mConv1D\u001b[0m)              │ (\u001b[38;5;45mNone\u001b[0m, \u001b[38;5;34m50\u001b[0m, \u001b[38;5;34m64\u001b[0m)         │        \u001b[38;5;34m12,352\u001b[0m │\n",
       "├─────────────────────────────────┼────────────────────────┼───────────────┤\n",
       "│ max_pooling1d_7 (\u001b[38;5;33mMaxPooling1D\u001b[0m)  │ (\u001b[38;5;45mNone\u001b[0m, \u001b[38;5;34m25\u001b[0m, \u001b[38;5;34m64\u001b[0m)         │             \u001b[38;5;34m0\u001b[0m │\n",
       "├─────────────────────────────────┼────────────────────────┼───────────────┤\n",
       "│ conv1d_18 (\u001b[38;5;33mConv1D\u001b[0m)              │ (\u001b[38;5;45mNone\u001b[0m, \u001b[38;5;34m25\u001b[0m, \u001b[38;5;34m128\u001b[0m)        │        \u001b[38;5;34m24,704\u001b[0m │\n",
       "├─────────────────────────────────┼────────────────────────┼───────────────┤\n",
       "│ conv1d_19 (\u001b[38;5;33mConv1D\u001b[0m)              │ (\u001b[38;5;45mNone\u001b[0m, \u001b[38;5;34m25\u001b[0m, \u001b[38;5;34m128\u001b[0m)        │        \u001b[38;5;34m49,280\u001b[0m │\n",
       "├─────────────────────────────────┼────────────────────────┼───────────────┤\n",
       "│ max_pooling1d_8 (\u001b[38;5;33mMaxPooling1D\u001b[0m)  │ (\u001b[38;5;45mNone\u001b[0m, \u001b[38;5;34m12\u001b[0m, \u001b[38;5;34m128\u001b[0m)        │             \u001b[38;5;34m0\u001b[0m │\n",
       "├─────────────────────────────────┼────────────────────────┼───────────────┤\n",
       "│ conv1d_20 (\u001b[38;5;33mConv1D\u001b[0m)              │ (\u001b[38;5;45mNone\u001b[0m, \u001b[38;5;34m12\u001b[0m, \u001b[38;5;34m256\u001b[0m)        │        \u001b[38;5;34m98,560\u001b[0m │\n",
       "├─────────────────────────────────┼────────────────────────┼───────────────┤\n",
       "│ global_average_pooling1d_2      │ (\u001b[38;5;45mNone\u001b[0m, \u001b[38;5;34m256\u001b[0m)            │             \u001b[38;5;34m0\u001b[0m │\n",
       "│ (\u001b[38;5;33mGlobalAveragePooling1D\u001b[0m)        │                        │               │\n",
       "├─────────────────────────────────┼────────────────────────┼───────────────┤\n",
       "│ dense_4 (\u001b[38;5;33mDense\u001b[0m)                 │ (\u001b[38;5;45mNone\u001b[0m, \u001b[38;5;34m128\u001b[0m)            │        \u001b[38;5;34m32,896\u001b[0m │\n",
       "├─────────────────────────────────┼────────────────────────┼───────────────┤\n",
       "│ dense_5 (\u001b[38;5;33mDense\u001b[0m)                 │ (\u001b[38;5;45mNone\u001b[0m, \u001b[38;5;34m4\u001b[0m)              │           \u001b[38;5;34m516\u001b[0m │\n",
       "└─────────────────────────────────┴────────────────────────┴───────────────┘\n"
      ]
     },
     "metadata": {},
     "output_type": "display_data"
    },
    {
     "data": {
      "text/html": [
       "<pre style=\"white-space:pre;overflow-x:auto;line-height:normal;font-family:Menlo,'DejaVu Sans Mono',consolas,'Courier New',monospace\"><span style=\"font-weight: bold\"> Total params: </span><span style=\"color: #00af00; text-decoration-color: #00af00\">227,942</span> (890.40 KB)\n",
       "</pre>\n"
      ],
      "text/plain": [
       "\u001b[1m Total params: \u001b[0m\u001b[38;5;34m227,942\u001b[0m (890.40 KB)\n"
      ]
     },
     "metadata": {},
     "output_type": "display_data"
    },
    {
     "data": {
      "text/html": [
       "<pre style=\"white-space:pre;overflow-x:auto;line-height:normal;font-family:Menlo,'DejaVu Sans Mono',consolas,'Courier New',monospace\"><span style=\"font-weight: bold\"> Trainable params: </span><span style=\"color: #00af00; text-decoration-color: #00af00\">227,940</span> (890.39 KB)\n",
       "</pre>\n"
      ],
      "text/plain": [
       "\u001b[1m Trainable params: \u001b[0m\u001b[38;5;34m227,940\u001b[0m (890.39 KB)\n"
      ]
     },
     "metadata": {},
     "output_type": "display_data"
    },
    {
     "data": {
      "text/html": [
       "<pre style=\"white-space:pre;overflow-x:auto;line-height:normal;font-family:Menlo,'DejaVu Sans Mono',consolas,'Courier New',monospace\"><span style=\"font-weight: bold\"> Non-trainable params: </span><span style=\"color: #00af00; text-decoration-color: #00af00\">0</span> (0.00 B)\n",
       "</pre>\n"
      ],
      "text/plain": [
       "\u001b[1m Non-trainable params: \u001b[0m\u001b[38;5;34m0\u001b[0m (0.00 B)\n"
      ]
     },
     "metadata": {},
     "output_type": "display_data"
    },
    {
     "data": {
      "text/html": [
       "<pre style=\"white-space:pre;overflow-x:auto;line-height:normal;font-family:Menlo,'DejaVu Sans Mono',consolas,'Courier New',monospace\"><span style=\"font-weight: bold\"> Optimizer params: </span><span style=\"color: #00af00; text-decoration-color: #00af00\">2</span> (12.00 B)\n",
       "</pre>\n"
      ],
      "text/plain": [
       "\u001b[1m Optimizer params: \u001b[0m\u001b[38;5;34m2\u001b[0m (12.00 B)\n"
      ]
     },
     "metadata": {},
     "output_type": "display_data"
    }
   ],
   "source": [
    "model.summary()"
   ]
  },
  {
   "cell_type": "code",
   "execution_count": 11,
   "metadata": {},
   "outputs": [
    {
     "name": "stdout",
     "output_type": "stream",
     "text": [
      "Weights: [[[-0.06533009  0.01465055  0.04903515 ... -0.07030709 -0.10935934\n",
      "    0.04529326]\n",
      "  [-0.02066505  0.07512125  0.01408713 ...  0.09727408 -0.10406874\n",
      "   -0.09369133]\n",
      "  [-0.00220207  0.03903237 -0.09389728 ... -0.01721722  0.04956792\n",
      "    0.11253052]\n",
      "  ...\n",
      "  [ 0.11987542 -0.01493703  0.03836576 ... -0.05149253  0.01662376\n",
      "    0.03275509]\n",
      "  [-0.09578639 -0.06427402  0.11012019 ...  0.0650133  -0.05571481\n",
      "    0.10697383]\n",
      "  [ 0.0709341   0.07440424  0.05867425 ...  0.02309787 -0.00191521\n",
      "   -0.06890205]]\n",
      "\n",
      " [[-0.08294829 -0.05767635 -0.11378863 ... -0.12070255 -0.13351583\n",
      "    0.09597548]\n",
      "  [ 0.0888989  -0.07722258 -0.03345476 ... -0.04897784  0.05601501\n",
      "   -0.02668821]\n",
      "  [-0.0752914  -0.02434715  0.01128014 ...  0.06345661  0.1186678\n",
      "    0.09951107]\n",
      "  ...\n",
      "  [ 0.11922347  0.08434505 -0.06219047 ...  0.15104212 -0.02406739\n",
      "   -0.04439578]\n",
      "  [-0.03735835  0.12801227 -0.05124204 ... -0.07896154 -0.03398873\n",
      "   -0.08632689]\n",
      "  [ 0.09843727  0.09037968  0.12423116 ...  0.13063376 -0.00860434\n",
      "    0.13669449]]\n",
      "\n",
      " [[-0.09011038  0.0038827  -0.07124691 ...  0.01714502 -0.09854527\n",
      "    0.08810798]\n",
      "  [-0.13307045 -0.09907295  0.07367374 ... -0.03635558 -0.06811669\n",
      "   -0.01422324]\n",
      "  [-0.10310096  0.05369161 -0.0460295  ...  0.02734472 -0.09066896\n",
      "   -0.02607599]\n",
      "  ...\n",
      "  [ 0.13810456 -0.09319317 -0.04131919 ...  0.01393906  0.0106884\n",
      "    0.07943356]\n",
      "  [-0.00126769 -0.02445465 -0.07398838 ... -0.0338993   0.09983398\n",
      "    0.04046777]\n",
      "  [ 0.05875597 -0.01028081 -0.10817566 ... -0.09306607  0.13606714\n",
      "   -0.03558354]]]\n",
      "Biases: [-8.56192224e-03 -1.28124645e-02 -3.66250006e-03 -7.20524788e-03\n",
      " -4.39839950e-03 -5.53795509e-03 -1.48998154e-02 -3.22669395e-03\n",
      "  9.20560062e-02  1.84481423e-02 -7.83331133e-03 -6.58865087e-03\n",
      " -8.17529764e-03  1.15721505e-02 -6.84868195e-04  8.45787395e-03\n",
      " -9.94770601e-03  3.83521267e-03 -1.22160725e-02 -6.74818363e-03\n",
      " -1.32028684e-02 -1.89717971e-02 -1.23322448e-02 -6.56730635e-03\n",
      "  1.91511845e-05 -1.57932844e-02 -2.91028321e-02 -1.55784125e-02\n",
      "  4.42631543e-03 -2.59629190e-02 -7.45354732e-03 -8.27219151e-03\n",
      "  3.79112596e-03 -1.36117339e-02 -1.18713370e-02 -1.04056150e-02\n",
      " -1.55691779e-03 -8.41354020e-03  7.83754420e-03 -2.19024327e-02\n",
      " -2.41533760e-02  5.24732284e-03 -8.35839380e-03 -1.53809255e-02\n",
      "  7.91268982e-03  4.62348647e-02 -1.07037323e-03 -9.78196971e-03\n",
      " -3.95365059e-03  8.59380979e-03 -2.25446709e-02 -7.86637422e-03\n",
      " -1.44572090e-02  1.43872853e-02 -1.22540910e-02  1.07687293e-02\n",
      " -7.99824949e-03  3.45546589e-03 -7.52069103e-03 -3.46577610e-03\n",
      " -7.91283045e-03 -4.68053203e-03 -9.56300367e-03 -1.97590850e-02]\n"
     ]
    },
    {
     "ename": "ValueError",
     "evalue": "The truth value of an array with more than one element is ambiguous. Use a.any() or a.all()",
     "output_type": "error",
     "traceback": [
      "\u001b[0;31m---------------------------------------------------------------------------\u001b[0m",
      "\u001b[0;31mValueError\u001b[0m                                Traceback (most recent call last)",
      "Cell \u001b[0;32mIn[11], line 8\u001b[0m\n\u001b[1;32m      5\u001b[0m \u001b[38;5;28mprint\u001b[39m(\u001b[38;5;124m\"\u001b[39m\u001b[38;5;124mWeights:\u001b[39m\u001b[38;5;124m\"\u001b[39m, weights)\n\u001b[1;32m      6\u001b[0m \u001b[38;5;28mprint\u001b[39m(\u001b[38;5;124m\"\u001b[39m\u001b[38;5;124mBiases:\u001b[39m\u001b[38;5;124m\"\u001b[39m, biases)\n\u001b[0;32m----> 8\u001b[0m \u001b[38;5;28mprint\u001b[39m(\u001b[38;5;28;43mmin\u001b[39;49m\u001b[43m(\u001b[49m\u001b[43mweights\u001b[49m\u001b[43m)\u001b[49m)\n",
      "\u001b[0;31mValueError\u001b[0m: The truth value of an array with more than one element is ambiguous. Use a.any() or a.all()"
     ]
    }
   ],
   "source": [
    "# 첫 번째 레이어의 가중치와 바이어스 가져오기\n",
    "weights, biases = model.layers[4].get_weights()\n",
    "\n",
    "# 가중치 및 바이어스 값 출력\n",
    "print(\"Weights:\", weights)\n",
    "print(\"Biases:\", biases)\n",
    "\n",
    "print(min(weights))\n",
    "\n"
   ]
  },
  {
   "cell_type": "code",
   "execution_count": 2,
   "metadata": {},
   "outputs": [],
   "source": [
    "import pandas as pd\n",
    "\n",
    "label_0 = pd.read_csv(\"data/label_0_data.csv\")\n",
    "label_1 = pd.read_csv(\"data/label_1b_data.csv\")\n",
    "label_2 = pd.read_csv(\"data/label_2_data.csv\")\n",
    "label_3 = pd.read_csv(\"data/label_3_data.csv\")"
   ]
  },
  {
   "cell_type": "code",
   "execution_count": 91,
   "metadata": {},
   "outputs": [],
   "source": [
    "import matplotlib.pyplot as plt\n",
    "import numpy as np\n",
    "from scipy.ndimage import gaussian_filter1d\n",
    "\n",
    "def multiple_plotting():\n",
    "    # 파일 경로, 이름 설정해주세요.\n",
    "    data1_df = pd.read_csv('data/label_0_full.csv', header=None)\n",
    "    data2_df = pd.read_csv('data/label_1_full.csv', header=None)\n",
    "    data3_df = pd.read_csv('data/label_2_full.csv', header=None)\n",
    "    data4_df = pd.read_csv('data/label_3_full.csv', header=None)\n",
    "\n",
    "    data1_df.columns = ['x', 'y', 'z']\n",
    "    data2_df.columns = ['x', 'y', 'z']\n",
    "    data3_df.columns = ['x', 'y', 'z']\n",
    "    data4_df.columns = ['x', 'y', 'z']\n",
    "\n",
    "\n",
    "    vector_value1 = np.sqrt(data1_df['x']** 2 + data1_df['y']**2 + data1_df['z']**2)\n",
    "    vector_value2 = np.sqrt(data2_df['x']** 2 + data2_df['y']**2 + data2_df['z']**2)\n",
    "    vector_value3 = np.sqrt(data3_df['x']** 2 + data3_df['y']**2 + data3_df['z']**2)\n",
    "    vector_value4 = np.sqrt(data4_df['x']** 2 + data4_df['y']**2 + data4_df['z']**2)\n",
    "\n",
    "    plt.figure(figsize=(20,20))\n",
    "    fig, axes = plt.subplots(nrows=2, ncols=2)\n",
    "\n",
    "    axes[0][0].plot(vector_value1)\n",
    "    axes[0][1].plot(vector_value2)\n",
    "    axes[1][0].plot(vector_value3)\n",
    "    axes[1][1].plot(vector_value4)\n",
    "    plt.show()"
   ]
  },
  {
   "cell_type": "code",
   "execution_count": 92,
   "metadata": {},
   "outputs": [
    {
     "data": {
      "text/plain": [
       "<Figure size 2000x2000 with 0 Axes>"
      ]
     },
     "metadata": {},
     "output_type": "display_data"
    },
    {
     "data": {
      "image/png": "[encoded data removed]",
      "text/plain": [
       "<Figure size 640x480 with 4 Axes>"
      ]
     },
     "metadata": {},
     "output_type": "display_data"
    }
   ],
   "source": [
    "multiple_plotting()"
   ]
  },
  {
   "cell_type": "code",
   "execution_count": 5,
   "metadata": {},
   "outputs": [
    {
     "name": "stdout",
     "output_type": "stream",
     "text": [
      "359900\n",
      "359800\n",
      "359900\n",
      "359900\n"
     ]
    },
    {
     "name": "stderr",
     "output_type": "stream",
     "text": [
      "/Users/seyeong/anaconda3/envs/anomaly_detection/lib/python3.10/site-packages/numpy/core/fromnumeric.py:59: FutureWarning: 'DataFrame.swapaxes' is deprecated and will be removed in a future version. Please use 'DataFrame.transpose' instead.\n",
      "  return bound(*args, **kwds)\n"
     ]
    }
   ],
   "source": [
    "len_0 = len(label_0)\n",
    "len_1 = len(label_1)\n",
    "len_2 = len(label_2)\n",
    "len_3 = len(label_3)\n",
    "\n",
    "label_X = [label_0, label_1, label_2, label_3]\n",
    "rem = [len_0, len_1, len_2, len_3]\n",
    "\n",
    "for i in range(4):\n",
    "    r = rem[i] % 100\n",
    "    label_X[i] = label_X[i].iloc[:rem[i] - r]\n",
    "\n",
    "    print(len(label_X[i]))\n",
    "\n",
    "data_split_0 = np.array_split(label_X[0], len(label_X[0]) // 100)\n",
    "data_split_1 = np.array_split(label_X[1], len(label_X[1]) // 100)\n",
    "data_split_2 = np.array_split(label_X[2], len(label_X[2]) // 100)\n",
    "data_split_3 = np.array_split(label_X[3], len(label_X[3]) // 100)\n",
    "\n",
    "\n",
    "y_label_0 = np.zeros(len(data_split_0))\n",
    "y_label_1 = np.ones(len(data_split_1))\n",
    "y_label_2 = np.full(len(data_split_2), 2)\n",
    "y_label_3 = np.full(len(data_split_3), 3)"
   ]
  },
  {
   "cell_type": "code",
   "execution_count": 8,
   "metadata": {},
   "outputs": [
    {
     "data": {
      "text/plain": [
       "array([[[ 0.989293,  0.00706 ,  0.008017],\n",
       "        [ 0.878125,  0.016363,  0.009689],\n",
       "        [ 0.952647,  0.011712,  0.015421],\n",
       "        ...,\n",
       "        [ 1.033317,  0.010733,  0.008972],\n",
       "        [ 1.035531,  0.008529,  0.006345],\n",
       "        [ 0.959288,  0.014894,  0.00159 ]],\n",
       "\n",
       "       [[ 0.970109,  0.010488,  0.006345],\n",
       "        [ 1.019544,  0.008774,  0.011361],\n",
       "        [ 1.003312,  0.011712,  0.001832],\n",
       "        ...,\n",
       "        [ 0.972077,  0.007795, -0.001557],\n",
       "        [ 0.887963,  0.006815,  0.004912],\n",
       "        [ 0.974044,  0.009998,  0.014943]],\n",
       "\n",
       "       [[ 1.015855,  0.017588,  0.006345],\n",
       "        [ 0.924363,  0.00755 ,  0.012555],\n",
       "        [ 0.999623,  0.012446,  0.007301],\n",
       "        ...,\n",
       "        [ 1.003558,  0.008039,  0.012555],\n",
       "        [ 1.003558,  0.008039,  0.012555],\n",
       "        [ 1.00405 ,  0.007795,  0.006345]],\n",
       "\n",
       "       ...,\n",
       "\n",
       "       [[ 0.982407,  0.010243, -0.058443],\n",
       "        [ 1.010198,  0.010977, -0.049244],\n",
       "        [ 1.005525,  0.013915, -0.053843],\n",
       "        ...,\n",
       "        [ 0.823033,  0.013181, -0.04174 ],\n",
       "        [ 0.952647,  0.016119, -0.057474],\n",
       "        [ 0.968634,  0.012936, -0.054086]],\n",
       "\n",
       "       [[ 0.951663,  0.011467, -0.064736],\n",
       "        [ 1.014871,  0.005346, -0.072483],\n",
       "        [ 1.014871,  0.005346, -0.072483],\n",
       "        ...,\n",
       "        [ 0.851071,  0.011957, -0.046339],\n",
       "        [ 0.851071,  0.011957, -0.046339],\n",
       "        [ 0.959288,  0.00706 , -0.065463]],\n",
       "\n",
       "       [[ 0.998393,  0.01367 , -0.058685],\n",
       "        [ 0.986096,  0.019546, -0.063042],\n",
       "        [ 0.986096,  0.019546, -0.063042],\n",
       "        ...,\n",
       "        [ 1.090869,  0.010977, -0.079018],\n",
       "        [ 1.090869,  0.010977, -0.079018],\n",
       "        [ 1.009215,  0.01416 , -0.058201]]])"
      ]
     },
     "execution_count": 8,
     "metadata": {},
     "output_type": "execute_result"
    }
   ],
   "source": [
    "x_test = np.concatenate([data_split_0, data_split_1, data_split_2, data_split_3])\n",
    "x_test"
   ]
  },
  {
   "cell_type": "code",
   "execution_count": null,
   "metadata": {},
   "outputs": [],
   "source": [
    "y_test_one_hot = to_categorical(y_test_concat, num_classes=4)"
   ]
  },
  {
   "cell_type": "code",
   "execution_count": 79,
   "metadata": {},
   "outputs": [
    {
     "name": "stdout",
     "output_type": "stream",
     "text": [
      "(15888, 4)\n",
      "(15888, 3)\n",
      "(2056, 3)\n",
      "(2055, 3)\n",
      "Label 0 Data:\n",
      "15888\n",
      "2056\n",
      "2055\n",
      "0\n"
     ]
    }
   ],
   "source": [
    "import pandas as pd\n",
    "\n",
    "data = pd.read_csv(\"data/sensor_data_b.csv\")\n",
    "df = pd.DataFrame(data)\n",
    "\n",
    "label_0 = df[df.iloc[:, -1] == 0]\n",
    "label_1 = df[df.iloc[:, -1] == 1]\n",
    "label_2 = df[df.iloc[:, -1] == 2]\n",
    "label_3 = df[df.iloc[:, -1] == 3]\n",
    "# label_1 = df[df['label'] == 1]\n",
    "# label_2 = df[df['label'] == 2]\n",
    "# label_3 = df[df['label'] == 3]\n",
    "\n",
    "y_label_0 = label_0.iloc[:, -1]\n",
    "x_label_0 = label_0.iloc[:, :-1]\n",
    "\n",
    "y_label_1 = label_1.iloc[:, -1]\n",
    "x_label_1 = label_1.iloc[:, :-1]\n",
    "\n",
    "y_label_2 = label_2.iloc[:, -1]\n",
    "x_label_2 = label_2.iloc[:, :-1]\n",
    "\n",
    "print(label_0.shape)\n",
    "# print(y_label_0.shape)\n",
    "print(x_label_0.shape)\n",
    "print(x_label_1.shape)\n",
    "print(x_label_2.shape)\n",
    "\n",
    "\n",
    "print(\"Label 0 Data:\")\n",
    "print(len(label_0))\n",
    "print(len(label_1))\n",
    "print(len(label_2))\n",
    "print(len(label_3))\n"
   ]
  },
  {
   "cell_type": "code",
   "execution_count": 87,
   "metadata": {},
   "outputs": [
    {
     "name": "stdout",
     "output_type": "stream",
     "text": [
      "158 158\n",
      "20 20\n",
      "20 20\n",
      "158 100 20 100 20 100\n"
     ]
    },
    {
     "name": "stderr",
     "output_type": "stream",
     "text": [
      "/Users/seyeong/anaconda3/envs/anomaly_detection/lib/python3.10/site-packages/numpy/core/fromnumeric.py:59: FutureWarning: 'DataFrame.swapaxes' is deprecated and will be removed in a future version. Please use 'DataFrame.transpose' instead.\n",
      "  return bound(*args, **kwds)\n"
     ]
    }
   ],
   "source": [
    "def split_data(data):\n",
    "    num_full_chunks = len(data) // 100  \n",
    "    split_data = np.array_split(data[:num_full_chunks * 100], num_full_chunks)\n",
    "    return split_data\n",
    "\n",
    "x_test_0 = split_data(x_label_0)\n",
    "x_test_1 = split_data(x_label_1)\n",
    "x_test_2 = split_data(x_label_2)\n",
    "\n",
    "y_label_0 = np.zeros(len(x_test_0))\n",
    "y_label_1 = np.ones(len(x_test_1))\n",
    "y_label_2 = np.full(len(x_test_2), 2)\n",
    "\n",
    "print(len(x_test_0), len(y_label_0))\n",
    "print(len(x_test_1), len(y_label_1))\n",
    "print(len(x_test_2), len(y_label_2))\n",
    "\n",
    "\n",
    "\n",
    "print(len(x_test_0), len(x_test_0[0]), len(x_test_1), len(x_test_1[0]), len(x_test_2), len(x_test_2[0]))\n"
   ]
  },
  {
   "cell_type": "code",
   "execution_count": 89,
   "metadata": {},
   "outputs": [
    {
     "data": {
      "text/plain": [
       "(198, 100, 3)"
      ]
     },
     "execution_count": 89,
     "metadata": {},
     "output_type": "execute_result"
    }
   ],
   "source": [
    "x_test_concat = np.concatenate([x_test_0, x_test_1, x_test_2], axis=0)\n",
    "y_test_concat = np.concatenate([y_label_0, y_label_1, y_label_2], axis=0)\n",
    "\n",
    "x_test_concat.shape\n",
    "# y_test_concat.shape\n",
    "# x_test_0 = np.array(x_test_0)"
   ]
  },
  {
   "cell_type": "code",
   "execution_count": null,
   "metadata": {},
   "outputs": [],
   "source": []
  }
 ],
 "metadata": {
  "kernelspec": {
   "display_name": "anomaly_detection",
   "language": "python",
   "name": "python3"
  },
  "language_info": {
   "codemirror_mode": {
    "name": "ipython",
    "version": 3
   },
   "file_extension": ".py",
   "mimetype": "text/x-python",
   "name": "python",
   "nbconvert_exporter": "python",
   "pygments_lexer": "ipython3",
   "version": "3.10.14"
  }
 },
 "nbformat": 4,
 "nbformat_minor": 2
}
