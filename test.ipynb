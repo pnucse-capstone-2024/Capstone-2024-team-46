{
 "cells": [
  {
   "cell_type": "code",
   "execution_count": 1,
   "metadata": {},
   "outputs": [
    {
     "name": "stdout",
     "output_type": "stream",
     "text": [
      "128\n"
     ]
    }
   ],
   "source": [
    "print(21*6+2)"
   ]
  },
  {
   "cell_type": "code",
   "execution_count": 13,
   "metadata": {},
   "outputs": [
    {
     "name": "stdout",
     "output_type": "stream",
     "text": [
      "11\n"
     ]
    }
   ],
   "source": [
    "import pandas as pd\n",
    "data = pd.read_csv(\"data/label_3_test4_output.csv\")\n",
    "len(data)\n",
    "# print(data)\n",
    "\n",
    "data_list = data.values.tolist()\n",
    "\n",
    "# 결과 출력\n",
    "print(len(data_list))"
   ]
  },
  {
   "cell_type": "code",
   "execution_count": 17,
   "metadata": {},
   "outputs": [
    {
     "name": "stdout",
     "output_type": "stream",
     "text": [
      "0, 0.5286\n",
      "\n",
      "0, 0.5265\n",
      "\n",
      "0, 0.5281\n",
      "\n",
      "0, 0.5273\n",
      "\n",
      "0, 0.5280\n",
      "\n",
      "0, 0.5286\n",
      "\n",
      "0, 0.5286\n",
      "\n",
      "0, 0.5265\n",
      "\n",
      "0, 0.5292\n",
      "\n",
      "0, 0.5280\n",
      "\n",
      "0, 0.5284\n",
      "\n"
     ]
    }
   ],
   "source": [
    "import numpy as np\n",
    "\n",
    "def softmax(input_array):\n",
    "    # 최대값을 빼서 overflow 방지\n",
    "    max_val = np.max(input_array)\n",
    "    exp_array = np.exp(input_array - max_val)\n",
    "    sum_exp = np.sum(exp_array)\n",
    "    return exp_array / sum_exp\n",
    "\n",
    "def reduce_output(softmax_output, num_classes):\n",
    "    # 각 클래스에 대한 출력을 수집\n",
    "    class_size = len(softmax_output) // num_classes  # 각 클래스에 해당하는 출력 개수\n",
    "    final_output = np.zeros(num_classes)\n",
    "\n",
    "    for i in range(num_classes):\n",
    "        # 각 클래스에 해당하는 softmax_output의 합을 계산\n",
    "        final_output[i] = np.sum(softmax_output[i * class_size:(i + 1) * class_size])\n",
    "\n",
    "    # 총합으로 정규화\n",
    "    final_output /= np.sum(final_output)\n",
    "    return final_output\n",
    "\n",
    "# 128개의 랜덤 입력값 생성 (예시)\n",
    "# input_array = np.random.rand(128)\n",
    "input_array = np.array([0., 0., 0., 3.736754, 0., 0.,\n",
    "                  4.580537, 0., 0., 4.652861, 0., 0.4098375,\n",
    "                  0., 0., 0.57859415, 0., 2.7483222, 0.,\n",
    "                  0.12054045, 0., 0., 0., 0., 0., 3.3992407,\n",
    "                  0., 1.8081067, 0., 2.3384848, 0., 0.,\n",
    "                  0., 0., 0., 0., 0., 0., 0., 0.,\n",
    "                  0., 0., 0., 0., 0., 0., 0., 0.,\n",
    "                  2.8206465, 0., 0., 0., 0., 1.4705935,\n",
    "                  0., 0., 0., 0., 0., 0., 0., 0.,\n",
    "                  0., 0., 2.3867009, 0., 0., 3.3751326,\n",
    "                  3.6644297, 0., 0., 0., 0., 0.,\n",
    "                  0.4339456, 0., 0., 0., 0., 0.,\n",
    "                  0., 0., 0., 1.8804309, 0., 0.,\n",
    "                  2.0974038, 2.965295, 0., 0.795567, 0.,\n",
    "                  0., 0., 0., 0., 0., 0., 0., 0.,\n",
    "                  0., 0., 0., 0., 0., 0., 2.6277819,\n",
    "                  0., 0., 3.0858355, 0., 0., 0.,\n",
    "                  0., 0., 0., 0.530378, 0., 0.,\n",
    "                  0., 2.7001061, 0., 0., 0., 0.,\n",
    "                  0., 0.8919993, 0., 0., 2.0250795, 3.0135112,\n",
    "                  0., 0.])\n",
    "\n",
    "# 소프트맥스 계산\n",
    "\n",
    "for i in range(len(data_list)):\n",
    "    softmax_output = softmax(data_list[i])\n",
    "\n",
    "    # 4개의 출력으로 변환\n",
    "    final_output = reduce_output(softmax_output, num_classes=4)\n",
    "\n",
    "    max_index = np.argmax(final_output)\n",
    "    max_value = final_output[max_index]\n",
    "    print(f\"{max_index}, {final_output[max_index]:.4f}\")\n",
    "\n",
    "    # # 결과 출력\n",
    "    # for i in range(4):\n",
    "    #     print(f\"Class {i} Probability: {final_output[i]:.4f}\")\n",
    "    print()\n",
    "\n",
    "# 총합이 1인지 확인\n",
    "# print(f\"Total Probability Sum: {np.sum(final_output):.4f}\")\n"
   ]
  }
 ],
 "metadata": {
  "kernelspec": {
   "display_name": "anomaly_detection",
   "language": "python",
   "name": "python3"
  },
  "language_info": {
   "codemirror_mode": {
    "name": "ipython",
    "version": 3
   },
   "file_extension": ".py",
   "mimetype": "text/x-python",
   "name": "python",
   "nbconvert_exporter": "python",
   "pygments_lexer": "ipython3",
   "version": "3.10.14"
  }
 },
 "nbformat": 4,
 "nbformat_minor": 2
}
