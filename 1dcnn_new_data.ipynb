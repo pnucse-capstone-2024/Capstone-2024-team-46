{
 "cells": [
  {
   "cell_type": "markdown",
   "metadata": {},
   "source": [
    "# CNN model "
   ]
  },
  {
   "cell_type": "markdown",
   "metadata": {},
   "source": [
    "### Loading the dataset"
   ]
  },
  {
   "cell_type": "code",
   "execution_count": 2,
   "metadata": {},
   "outputs": [],
   "source": [
    "import matplotlib.pyplot as plt\n",
    "import numpy as np\n",
    "from scipy.ndimage import gaussian_filter1d\n",
    "import pandas as pd\n",
    "import numpy as np"
   ]
  },
  {
   "cell_type": "code",
   "execution_count": 165,
   "metadata": {},
   "outputs": [],
   "source": [
    "# from sklearn.preprocessing import StandardScaler\n",
    "\n",
    "# scaler = StandardScaler()"
   ]
  },
  {
   "cell_type": "markdown",
   "metadata": {},
   "source": [
    "### Define the constants"
   ]
  },
  {
   "cell_type": "code",
   "execution_count": 3,
   "metadata": {},
   "outputs": [],
   "source": [
    "DATA_SLICE_SIZE = 100\n",
    "ANOMALY_INJECTION_SAMPLE_SIZE = 4000"
   ]
  },
  {
   "cell_type": "code",
   "execution_count": 4,
   "metadata": {},
   "outputs": [],
   "source": [
    "def multiple_plotting(path_list):\n",
    "    n_paths = len(path_list)\n",
    "    data_df_list = []\n",
    "\n",
    "    if n_paths == 0:\n",
    "        print(\"Insert the correct paths!\")\n",
    "\n",
    "    # let last column vacant if the # of paths are odd\n",
    "    vacant_col = n_paths % 2 != 0\n",
    "\n",
    "    for path in path_list:\n",
    "        data_df = pd.read_csv(path, header=None)\n",
    "        data_df.columns = ['x', 'y', 'z']\n",
    "        data_df_list.append(data_df)\n",
    "\n",
    "\n",
    "    #################### Do not touch the logic\n",
    "    n_rows = n_paths // 2\n",
    "    if vacant_col:\n",
    "        n_rows += 1\n",
    "    fig, axes = plt.subplots(nrows=n_rows, ncols=2, figsize=(8, 2 * n_rows))\n",
    "\n",
    "\n",
    "    for ax in axes.flatten():\n",
    "        ax.set_ylim(0.6, 1.4)\n",
    "\n",
    "    cur_df = 0\n",
    "\n",
    "    # For edge case: only for one or two path list\n",
    "    if n_paths <= 2:\n",
    "        if not vacant_col:\n",
    "            vector_value_2 = np.sqrt(data_df_list[1]['x']**2 + data_df_list[1]['y']**2 + data_df_list[1]['z']**2)\n",
    "            axes[1].plot(vector_value_2)\n",
    "        vector_value_1 = np.sqrt(data_df_list[0]['x']**2 + data_df_list[0]['y']**2 + data_df_list[0]['z']**2)\n",
    "        axes[0].plot(vector_value_1)\n",
    "        return\n",
    "\n",
    "    # For Normal case: more than two path list\n",
    "    for i in range(n_rows):\n",
    "        for j in range(2):\n",
    "            # Check whether last col should be vacant or not\n",
    "            if i == n_paths // 2 and j == 1 and vacant_col:\n",
    "                axes[i, j].axis('off')\n",
    "                continue\n",
    "            ##\n",
    "            vector_value = np.sqrt(data_df_list[cur_df]['x']**2 + data_df_list[cur_df]['y']**2 + data_df_list[cur_df]['z']**2)\n",
    "            axes[i, j].plot(vector_value)\n",
    "\n",
    "            cur_df += 1\n",
    "    ####################\n",
    "\n",
    "    plt.show()"
   ]
  },
  {
   "cell_type": "code",
   "execution_count": 5,
   "metadata": {},
   "outputs": [
    {
     "ename": "FileNotFoundError",
     "evalue": "[Errno 2] No such file or directory: 'data/normal_9v_data.csv'",
     "output_type": "error",
     "traceback": [
      "\u001b[0;31m---------------------------------------------------------------------------\u001b[0m",
      "\u001b[0;31mFileNotFoundError\u001b[0m                         Traceback (most recent call last)",
      "Cell \u001b[0;32mIn[5], line 2\u001b[0m\n\u001b[1;32m      1\u001b[0m \u001b[38;5;66;03m# Insert data paths in one list\u001b[39;00m\n\u001b[0;32m----> 2\u001b[0m \u001b[43mmultiple_plotting\u001b[49m\u001b[43m(\u001b[49m\u001b[43m[\u001b[49m\u001b[38;5;124;43m'\u001b[39;49m\u001b[38;5;124;43mdata/normal_9v_data.csv\u001b[39;49m\u001b[38;5;124;43m'\u001b[39;49m\u001b[43m,\u001b[49m\u001b[43m \u001b[49m\u001b[38;5;124;43m'\u001b[39;49m\u001b[38;5;124;43mdata/normal_10v_data.csv\u001b[39;49m\u001b[38;5;124;43m'\u001b[39;49m\u001b[43m,\u001b[49m\n\u001b[1;32m      3\u001b[0m \u001b[43m                   \u001b[49m\u001b[38;5;124;43m'\u001b[39;49m\u001b[38;5;124;43mdata/normal_11v_data.csv\u001b[39;49m\u001b[38;5;124;43m'\u001b[39;49m\u001b[43m,\u001b[49m\u001b[43m \u001b[49m\u001b[38;5;124;43m'\u001b[39;49m\u001b[38;5;124;43mdata/normal_12v_data.csv\u001b[39;49m\u001b[38;5;124;43m'\u001b[39;49m\u001b[43m,\u001b[49m\n\u001b[1;32m      4\u001b[0m \u001b[43m                   \u001b[49m\u001b[38;5;124;43m'\u001b[39;49m\u001b[38;5;124;43mdata/normal_11v_data.csv\u001b[39;49m\u001b[38;5;124;43m'\u001b[39;49m\u001b[43m,\u001b[49m\u001b[43m]\u001b[49m\u001b[43m)\u001b[49m\n",
      "Cell \u001b[0;32mIn[4], line 12\u001b[0m, in \u001b[0;36mmultiple_plotting\u001b[0;34m(path_list)\u001b[0m\n\u001b[1;32m      9\u001b[0m vacant_col \u001b[38;5;241m=\u001b[39m n_paths \u001b[38;5;241m%\u001b[39m \u001b[38;5;241m2\u001b[39m \u001b[38;5;241m!=\u001b[39m \u001b[38;5;241m0\u001b[39m\n\u001b[1;32m     11\u001b[0m \u001b[38;5;28;01mfor\u001b[39;00m path \u001b[38;5;129;01min\u001b[39;00m path_list:\n\u001b[0;32m---> 12\u001b[0m     data_df \u001b[38;5;241m=\u001b[39m \u001b[43mpd\u001b[49m\u001b[38;5;241;43m.\u001b[39;49m\u001b[43mread_csv\u001b[49m\u001b[43m(\u001b[49m\u001b[43mpath\u001b[49m\u001b[43m,\u001b[49m\u001b[43m \u001b[49m\u001b[43mheader\u001b[49m\u001b[38;5;241;43m=\u001b[39;49m\u001b[38;5;28;43;01mNone\u001b[39;49;00m\u001b[43m)\u001b[49m\n\u001b[1;32m     13\u001b[0m     data_df\u001b[38;5;241m.\u001b[39mcolumns \u001b[38;5;241m=\u001b[39m [\u001b[38;5;124m'\u001b[39m\u001b[38;5;124mx\u001b[39m\u001b[38;5;124m'\u001b[39m, \u001b[38;5;124m'\u001b[39m\u001b[38;5;124my\u001b[39m\u001b[38;5;124m'\u001b[39m, \u001b[38;5;124m'\u001b[39m\u001b[38;5;124mz\u001b[39m\u001b[38;5;124m'\u001b[39m]\n\u001b[1;32m     14\u001b[0m     data_df_list\u001b[38;5;241m.\u001b[39mappend(data_df)\n",
      "File \u001b[0;32m~/anaconda3/envs/anomaly_detection/lib/python3.10/site-packages/pandas/io/parsers/readers.py:1026\u001b[0m, in \u001b[0;36mread_csv\u001b[0;34m(filepath_or_buffer, sep, delimiter, header, names, index_col, usecols, dtype, engine, converters, true_values, false_values, skipinitialspace, skiprows, skipfooter, nrows, na_values, keep_default_na, na_filter, verbose, skip_blank_lines, parse_dates, infer_datetime_format, keep_date_col, date_parser, date_format, dayfirst, cache_dates, iterator, chunksize, compression, thousands, decimal, lineterminator, quotechar, quoting, doublequote, escapechar, comment, encoding, encoding_errors, dialect, on_bad_lines, delim_whitespace, low_memory, memory_map, float_precision, storage_options, dtype_backend)\u001b[0m\n\u001b[1;32m   1013\u001b[0m kwds_defaults \u001b[38;5;241m=\u001b[39m _refine_defaults_read(\n\u001b[1;32m   1014\u001b[0m     dialect,\n\u001b[1;32m   1015\u001b[0m     delimiter,\n\u001b[0;32m   (...)\u001b[0m\n\u001b[1;32m   1022\u001b[0m     dtype_backend\u001b[38;5;241m=\u001b[39mdtype_backend,\n\u001b[1;32m   1023\u001b[0m )\n\u001b[1;32m   1024\u001b[0m kwds\u001b[38;5;241m.\u001b[39mupdate(kwds_defaults)\n\u001b[0;32m-> 1026\u001b[0m \u001b[38;5;28;01mreturn\u001b[39;00m \u001b[43m_read\u001b[49m\u001b[43m(\u001b[49m\u001b[43mfilepath_or_buffer\u001b[49m\u001b[43m,\u001b[49m\u001b[43m \u001b[49m\u001b[43mkwds\u001b[49m\u001b[43m)\u001b[49m\n",
      "File \u001b[0;32m~/anaconda3/envs/anomaly_detection/lib/python3.10/site-packages/pandas/io/parsers/readers.py:620\u001b[0m, in \u001b[0;36m_read\u001b[0;34m(filepath_or_buffer, kwds)\u001b[0m\n\u001b[1;32m    617\u001b[0m _validate_names(kwds\u001b[38;5;241m.\u001b[39mget(\u001b[38;5;124m\"\u001b[39m\u001b[38;5;124mnames\u001b[39m\u001b[38;5;124m\"\u001b[39m, \u001b[38;5;28;01mNone\u001b[39;00m))\n\u001b[1;32m    619\u001b[0m \u001b[38;5;66;03m# Create the parser.\u001b[39;00m\n\u001b[0;32m--> 620\u001b[0m parser \u001b[38;5;241m=\u001b[39m \u001b[43mTextFileReader\u001b[49m\u001b[43m(\u001b[49m\u001b[43mfilepath_or_buffer\u001b[49m\u001b[43m,\u001b[49m\u001b[43m \u001b[49m\u001b[38;5;241;43m*\u001b[39;49m\u001b[38;5;241;43m*\u001b[39;49m\u001b[43mkwds\u001b[49m\u001b[43m)\u001b[49m\n\u001b[1;32m    622\u001b[0m \u001b[38;5;28;01mif\u001b[39;00m chunksize \u001b[38;5;129;01mor\u001b[39;00m iterator:\n\u001b[1;32m    623\u001b[0m     \u001b[38;5;28;01mreturn\u001b[39;00m parser\n",
      "File \u001b[0;32m~/anaconda3/envs/anomaly_detection/lib/python3.10/site-packages/pandas/io/parsers/readers.py:1620\u001b[0m, in \u001b[0;36mTextFileReader.__init__\u001b[0;34m(self, f, engine, **kwds)\u001b[0m\n\u001b[1;32m   1617\u001b[0m     \u001b[38;5;28mself\u001b[39m\u001b[38;5;241m.\u001b[39moptions[\u001b[38;5;124m\"\u001b[39m\u001b[38;5;124mhas_index_names\u001b[39m\u001b[38;5;124m\"\u001b[39m] \u001b[38;5;241m=\u001b[39m kwds[\u001b[38;5;124m\"\u001b[39m\u001b[38;5;124mhas_index_names\u001b[39m\u001b[38;5;124m\"\u001b[39m]\n\u001b[1;32m   1619\u001b[0m \u001b[38;5;28mself\u001b[39m\u001b[38;5;241m.\u001b[39mhandles: IOHandles \u001b[38;5;241m|\u001b[39m \u001b[38;5;28;01mNone\u001b[39;00m \u001b[38;5;241m=\u001b[39m \u001b[38;5;28;01mNone\u001b[39;00m\n\u001b[0;32m-> 1620\u001b[0m \u001b[38;5;28mself\u001b[39m\u001b[38;5;241m.\u001b[39m_engine \u001b[38;5;241m=\u001b[39m \u001b[38;5;28;43mself\u001b[39;49m\u001b[38;5;241;43m.\u001b[39;49m\u001b[43m_make_engine\u001b[49m\u001b[43m(\u001b[49m\u001b[43mf\u001b[49m\u001b[43m,\u001b[49m\u001b[43m \u001b[49m\u001b[38;5;28;43mself\u001b[39;49m\u001b[38;5;241;43m.\u001b[39;49m\u001b[43mengine\u001b[49m\u001b[43m)\u001b[49m\n",
      "File \u001b[0;32m~/anaconda3/envs/anomaly_detection/lib/python3.10/site-packages/pandas/io/parsers/readers.py:1880\u001b[0m, in \u001b[0;36mTextFileReader._make_engine\u001b[0;34m(self, f, engine)\u001b[0m\n\u001b[1;32m   1878\u001b[0m     \u001b[38;5;28;01mif\u001b[39;00m \u001b[38;5;124m\"\u001b[39m\u001b[38;5;124mb\u001b[39m\u001b[38;5;124m\"\u001b[39m \u001b[38;5;129;01mnot\u001b[39;00m \u001b[38;5;129;01min\u001b[39;00m mode:\n\u001b[1;32m   1879\u001b[0m         mode \u001b[38;5;241m+\u001b[39m\u001b[38;5;241m=\u001b[39m \u001b[38;5;124m\"\u001b[39m\u001b[38;5;124mb\u001b[39m\u001b[38;5;124m\"\u001b[39m\n\u001b[0;32m-> 1880\u001b[0m \u001b[38;5;28mself\u001b[39m\u001b[38;5;241m.\u001b[39mhandles \u001b[38;5;241m=\u001b[39m \u001b[43mget_handle\u001b[49m\u001b[43m(\u001b[49m\n\u001b[1;32m   1881\u001b[0m \u001b[43m    \u001b[49m\u001b[43mf\u001b[49m\u001b[43m,\u001b[49m\n\u001b[1;32m   1882\u001b[0m \u001b[43m    \u001b[49m\u001b[43mmode\u001b[49m\u001b[43m,\u001b[49m\n\u001b[1;32m   1883\u001b[0m \u001b[43m    \u001b[49m\u001b[43mencoding\u001b[49m\u001b[38;5;241;43m=\u001b[39;49m\u001b[38;5;28;43mself\u001b[39;49m\u001b[38;5;241;43m.\u001b[39;49m\u001b[43moptions\u001b[49m\u001b[38;5;241;43m.\u001b[39;49m\u001b[43mget\u001b[49m\u001b[43m(\u001b[49m\u001b[38;5;124;43m\"\u001b[39;49m\u001b[38;5;124;43mencoding\u001b[39;49m\u001b[38;5;124;43m\"\u001b[39;49m\u001b[43m,\u001b[49m\u001b[43m \u001b[49m\u001b[38;5;28;43;01mNone\u001b[39;49;00m\u001b[43m)\u001b[49m\u001b[43m,\u001b[49m\n\u001b[1;32m   1884\u001b[0m \u001b[43m    \u001b[49m\u001b[43mcompression\u001b[49m\u001b[38;5;241;43m=\u001b[39;49m\u001b[38;5;28;43mself\u001b[39;49m\u001b[38;5;241;43m.\u001b[39;49m\u001b[43moptions\u001b[49m\u001b[38;5;241;43m.\u001b[39;49m\u001b[43mget\u001b[49m\u001b[43m(\u001b[49m\u001b[38;5;124;43m\"\u001b[39;49m\u001b[38;5;124;43mcompression\u001b[39;49m\u001b[38;5;124;43m\"\u001b[39;49m\u001b[43m,\u001b[49m\u001b[43m \u001b[49m\u001b[38;5;28;43;01mNone\u001b[39;49;00m\u001b[43m)\u001b[49m\u001b[43m,\u001b[49m\n\u001b[1;32m   1885\u001b[0m \u001b[43m    \u001b[49m\u001b[43mmemory_map\u001b[49m\u001b[38;5;241;43m=\u001b[39;49m\u001b[38;5;28;43mself\u001b[39;49m\u001b[38;5;241;43m.\u001b[39;49m\u001b[43moptions\u001b[49m\u001b[38;5;241;43m.\u001b[39;49m\u001b[43mget\u001b[49m\u001b[43m(\u001b[49m\u001b[38;5;124;43m\"\u001b[39;49m\u001b[38;5;124;43mmemory_map\u001b[39;49m\u001b[38;5;124;43m\"\u001b[39;49m\u001b[43m,\u001b[49m\u001b[43m \u001b[49m\u001b[38;5;28;43;01mFalse\u001b[39;49;00m\u001b[43m)\u001b[49m\u001b[43m,\u001b[49m\n\u001b[1;32m   1886\u001b[0m \u001b[43m    \u001b[49m\u001b[43mis_text\u001b[49m\u001b[38;5;241;43m=\u001b[39;49m\u001b[43mis_text\u001b[49m\u001b[43m,\u001b[49m\n\u001b[1;32m   1887\u001b[0m \u001b[43m    \u001b[49m\u001b[43merrors\u001b[49m\u001b[38;5;241;43m=\u001b[39;49m\u001b[38;5;28;43mself\u001b[39;49m\u001b[38;5;241;43m.\u001b[39;49m\u001b[43moptions\u001b[49m\u001b[38;5;241;43m.\u001b[39;49m\u001b[43mget\u001b[49m\u001b[43m(\u001b[49m\u001b[38;5;124;43m\"\u001b[39;49m\u001b[38;5;124;43mencoding_errors\u001b[39;49m\u001b[38;5;124;43m\"\u001b[39;49m\u001b[43m,\u001b[49m\u001b[43m \u001b[49m\u001b[38;5;124;43m\"\u001b[39;49m\u001b[38;5;124;43mstrict\u001b[39;49m\u001b[38;5;124;43m\"\u001b[39;49m\u001b[43m)\u001b[49m\u001b[43m,\u001b[49m\n\u001b[1;32m   1888\u001b[0m \u001b[43m    \u001b[49m\u001b[43mstorage_options\u001b[49m\u001b[38;5;241;43m=\u001b[39;49m\u001b[38;5;28;43mself\u001b[39;49m\u001b[38;5;241;43m.\u001b[39;49m\u001b[43moptions\u001b[49m\u001b[38;5;241;43m.\u001b[39;49m\u001b[43mget\u001b[49m\u001b[43m(\u001b[49m\u001b[38;5;124;43m\"\u001b[39;49m\u001b[38;5;124;43mstorage_options\u001b[39;49m\u001b[38;5;124;43m\"\u001b[39;49m\u001b[43m,\u001b[49m\u001b[43m \u001b[49m\u001b[38;5;28;43;01mNone\u001b[39;49;00m\u001b[43m)\u001b[49m\u001b[43m,\u001b[49m\n\u001b[1;32m   1889\u001b[0m \u001b[43m\u001b[49m\u001b[43m)\u001b[49m\n\u001b[1;32m   1890\u001b[0m \u001b[38;5;28;01massert\u001b[39;00m \u001b[38;5;28mself\u001b[39m\u001b[38;5;241m.\u001b[39mhandles \u001b[38;5;129;01mis\u001b[39;00m \u001b[38;5;129;01mnot\u001b[39;00m \u001b[38;5;28;01mNone\u001b[39;00m\n\u001b[1;32m   1891\u001b[0m f \u001b[38;5;241m=\u001b[39m \u001b[38;5;28mself\u001b[39m\u001b[38;5;241m.\u001b[39mhandles\u001b[38;5;241m.\u001b[39mhandle\n",
      "File \u001b[0;32m~/anaconda3/envs/anomaly_detection/lib/python3.10/site-packages/pandas/io/common.py:873\u001b[0m, in \u001b[0;36mget_handle\u001b[0;34m(path_or_buf, mode, encoding, compression, memory_map, is_text, errors, storage_options)\u001b[0m\n\u001b[1;32m    868\u001b[0m \u001b[38;5;28;01melif\u001b[39;00m \u001b[38;5;28misinstance\u001b[39m(handle, \u001b[38;5;28mstr\u001b[39m):\n\u001b[1;32m    869\u001b[0m     \u001b[38;5;66;03m# Check whether the filename is to be opened in binary mode.\u001b[39;00m\n\u001b[1;32m    870\u001b[0m     \u001b[38;5;66;03m# Binary mode does not support 'encoding' and 'newline'.\u001b[39;00m\n\u001b[1;32m    871\u001b[0m     \u001b[38;5;28;01mif\u001b[39;00m ioargs\u001b[38;5;241m.\u001b[39mencoding \u001b[38;5;129;01mand\u001b[39;00m \u001b[38;5;124m\"\u001b[39m\u001b[38;5;124mb\u001b[39m\u001b[38;5;124m\"\u001b[39m \u001b[38;5;129;01mnot\u001b[39;00m \u001b[38;5;129;01min\u001b[39;00m ioargs\u001b[38;5;241m.\u001b[39mmode:\n\u001b[1;32m    872\u001b[0m         \u001b[38;5;66;03m# Encoding\u001b[39;00m\n\u001b[0;32m--> 873\u001b[0m         handle \u001b[38;5;241m=\u001b[39m \u001b[38;5;28;43mopen\u001b[39;49m\u001b[43m(\u001b[49m\n\u001b[1;32m    874\u001b[0m \u001b[43m            \u001b[49m\u001b[43mhandle\u001b[49m\u001b[43m,\u001b[49m\n\u001b[1;32m    875\u001b[0m \u001b[43m            \u001b[49m\u001b[43mioargs\u001b[49m\u001b[38;5;241;43m.\u001b[39;49m\u001b[43mmode\u001b[49m\u001b[43m,\u001b[49m\n\u001b[1;32m    876\u001b[0m \u001b[43m            \u001b[49m\u001b[43mencoding\u001b[49m\u001b[38;5;241;43m=\u001b[39;49m\u001b[43mioargs\u001b[49m\u001b[38;5;241;43m.\u001b[39;49m\u001b[43mencoding\u001b[49m\u001b[43m,\u001b[49m\n\u001b[1;32m    877\u001b[0m \u001b[43m            \u001b[49m\u001b[43merrors\u001b[49m\u001b[38;5;241;43m=\u001b[39;49m\u001b[43merrors\u001b[49m\u001b[43m,\u001b[49m\n\u001b[1;32m    878\u001b[0m \u001b[43m            \u001b[49m\u001b[43mnewline\u001b[49m\u001b[38;5;241;43m=\u001b[39;49m\u001b[38;5;124;43m\"\u001b[39;49m\u001b[38;5;124;43m\"\u001b[39;49m\u001b[43m,\u001b[49m\n\u001b[1;32m    879\u001b[0m \u001b[43m        \u001b[49m\u001b[43m)\u001b[49m\n\u001b[1;32m    880\u001b[0m     \u001b[38;5;28;01melse\u001b[39;00m:\n\u001b[1;32m    881\u001b[0m         \u001b[38;5;66;03m# Binary mode\u001b[39;00m\n\u001b[1;32m    882\u001b[0m         handle \u001b[38;5;241m=\u001b[39m \u001b[38;5;28mopen\u001b[39m(handle, ioargs\u001b[38;5;241m.\u001b[39mmode)\n",
      "\u001b[0;31mFileNotFoundError\u001b[0m: [Errno 2] No such file or directory: 'data/normal_9v_data.csv'"
     ]
    }
   ],
   "source": [
    "# Insert data paths in one list\n",
    "multiple_plotting(['data/normal_9v_data.csv', 'data/normal_10v_data.csv',\n",
    "                   'data/normal_11v_data.csv', 'data/normal_12v_data.csv',\n",
    "                   'data/normal_11v_data.csv',])"
   ]
  },
  {
   "cell_type": "code",
   "execution_count": 6,
   "metadata": {},
   "outputs": [],
   "source": [
    "import glob\n",
    "file_paths = glob.glob('./data/anomaly_data/*.csv')\n",
    "\n",
    "df_list = []\n",
    "\n",
    "for file in file_paths:\n",
    "    data_df = pd.read_csv(file, header=None)\n",
    "\n",
    "    data_df = data_df[:ANOMALY_INJECTION_SAMPLE_SIZE]\n",
    "    df_list.append(data_df)\n",
    "\n",
    "anomaly_df = pd.concat(df_list, ignore_index=True)\n",
    "anomaly_df.columns = ['x', 'y', 'z']"
   ]
  },
  {
   "cell_type": "code",
   "execution_count": 7,
   "metadata": {},
   "outputs": [
    {
     "data": {
      "text/plain": [
       "(56000, 3)"
      ]
     },
     "execution_count": 7,
     "metadata": {},
     "output_type": "execute_result"
    }
   ],
   "source": [
    "anomaly_df.shape"
   ]
  },
  {
   "cell_type": "markdown",
   "metadata": {},
   "source": [
    "### Add normal datasets"
   ]
  },
  {
   "cell_type": "code",
   "execution_count": 6,
   "metadata": {},
   "outputs": [
    {
     "name": "stdout",
     "output_type": "stream",
     "text": [
      "(960578, 3)\n"
     ]
    }
   ],
   "source": [
    "data_normal_9v_df = pd.read_csv('data/normal_9v_data.csv', header=None)\n",
    "data_normal_10v_df = pd.read_csv('data/normal_10v_data.csv', header=None)\n",
    "data_normal_11v_df = pd.read_csv('data/normal_11v_data.csv', header=None)\n",
    "data_normal_12v_df = pd.read_csv('data/normal_12v_data.csv', header=None)\n",
    "data_normal_9v_common_noise_df = pd.read_csv('./data/normal_9v_common_noise_data.csv', header=None)\n",
    "data_normal_9v_vibration_noise_df = pd.read_csv('./data/normal_9v_vibration_noise_data.csv', header=None)\n",
    "\n",
    "# data_normal_9v_df = scaler.fit_transform(data_normal_9v_df)\n",
    "# data_normal_10v_df = scaler.fit_transform(data_normal_10v_df)\n",
    "# data_normal_11v_df = scaler.fit_transform(data_normal_11v_df)\n",
    "# data_normal_12v_df = scaler.fit_transform(data_normal_12v_df)\n",
    "# data_normal_9v_common_noise_df = scaler.fit_transform(data_normal_9v_common_noise_df)\n",
    "# data_normal_9v_vibration_noise_df = scaler.fit_transform(data_normal_9v_vibration_noise_df)\n",
    "\n",
    "combined_df = pd.concat([data_normal_9v_df, data_normal_10v_df,\n",
    "                          data_normal_11v_df, data_normal_12v_df,\n",
    "                          data_normal_9v_common_noise_df, data_normal_9v_vibration_noise_df], ignore_index=True)\n",
    "print(combined_df.shape)"
   ]
  },
  {
   "cell_type": "markdown",
   "metadata": {},
   "source": [
    "### Split data"
   ]
  },
  {
   "cell_type": "code",
   "execution_count": 67,
   "metadata": {},
   "outputs": [
    {
     "name": "stdout",
     "output_type": "stream",
     "text": [
      "['data/normal_data_new/normal_10v_data7.csv', 'data/normal_data_new/normal_9v_data2.csv', 'data/normal_data_new/normal_9v_data3.csv', 'data/normal_data_new/normal_10v_data.csv', 'data/normal_data_new/normal_10v_data6.csv', 'data/normal_data_new/normal_10v_data4.csv', 'data/normal_data_new/normal_9v_data1.csv', 'data/normal_data_new/normal_10v_data5.csv', 'data/normal_data_new/normal_10v_data1.csv', 'data/normal_data_new/normal_9v_data4.csv', 'data/normal_data_new/normal_9v_data5.csv', 'data/normal_data_new/normal_10v_data2.csv', 'data/normal_data_new/normal_9v_data7.csv', 'data/normal_data_new/normal_9v_data6.csv', 'data/normal_data_new/normal_10v_data3.csv', 'data/normal_data_new/normal_12v_data6.csv', 'data/normal_data_new/normal_12v_data7.csv', 'data/normal_data_new/normal_11v_data.csv', 'data/normal_data_new/normal_12v_data5.csv', 'data/normal_data_new/normal_9v_common_noise_data.csv', 'data/normal_data_new/normal_12v_data4.csv', 'data/normal_data_new/normal_12v_data1.csv', 'data/normal_data_new/normal_12v_data3.csv', 'data/normal_data_new/normal_12v_data2.csv', 'data/normal_data_new/normal_11v_data1.csv', 'data/normal_data_new/normal_12v_data.csv', 'data/normal_data_new/normal_11v_data2.csv', 'data/normal_data_new/normal_9v_vibration_noise_data.csv', 'data/normal_data_new/normal_11v_data3.csv', 'data/normal_data_new/normal_11v_data7.csv', 'data/normal_data_new/normal_11v_data6.csv', 'data/normal_data_new/normal_11v_data4.csv', 'data/normal_data_new/normal_11v_data5.csv', 'data/normal_data_new/normal_9v_data.csv']\n",
      "(1800, 100, 3)\n",
      "(1800, 100, 3)\n",
      "(1800, 100, 3)\n",
      "(1799, 100, 3)\n",
      "(1800, 100, 3)\n",
      "(1800, 100, 3)\n",
      "(1799, 100, 3)\n",
      "(1799, 100, 3)\n",
      "(1799, 100, 3)\n",
      "(1800, 100, 3)\n",
      "(1800, 100, 3)\n",
      "(1799, 100, 3)\n",
      "(1800, 100, 3)\n",
      "(1798, 100, 3)\n",
      "(1800, 100, 3)\n",
      "(1764, 100, 3)\n",
      "(1800, 100, 3)\n",
      "(1799, 100, 3)\n",
      "(1799, 100, 3)\n",
      "(1199, 100, 3)\n",
      "(1800, 100, 3)\n",
      "(1805, 100, 3)\n",
      "(1800, 100, 3)\n",
      "(1799, 100, 3)\n",
      "(1799, 100, 3)\n",
      "(1805, 100, 3)\n",
      "(1799, 100, 3)\n",
      "(1200, 100, 3)\n",
      "(1800, 100, 3)\n",
      "(1800, 100, 3)\n",
      "(1799, 100, 3)\n",
      "(1800, 100, 3)\n",
      "(1800, 100, 3)\n",
      "(1799, 100, 3)\n"
     ]
    }
   ],
   "source": [
    "import os\n",
    "\n",
    "folder_path = 'data/normal_data_new'\n",
    "\n",
    "normal_data_path = [os.path.join(folder_path, file) for file in os.listdir(folder_path) if file.endswith('.csv')]\n",
    "\n",
    "print(normal_data_path)\n",
    "\n",
    "data_splits = []\n",
    "all_anomaly_test_data = []\n",
    "for data in normal_data_path:\n",
    "    df = pd.read_csv(data)\n",
    "    df = df[:len(df) - (len(df) % 100)]\n",
    "    data_splits.append(df.values.reshape(-1, 100, 3))\n",
    "    # print(df.shape)\n",
    "\n",
    "for i in range(len(data_splits)):\n",
    "    print(data_splits[i].shape)"
   ]
  },
  {
   "cell_type": "code",
   "execution_count": 68,
   "metadata": {},
   "outputs": [
    {
     "name": "stdout",
     "output_type": "stream",
     "text": [
      "file name ./data/anomaly_data/anomaly_7v_data2.csv\n"
     ]
    },
    {
     "name": "stderr",
     "output_type": "stream",
     "text": [
      "/Users/seyeong/anaconda3/envs/anomaly_detection/lib/python3.10/site-packages/numpy/core/fromnumeric.py:59: FutureWarning: 'DataFrame.swapaxes' is deprecated and will be removed in a future version. Please use 'DataFrame.transpose' instead.\n",
      "  return bound(*args, **kwds)\n"
     ]
    },
    {
     "name": "stdout",
     "output_type": "stream",
     "text": [
      "file name ./data/anomaly_data/anomaly_7v_data1.csv\n",
      "file name ./data/anomaly_data/anomaly_unstable_data.csv\n",
      "file name ./data/anomaly_data/anomaly_5v_data2.csv\n",
      "file name ./data/anomaly_data/anomaly_5v_data1.csv\n"
     ]
    },
    {
     "name": "stderr",
     "output_type": "stream",
     "text": [
      "/Users/seyeong/anaconda3/envs/anomaly_detection/lib/python3.10/site-packages/numpy/core/fromnumeric.py:59: FutureWarning: 'DataFrame.swapaxes' is deprecated and will be removed in a future version. Please use 'DataFrame.transpose' instead.\n",
      "  return bound(*args, **kwds)\n",
      "/Users/seyeong/anaconda3/envs/anomaly_detection/lib/python3.10/site-packages/numpy/core/fromnumeric.py:59: FutureWarning: 'DataFrame.swapaxes' is deprecated and will be removed in a future version. Please use 'DataFrame.transpose' instead.\n",
      "  return bound(*args, **kwds)\n",
      "/Users/seyeong/anaconda3/envs/anomaly_detection/lib/python3.10/site-packages/numpy/core/fromnumeric.py:59: FutureWarning: 'DataFrame.swapaxes' is deprecated and will be removed in a future version. Please use 'DataFrame.transpose' instead.\n",
      "  return bound(*args, **kwds)\n",
      "/Users/seyeong/anaconda3/envs/anomaly_detection/lib/python3.10/site-packages/numpy/core/fromnumeric.py:59: FutureWarning: 'DataFrame.swapaxes' is deprecated and will be removed in a future version. Please use 'DataFrame.transpose' instead.\n",
      "  return bound(*args, **kwds)\n"
     ]
    },
    {
     "name": "stdout",
     "output_type": "stream",
     "text": [
      "file name ./data/anomaly_data/anomaly_unbalanced_9v_data1.csv\n",
      "file name ./data/anomaly_data/anomaly_3v_data1.csv\n",
      "file name ./data/anomaly_data/anomaly_3v_data2.csv\n",
      "file name ./data/anomaly_data/anomaly_on_off_data.csv\n",
      "file name ./data/anomaly_data/anomaly_tape_contact_data.csv\n",
      "file name ./data/anomaly_data/anomaly_wind_noise_data.csv\n"
     ]
    },
    {
     "name": "stderr",
     "output_type": "stream",
     "text": [
      "/Users/seyeong/anaconda3/envs/anomaly_detection/lib/python3.10/site-packages/numpy/core/fromnumeric.py:59: FutureWarning: 'DataFrame.swapaxes' is deprecated and will be removed in a future version. Please use 'DataFrame.transpose' instead.\n",
      "  return bound(*args, **kwds)\n",
      "/Users/seyeong/anaconda3/envs/anomaly_detection/lib/python3.10/site-packages/numpy/core/fromnumeric.py:59: FutureWarning: 'DataFrame.swapaxes' is deprecated and will be removed in a future version. Please use 'DataFrame.transpose' instead.\n",
      "  return bound(*args, **kwds)\n",
      "/Users/seyeong/anaconda3/envs/anomaly_detection/lib/python3.10/site-packages/numpy/core/fromnumeric.py:59: FutureWarning: 'DataFrame.swapaxes' is deprecated and will be removed in a future version. Please use 'DataFrame.transpose' instead.\n",
      "  return bound(*args, **kwds)\n",
      "/Users/seyeong/anaconda3/envs/anomaly_detection/lib/python3.10/site-packages/numpy/core/fromnumeric.py:59: FutureWarning: 'DataFrame.swapaxes' is deprecated and will be removed in a future version. Please use 'DataFrame.transpose' instead.\n",
      "  return bound(*args, **kwds)\n",
      "/Users/seyeong/anaconda3/envs/anomaly_detection/lib/python3.10/site-packages/numpy/core/fromnumeric.py:59: FutureWarning: 'DataFrame.swapaxes' is deprecated and will be removed in a future version. Please use 'DataFrame.transpose' instead.\n",
      "  return bound(*args, **kwds)\n",
      "/Users/seyeong/anaconda3/envs/anomaly_detection/lib/python3.10/site-packages/numpy/core/fromnumeric.py:59: FutureWarning: 'DataFrame.swapaxes' is deprecated and will be removed in a future version. Please use 'DataFrame.transpose' instead.\n",
      "  return bound(*args, **kwds)\n"
     ]
    },
    {
     "name": "stdout",
     "output_type": "stream",
     "text": [
      "file name ./data/anomaly_data/anomaly_unbalanced_12v_data1.csv\n",
      "file name ./data/anomaly_data/anomaly_contact_12v_data1.csv\n",
      "file name ./data/anomaly_data/anomaly_contact_9v_data1.csv\n",
      "1800\n",
      "1800\n",
      "1800\n",
      "1799\n",
      "1800\n",
      "1800\n",
      "1799\n",
      "1799\n",
      "1799\n",
      "1800\n",
      "1800\n",
      "1799\n",
      "1800\n",
      "1798\n",
      "1800\n",
      "1764\n",
      "1800\n",
      "1799\n",
      "1799\n",
      "1199\n",
      "1800\n",
      "1805\n",
      "1800\n",
      "1799\n",
      "1799\n",
      "1805\n",
      "1799\n",
      "1200\n",
      "1800\n",
      "1800\n",
      "1799\n",
      "1800\n",
      "1800\n",
      "1799\n"
     ]
    },
    {
     "name": "stderr",
     "output_type": "stream",
     "text": [
      "/Users/seyeong/anaconda3/envs/anomaly_detection/lib/python3.10/site-packages/numpy/core/fromnumeric.py:59: FutureWarning: 'DataFrame.swapaxes' is deprecated and will be removed in a future version. Please use 'DataFrame.transpose' instead.\n",
      "  return bound(*args, **kwds)\n",
      "/Users/seyeong/anaconda3/envs/anomaly_detection/lib/python3.10/site-packages/numpy/core/fromnumeric.py:59: FutureWarning: 'DataFrame.swapaxes' is deprecated and will be removed in a future version. Please use 'DataFrame.transpose' instead.\n",
      "  return bound(*args, **kwds)\n",
      "/Users/seyeong/anaconda3/envs/anomaly_detection/lib/python3.10/site-packages/numpy/core/fromnumeric.py:59: FutureWarning: 'DataFrame.swapaxes' is deprecated and will be removed in a future version. Please use 'DataFrame.transpose' instead.\n",
      "  return bound(*args, **kwds)\n"
     ]
    },
    {
     "name": "stdout",
     "output_type": "stream",
     "text": [
      "59959 9420 9420\n",
      "(69379,)\n",
      "Data split 0: train + val + test = 1260 + 270 + 270\n",
      "100 100 100\n",
      "Data split 1: train + val + test = 1260 + 270 + 270\n",
      "100 100 100\n",
      "Data split 2: train + val + test = 1260 + 270 + 270\n",
      "100 100 100\n",
      "Data split 3: train + val + test = 1259 + 270 + 270\n",
      "100 100 100\n",
      "Data split 4: train + val + test = 1260 + 270 + 270\n",
      "100 100 100\n",
      "Data split 5: train + val + test = 1260 + 270 + 270\n",
      "100 100 100\n",
      "Data split 6: train + val + test = 1259 + 270 + 270\n",
      "100 100 100\n",
      "Data split 7: train + val + test = 1259 + 270 + 270\n",
      "100 100 100\n",
      "Data split 8: train + val + test = 1259 + 270 + 270\n",
      "100 100 100\n",
      "Data split 9: train + val + test = 1260 + 270 + 270\n",
      "100 100 100\n",
      "Data split 10: train + val + test = 1260 + 270 + 270\n",
      "100 100 100\n",
      "Data split 11: train + val + test = 1259 + 270 + 270\n",
      "100 100 100\n",
      "Data split 12: train + val + test = 1260 + 270 + 270\n",
      "100 100 100\n",
      "Data split 13: train + val + test = 1258 + 270 + 270\n",
      "100 100 100\n",
      "Data split 14: train + val + test = 1260 + 270 + 270\n",
      "100 100 100\n",
      "Data split 15: train + val + test = 1234 + 265 + 265\n",
      "100 100 100\n",
      "Data split 16: train + val + test = 1260 + 270 + 270\n",
      "100 100 100\n",
      "Data split 17: train + val + test = 1259 + 270 + 270\n",
      "100 100 100\n",
      "Data split 18: train + val + test = 1259 + 270 + 270\n",
      "100 100 100\n",
      "Data split 19: train + val + test = 839 + 180 + 180\n",
      "100 100 100\n",
      "Data split 20: train + val + test = 1260 + 270 + 270\n",
      "100 100 100\n",
      "Data split 21: train + val + test = 1263 + 271 + 271\n",
      "100 100 100\n",
      "Data split 22: train + val + test = 1260 + 270 + 270\n",
      "100 100 100\n",
      "Data split 23: train + val + test = 1259 + 270 + 270\n",
      "100 100 100\n",
      "Data split 24: train + val + test = 1259 + 270 + 270\n",
      "100 100 100\n",
      "Data split 25: train + val + test = 1263 + 271 + 271\n",
      "100 100 100\n",
      "Data split 26: train + val + test = 1259 + 270 + 270\n",
      "100 100 100\n",
      "Data split 27: train + val + test = 840 + 180 + 180\n",
      "100 100 100\n",
      "Data split 28: train + val + test = 1260 + 270 + 270\n",
      "100 100 100\n",
      "Data split 29: train + val + test = 1260 + 270 + 270\n",
      "100 100 100\n",
      "Data split 30: train + val + test = 1259 + 270 + 270\n",
      "100 100 100\n",
      "Data split 31: train + val + test = 1260 + 270 + 270\n",
      "100 100 100\n",
      "Data split 32: train + val + test = 1260 + 270 + 270\n",
      "100 100 100\n",
      "Data split 33: train + val + test = 1259 + 270 + 270\n",
      "100 100 100\n",
      "Data split 34: train + val + test = 630 + 135 + 135\n",
      "100 100 100\n",
      "Data split 35: train + val + test = 630 + 135 + 135\n",
      "100 100 100\n",
      "Data split 36: train + val + test = 62 + 14 + 14\n",
      "100 100 100\n",
      "Data split 37: train + val + test = 630 + 135 + 135\n",
      "100 100 100\n",
      "Data split 38: train + val + test = 630 + 135 + 135\n",
      "100 100 100\n",
      "Data split 39: train + val + test = 630 + 135 + 135\n",
      "100 100 100\n",
      "Data split 40: train + val + test = 630 + 135 + 135\n",
      "100 100 100\n",
      "Data split 41: train + val + test = 630 + 135 + 135\n",
      "100 100 100\n",
      "Data split 42: train + val + test = 105 + 22 + 23\n",
      "100 100 100\n",
      "Data split 43: train + val + test = 62 + 14 + 14\n",
      "100 100 100\n",
      "Data split 44: train + val + test = 62 + 14 + 14\n",
      "100 100 100\n",
      "Data split 45: train + val + test = 630 + 135 + 135\n",
      "100 100 100\n",
      "Data split 46: train + val + test = 630 + 135 + 135\n",
      "100 100 100\n",
      "Data split 47: train + val + test = 630 + 135 + 135\n",
      "100 100 100\n",
      "Train data shape: (48556, 100, 3)\n",
      "Validation data shape: (10411, 100, 3)\n",
      "Test data shape: (10412, 100, 3)\n",
      "Train data shape: (48556,)\n",
      "Validation data shape: (10411,)\n",
      "Test data shape: (10412,)\n",
      "anomaly_splits_test_raw.shape  (9420, 100, 3) (9420,)\n"
     ]
    }
   ],
   "source": [
    "import glob\n",
    "train_ratio = 0.7\n",
    "temp_ratio = 0.3  # for both val and test combined\n",
    "val_ratio = 0.5  # 50% of temp_ratio for validation\n",
    "test_ratio = temp_ratio / 2  # same as val_ratio\n",
    "\n",
    "# data_normal_12v_df = data_normal_12v_df[:len(data_normal_12v_df) - (len(data_normal_12v_df) % DATA_SLICE_SIZE)]\n",
    "# data_normal_9v_vibration_noise_df = data_normal_9v_vibration_noise_df[:len(data_normal_9v_vibration_noise_df) - (len(data_normal_9v_vibration_noise_df)% DATA_SLICE_SIZE)]\n",
    "# print(len(data_normal_9v_df), len(data_normal_10v_df), len(data_normal_11v_df), len(data_normal_12v_df))\n",
    "# print(data_normal_9v_df.shape, data_normal_10v_df.shape, data_normal_11v_df.shape, data_normal_12v_df.shape)\n",
    "\n",
    "# print(data_normal_9v_df.shape)\n",
    "# print(data_normal_10v_df.shape)\n",
    "# print(data_normal_11v_df.shape)\n",
    "# print(data_normal_12v_df.shape)\n",
    "# print(data_normal_9v_common_noise_df.shape)\n",
    "# print(data_normal_9v_vibration_noise_df.shape)\n",
    "\n",
    "\n",
    "# data_normal_9v_split = np.array_split(data_normal_9v_df, len(data_normal_9v_df) // DATA_SLICE_SIZE)\n",
    "# data_normal_10v_split = np.array_split(data_normal_10v_df, len(data_normal_10v_df) // DATA_SLICE_SIZE)\n",
    "# data_normal_11v_split = np.array_split(data_normal_11v_df, len(data_normal_11v_df) // DATA_SLICE_SIZE)\n",
    "# data_normal_12v_split = np.array_split(data_normal_12v_df, len(data_normal_12v_df) // DATA_SLICE_SIZE)\n",
    "# data_normal_9v_common_noise_split = np.array_split(data_normal_9v_common_noise_df, len(data_normal_9v_common_noise_df) // DATA_SLICE_SIZE)\n",
    "# data_normal_9v_vibration_noise_split = np.array_split(data_normal_9v_vibration_noise_df, len(data_normal_9v_common_noise_df) // DATA_SLICE_SIZE)\n",
    "\n",
    "\n",
    "anomaly_file_paths = glob.glob('./data/anomaly_data/*.csv')\n",
    "\n",
    "anomaly_splits = []\n",
    "anomaly_splits_test = []\n",
    "for file in anomaly_file_paths:\n",
    "    data_df = pd.read_csv(file, header=None)\n",
    "    print(\"file name\", file)\n",
    "\n",
    "    data_df = data_df[:len(data_df) - (len(data_df) % DATA_SLICE_SIZE)]\n",
    "    # print(data_df.shape)\n",
    "    data_df_quarter = data_df.iloc[:len(data_df) // 2] \n",
    "    data_df_split = np.array_split(data_df_quarter, len(data_df_quarter) // DATA_SLICE_SIZE)\n",
    "\n",
    "    data_df_quarter_test = data_df.iloc[len(data_df) // 2:] \n",
    "    data_df_split_test = np.array_split(data_df_quarter_test, len(data_df_quarter_test) // DATA_SLICE_SIZE)\n",
    "\n",
    "    anomaly_splits_test.append(data_df_split_test)\n",
    "    anomaly_splits.append(data_df_split)\n",
    "    # print(y_label_1_.shape)\n",
    "    # print(\"aaa\", len(data_df_split))\n",
    "\n",
    "# print(\"anomaly shape \", anomaly_splits.shape)\n",
    "\n",
    "# data_splits = [data_normal_9v_split, data_normal_10v_split,\n",
    "#                 data_normal_11v_split, data_normal_11v_split,\n",
    "#                 data_normal_9v_common_noise_split,\n",
    "#                 data_normal_9v_vibration_noise_split]\n",
    "\n",
    "y_label_0_raw = []\n",
    "y_label_1_raw = []\n",
    "y_label_1_raw_test = []\n",
    "\n",
    "for i in data_splits:\n",
    "    print(len(i))\n",
    "    y_label_0 = np.zeros(len(i))\n",
    "    y_label_0_raw.append(y_label_0)\n",
    "\n",
    "for i in anomaly_splits:\n",
    "    # print(i.shape)\n",
    "    y_label_1 = np.ones(len(i))\n",
    "    y_label_1_raw.append(y_label_1)\n",
    "\n",
    "for i in anomaly_splits_test:\n",
    "    # print(i.shape)\n",
    "    y_label_1_test = np.ones(len(i))\n",
    "    y_label_1_raw_test.append(y_label_1_test)\n",
    "\n",
    "anomaly_splits_test_raw = np.concatenate(anomaly_splits_test, axis = 0)\n",
    "\n",
    "\n",
    "y_label_0_raw = np.concatenate(y_label_0_raw, axis=0)\n",
    "y_label_1_raw = np.concatenate(y_label_1_raw, axis=0)\n",
    "y_label_1_raw_test = np.concatenate(y_label_1_raw_test, axis=0)\n",
    "print(len(y_label_0_raw), len(y_label_1_raw), len(y_label_1_raw_test))\n",
    "\n",
    "\n",
    "\n",
    "y_label_raw = np.concatenate((y_label_0_raw, y_label_1_raw), axis = 0)\n",
    "print(y_label_raw.shape)\n",
    "data_splits.extend(anomaly_splits)\n",
    "# print(len(anomaly_splits), len(data_splits))\n",
    "\n",
    "train_sizes = []\n",
    "train_data = []\n",
    "val_data = []\n",
    "test_data = []\n",
    "\n",
    "y_train_data = []\n",
    "y_val_data = []\n",
    "y_test_data = []\n",
    "start_idx = 0\n",
    "\n",
    "for i in range(len(data_splits)):\n",
    "    data_len = len(data_splits[i])\n",
    "    train_size = int(data_len * train_ratio)\n",
    "    temp_size = data_len - train_size \n",
    "    val_size = int(temp_size * val_ratio)\n",
    "    \n",
    "    # Split the data\n",
    "    train_sizes.append(train_size)\n",
    "    train_data.append(data_splits[i][:train_size])\n",
    "    val_data.append(data_splits[i][train_size:train_size + val_size])\n",
    "    test_data.append(data_splits[i][train_size + val_size:])\n",
    "\n",
    "    y_train_data.append(y_label_raw[start_idx:start_idx + train_size])\n",
    "    y_val_data.append(y_label_raw[start_idx + train_size:start_idx + train_size + val_size])\n",
    "    y_test_data.append(y_label_raw[start_idx + train_size + val_size:start_idx + data_len])\n",
    "\n",
    "    start_idx += data_len\n",
    "\n",
    "\n",
    "\n",
    "# print(\"ddd\", len(train_data[-1][-1]), len(val_data[-1][-1]),  len(test_data[-1][-1]))\n",
    "\n",
    "# check the lengths of each split\n",
    "for i in range(len(data_splits)):\n",
    "    print(f\"Data split {i}: train + val + test =\", len(train_data[i]), \"+\", len(val_data[i]), \"+\", len(test_data[i]))\n",
    "    print(len(train_data[i][0]), len(val_data[i][0]),  len(test_data[i][0]))\n",
    "\n",
    "# Concatenate all splits across the normal datasets\n",
    "x_train_concat = np.concatenate(train_data, axis=0)\n",
    "x_val_concat = np.concatenate(val_data, axis=0)\n",
    "x_test_concat = np.concatenate(test_data, axis=0)\n",
    "\n",
    "y_train_concat = np.concatenate(y_train_data, axis=0)\n",
    "y_val_concat = np.concatenate(y_val_data, axis=0)\n",
    "y_test_concat = np.concatenate(y_test_data, axis=0)\n",
    "\n",
    "# Output shapes to assure correct shape\n",
    "print(\"Train data shape:\", x_train_concat.shape)\n",
    "print(\"Validation data shape:\", x_val_concat.shape)\n",
    "print(\"Test data shape:\", x_test_concat.shape)\n",
    "\n",
    "print(\"Train data shape:\", y_train_concat.shape)\n",
    "print(\"Validation data shape:\", y_val_concat.shape)\n",
    "print(\"Test data shape:\", y_test_concat.shape)\n",
    "\n",
    "\n",
    "print(\"anomaly_splits_test_raw.shape \", anomaly_splits_test_raw.shape, y_label_1_raw_test.shape)\n",
    "\n"
   ]
  },
  {
   "cell_type": "code",
   "execution_count": 69,
   "metadata": {},
   "outputs": [
    {
     "name": "stdout",
     "output_type": "stream",
     "text": [
      "(48556, 2)\n",
      "(10411, 2)\n",
      "(10412, 2)\n"
     ]
    }
   ],
   "source": [
    "from keras.utils import to_categorical\n",
    "\n",
    "# Convert y_train and y_valid to one-hot encoding\n",
    "y_train_one_hot = to_categorical(y_train_concat, num_classes=2)  # Assuming classes are 0, 1\n",
    "y_valid_one_hot = to_categorical(y_val_concat, num_classes=2)  # Assuming you have a similar y_valid\n",
    "y_test_one_hot = to_categorical(y_test_concat, num_classes=2)  # Assuming you have a similar y_test\n",
    "\n",
    "# Check the shape\n",
    "print(y_train_one_hot.shape)  # Should be (10070, 4)\n",
    "print(y_valid_one_hot.shape) \n",
    "print(y_test_one_hot.shape) "
   ]
  },
  {
   "cell_type": "code",
   "execution_count": 70,
   "metadata": {},
   "outputs": [
    {
     "name": "stdout",
     "output_type": "stream",
     "text": [
      "Class 0: count = 41965, ratio = 86.43%\n",
      "Class 1: count = 6591, ratio = 13.57%\n"
     ]
    }
   ],
   "source": [
    "# Sum along axis 0 to get the count of each class\n",
    "class_counts = np.sum(y_train_one_hot, axis=0)\n",
    "\n",
    "# Calculate the percentage of each class\n",
    "class_ratios = class_counts / np.sum(class_counts)\n",
    "\n",
    "# Print the results\n",
    "for i, (count, ratio) in enumerate(zip(class_counts, class_ratios)):\n",
    "    print(f\"Class {i}: count = {int(count)}, ratio = {ratio:.2%}\")"
   ]
  },
  {
   "cell_type": "code",
   "execution_count": 71,
   "metadata": {},
   "outputs": [],
   "source": [
    "import tensorflow as tf\n",
    "import keras\n",
    "from keras.layers import LSTM, Dropout, Dense, InputLayer\n",
    "from keras.models import Sequential\n",
    "from tensorflow.keras.optimizers import Adam"
   ]
  },
  {
   "cell_type": "code",
   "execution_count": 72,
   "metadata": {},
   "outputs": [
    {
     "name": "stdout",
     "output_type": "stream",
     "text": [
      "Epoch 1/20\n"
     ]
    },
    {
     "name": "stderr",
     "output_type": "stream",
     "text": [
      "/Users/seyeong/anaconda3/envs/anomaly_detection/lib/python3.10/site-packages/keras/src/layers/convolutional/base_conv.py:107: UserWarning: Do not pass an `input_shape`/`input_dim` argument to a layer. When using Sequential models, prefer using an `Input(shape)` object as the first layer in the model instead.\n",
      "  super().__init__(activity_regularizer=activity_regularizer, **kwargs)\n"
     ]
    },
    {
     "name": "stdout",
     "output_type": "stream",
     "text": [
      "\u001b[1m759/759\u001b[0m \u001b[32m━━━━━━━━━━━━━━━━━━━━\u001b[0m\u001b[37m\u001b[0m \u001b[1m8s\u001b[0m 9ms/step - accuracy: 0.9093 - loss: 0.2670 - val_accuracy: 0.9969 - val_loss: 0.0129\n",
      "Epoch 2/20\n",
      "\u001b[1m759/759\u001b[0m \u001b[32m━━━━━━━━━━━━━━━━━━━━\u001b[0m\u001b[37m\u001b[0m \u001b[1m6s\u001b[0m 8ms/step - accuracy: 0.9836 - loss: 0.0502 - val_accuracy: 0.9981 - val_loss: 0.0107\n",
      "Epoch 3/20\n",
      "\u001b[1m759/759\u001b[0m \u001b[32m━━━━━━━━━━━━━━━━━━━━\u001b[0m\u001b[37m\u001b[0m \u001b[1m7s\u001b[0m 9ms/step - accuracy: 0.9889 - loss: 0.0342 - val_accuracy: 0.9980 - val_loss: 0.0098\n",
      "Epoch 4/20\n",
      "\u001b[1m759/759\u001b[0m \u001b[32m━━━━━━━━━━━━━━━━━━━━\u001b[0m\u001b[37m\u001b[0m \u001b[1m7s\u001b[0m 9ms/step - accuracy: 0.9925 - loss: 0.0253 - val_accuracy: 0.9984 - val_loss: 0.0076\n",
      "Epoch 5/20\n",
      "\u001b[1m759/759\u001b[0m \u001b[32m━━━━━━━━━━━━━━━━━━━━\u001b[0m\u001b[37m\u001b[0m \u001b[1m7s\u001b[0m 9ms/step - accuracy: 0.9929 - loss: 0.0223 - val_accuracy: 0.9981 - val_loss: 0.0072\n",
      "Epoch 6/20\n",
      "\u001b[1m759/759\u001b[0m \u001b[32m━━━━━━━━━━━━━━━━━━━━\u001b[0m\u001b[37m\u001b[0m \u001b[1m7s\u001b[0m 9ms/step - accuracy: 0.9934 - loss: 0.0200 - val_accuracy: 0.9975 - val_loss: 0.0066\n",
      "Epoch 7/20\n",
      "\u001b[1m759/759\u001b[0m \u001b[32m━━━━━━━━━━━━━━━━━━━━\u001b[0m\u001b[37m\u001b[0m \u001b[1m7s\u001b[0m 9ms/step - accuracy: 0.9950 - loss: 0.0145 - val_accuracy: 0.9961 - val_loss: 0.0104\n",
      "Epoch 8/20\n",
      "\u001b[1m759/759\u001b[0m \u001b[32m━━━━━━━━━━━━━━━━━━━━\u001b[0m\u001b[37m\u001b[0m \u001b[1m7s\u001b[0m 10ms/step - accuracy: 0.9958 - loss: 0.0119 - val_accuracy: 0.9989 - val_loss: 0.0038\n",
      "Epoch 9/20\n",
      "\u001b[1m759/759\u001b[0m \u001b[32m━━━━━━━━━━━━━━━━━━━━\u001b[0m\u001b[37m\u001b[0m \u001b[1m7s\u001b[0m 9ms/step - accuracy: 0.9972 - loss: 0.0087 - val_accuracy: 0.9995 - val_loss: 0.0020\n",
      "Epoch 10/20\n",
      "\u001b[1m759/759\u001b[0m \u001b[32m━━━━━━━━━━━━━━━━━━━━\u001b[0m\u001b[37m\u001b[0m \u001b[1m7s\u001b[0m 9ms/step - accuracy: 0.9968 - loss: 0.0099 - val_accuracy: 0.9932 - val_loss: 0.0210\n",
      "Epoch 11/20\n",
      "\u001b[1m759/759\u001b[0m \u001b[32m━━━━━━━━━━━━━━━━━━━━\u001b[0m\u001b[37m\u001b[0m \u001b[1m7s\u001b[0m 9ms/step - accuracy: 0.9975 - loss: 0.0097 - val_accuracy: 0.9988 - val_loss: 0.0029\n",
      "Epoch 12/20\n",
      "\u001b[1m759/759\u001b[0m \u001b[32m━━━━━━━━━━━━━━━━━━━━\u001b[0m\u001b[37m\u001b[0m \u001b[1m7s\u001b[0m 9ms/step - accuracy: 0.9982 - loss: 0.0056 - val_accuracy: 0.9994 - val_loss: 0.0017\n",
      "Epoch 13/20\n",
      "\u001b[1m759/759\u001b[0m \u001b[32m━━━━━━━━━━━━━━━━━━━━\u001b[0m\u001b[37m\u001b[0m \u001b[1m8s\u001b[0m 10ms/step - accuracy: 0.9976 - loss: 0.0070 - val_accuracy: 0.9992 - val_loss: 0.0022\n",
      "Epoch 14/20\n",
      "\u001b[1m759/759\u001b[0m \u001b[32m━━━━━━━━━━━━━━━━━━━━\u001b[0m\u001b[37m\u001b[0m \u001b[1m7s\u001b[0m 10ms/step - accuracy: 0.9988 - loss: 0.0040 - val_accuracy: 0.9998 - val_loss: 0.0012\n",
      "Epoch 15/20\n",
      "\u001b[1m759/759\u001b[0m \u001b[32m━━━━━━━━━━━━━━━━━━━━\u001b[0m\u001b[37m\u001b[0m \u001b[1m7s\u001b[0m 9ms/step - accuracy: 0.9984 - loss: 0.0048 - val_accuracy: 0.9995 - val_loss: 0.0022\n",
      "Epoch 16/20\n",
      "\u001b[1m759/759\u001b[0m \u001b[32m━━━━━━━━━━━━━━━━━━━━\u001b[0m\u001b[37m\u001b[0m \u001b[1m7s\u001b[0m 9ms/step - accuracy: 0.9981 - loss: 0.0063 - val_accuracy: 0.9996 - val_loss: 0.0016\n",
      "Epoch 17/20\n",
      "\u001b[1m759/759\u001b[0m \u001b[32m━━━━━━━━━━━━━━━━━━━━\u001b[0m\u001b[37m\u001b[0m \u001b[1m7s\u001b[0m 10ms/step - accuracy: 0.9981 - loss: 0.0067 - val_accuracy: 0.9992 - val_loss: 0.0033\n",
      "Epoch 18/20\n",
      "\u001b[1m759/759\u001b[0m \u001b[32m━━━━━━━━━━━━━━━━━━━━\u001b[0m\u001b[37m\u001b[0m \u001b[1m7s\u001b[0m 9ms/step - accuracy: 0.9980 - loss: 0.0061 - val_accuracy: 0.9995 - val_loss: 0.0016\n",
      "Epoch 19/20\n",
      "\u001b[1m759/759\u001b[0m \u001b[32m━━━━━━━━━━━━━━━━━━━━\u001b[0m\u001b[37m\u001b[0m \u001b[1m7s\u001b[0m 10ms/step - accuracy: 0.9988 - loss: 0.0033 - val_accuracy: 0.9995 - val_loss: 0.0012\n",
      "Epoch 20/20\n",
      "\u001b[1m759/759\u001b[0m \u001b[32m━━━━━━━━━━━━━━━━━━━━\u001b[0m\u001b[37m\u001b[0m \u001b[1m7s\u001b[0m 9ms/step - accuracy: 0.9979 - loss: 0.0055 - val_accuracy: 0.9997 - val_loss: 0.0018\n",
      "\u001b[1m326/326\u001b[0m \u001b[32m━━━━━━━━━━━━━━━━━━━━\u001b[0m\u001b[37m\u001b[0m \u001b[1m1s\u001b[0m 2ms/step\n"
     ]
    },
    {
     "name": "stderr",
     "output_type": "stream",
     "text": [
      "WARNING:absl:You are saving your model as an HDF5 file via `model.save()` or `keras.saving.save_model(model)`. This file format is considered legacy. We recommend using instead the native Keras format, e.g. `model.save('my_model.keras')` or `keras.saving.save_model(model, 'my_model.keras')`. \n"
     ]
    }
   ],
   "source": [
    "model = keras.models.Sequential([\n",
    "    # Conv Block 1 \n",
    "    keras.layers.Conv1D(filters=32, kernel_size=3, strides=1, padding=\"same\", activation=\"relu\",\n",
    "                        input_shape=[100, 3]),\n",
    "    keras.layers.Conv1D(filters=32, kernel_size=3, strides=1, padding=\"same\", activation=\"relu\"), \n",
    "\n",
    "    # Pooling layer\n",
    "    keras.layers.MaxPooling1D(pool_size=2),\n",
    "\n",
    "    # Conv Block 2 \n",
    "    keras.layers.Conv1D(filters=64, kernel_size=3, strides=1, padding=\"same\", activation=\"relu\"),\n",
    "    keras.layers.Conv1D(filters=64, kernel_size=3, strides=1, padding=\"same\", activation=\"relu\"),           \n",
    "    \n",
    "    # Pooling layer\n",
    "    keras.layers.MaxPooling1D(pool_size=2),  \n",
    "\n",
    "    # Conv Block 3\n",
    "    keras.layers.Conv1D(filters=128, kernel_size=3, strides=1, padding=\"same\", activation=\"relu\"),\n",
    "    keras.layers.Conv1D(filters=128, kernel_size=3, strides=1, padding=\"same\", activation=\"relu\"),   \n",
    "    \n",
    "    # Pooling layer        \n",
    "    keras.layers.MaxPooling1D(pool_size=2),  \n",
    "\n",
    "    # Conv Block 4\n",
    "    # keras.layers.Conv1D(filters=256, kernel_size=3, strides=1, padding=\"same\", activation=\"relu\"),\n",
    "\n",
    "    keras.layers.GlobalAveragePooling1D(),\n",
    "\n",
    "    # Updated output layer for multi-class classification\n",
    "    keras.layers.Dense(128, activation=\"relu\"),\n",
    "    keras.layers.Dense(1, activation=\"sigmoid\")  \n",
    "])\n",
    "\n",
    "# Compile the model\n",
    "model.compile(loss=\"binary_crossentropy\",  # Use categorical crossentropy\n",
    "              optimizer=\"adam\",\n",
    "              metrics=[\"accuracy\"])  # Accuracy metric is still appropriate\n",
    "\n",
    "# # Train the model\n",
    "# history = model.fit(\n",
    "#     x_train_concat, y_train_one_hot,  # Ensure y_train is one-hot encoded for multi-class\n",
    "#     epochs=20,  \n",
    "#     batch_size=32,\n",
    "#     validation_data=(x_val_concat, y_valid_one_hot),\n",
    "#     verbose=1,\n",
    "#     # class_weight=class_weights_dict,\n",
    "#     # callbacks=[early_stop]\n",
    "# )\n",
    "\n",
    "# # Get predictions\n",
    "# y_pred = model.predict(x_test_concat)\n",
    "# y_pred_classes = np.argmax(y_pred, axis=1)  # Get the class with the highest probability\n",
    "\n",
    "# Train the model\n",
    "history = model.fit(\n",
    "    x_train_concat, y_train_concat,  # Ensure y_train is one-hot encoded for multi-class\n",
    "    epochs=20,  \n",
    "    batch_size=64,\n",
    "    validation_data=(x_val_concat, y_val_concat),\n",
    "    verbose=1,\n",
    "    # class_weight=class_weights_dict,\n",
    "    # callbacks=[early_stop]\n",
    ")\n",
    "\n",
    "# Get predictions\n",
    "y_pred = model.predict(x_test_concat)\n",
    "y_pred_classes = np.argmax(y_pred, axis=1)  # Get the class with the highest probability\n",
    "\n",
    "# # Save the model\n",
    "model.save(\"conv_net_new_data_anomaly_15p_add_normal_3.h5\")\n"
   ]
  },
  {
   "cell_type": "code",
   "execution_count": 73,
   "metadata": {},
   "outputs": [
    {
     "data": {
      "text/plain": [
       "[<matplotlib.lines.Line2D at 0x2a58488b0>]"
      ]
     },
     "execution_count": 73,
     "metadata": {},
     "output_type": "execute_result"
    },
    {
     "data": {
      "image/png": "[encoded data removed]",
      "text/plain": [
       "<Figure size 640x480 with 1 Axes>"
      ]
     },
     "metadata": {},
     "output_type": "display_data"
    }
   ],
   "source": [
    "\n",
    "plt.plot(history.history[\"val_loss\"])"
   ]
  },
  {
   "cell_type": "code",
   "execution_count": 74,
   "metadata": {},
   "outputs": [
    {
     "data": {
      "text/html": [
       "<pre style=\"white-space:pre;overflow-x:auto;line-height:normal;font-family:Menlo,'DejaVu Sans Mono',consolas,'Courier New',monospace\"><span style=\"font-weight: bold\">Model: \"sequential_5\"</span>\n",
       "</pre>\n"
      ],
      "text/plain": [
       "\u001b[1mModel: \"sequential_5\"\u001b[0m\n"
      ]
     },
     "metadata": {},
     "output_type": "display_data"
    },
    {
     "data": {
      "text/html": [
       "<pre style=\"white-space:pre;overflow-x:auto;line-height:normal;font-family:Menlo,'DejaVu Sans Mono',consolas,'Courier New',monospace\">┏━━━━━━━━━━━━━━━━━━━━━━━━━━━━━━━━━┳━━━━━━━━━━━━━━━━━━━━━━━━┳━━━━━━━━━━━━━━━┓\n",
       "┃<span style=\"font-weight: bold\"> Layer (type)                    </span>┃<span style=\"font-weight: bold\"> Output Shape           </span>┃<span style=\"font-weight: bold\">       Param # </span>┃\n",
       "┡━━━━━━━━━━━━━━━━━━━━━━━━━━━━━━━━━╇━━━━━━━━━━━━━━━━━━━━━━━━╇━━━━━━━━━━━━━━━┩\n",
       "│ conv1d_30 (<span style=\"color: #0087ff; text-decoration-color: #0087ff\">Conv1D</span>)              │ (<span style=\"color: #00d7ff; text-decoration-color: #00d7ff\">None</span>, <span style=\"color: #00af00; text-decoration-color: #00af00\">100</span>, <span style=\"color: #00af00; text-decoration-color: #00af00\">32</span>)        │           <span style=\"color: #00af00; text-decoration-color: #00af00\">320</span> │\n",
       "├─────────────────────────────────┼────────────────────────┼───────────────┤\n",
       "│ conv1d_31 (<span style=\"color: #0087ff; text-decoration-color: #0087ff\">Conv1D</span>)              │ (<span style=\"color: #00d7ff; text-decoration-color: #00d7ff\">None</span>, <span style=\"color: #00af00; text-decoration-color: #00af00\">100</span>, <span style=\"color: #00af00; text-decoration-color: #00af00\">32</span>)        │         <span style=\"color: #00af00; text-decoration-color: #00af00\">3,104</span> │\n",
       "├─────────────────────────────────┼────────────────────────┼───────────────┤\n",
       "│ max_pooling1d_15 (<span style=\"color: #0087ff; text-decoration-color: #0087ff\">MaxPooling1D</span>) │ (<span style=\"color: #00d7ff; text-decoration-color: #00d7ff\">None</span>, <span style=\"color: #00af00; text-decoration-color: #00af00\">50</span>, <span style=\"color: #00af00; text-decoration-color: #00af00\">32</span>)         │             <span style=\"color: #00af00; text-decoration-color: #00af00\">0</span> │\n",
       "├─────────────────────────────────┼────────────────────────┼───────────────┤\n",
       "│ conv1d_32 (<span style=\"color: #0087ff; text-decoration-color: #0087ff\">Conv1D</span>)              │ (<span style=\"color: #00d7ff; text-decoration-color: #00d7ff\">None</span>, <span style=\"color: #00af00; text-decoration-color: #00af00\">50</span>, <span style=\"color: #00af00; text-decoration-color: #00af00\">64</span>)         │         <span style=\"color: #00af00; text-decoration-color: #00af00\">6,208</span> │\n",
       "├─────────────────────────────────┼────────────────────────┼───────────────┤\n",
       "│ conv1d_33 (<span style=\"color: #0087ff; text-decoration-color: #0087ff\">Conv1D</span>)              │ (<span style=\"color: #00d7ff; text-decoration-color: #00d7ff\">None</span>, <span style=\"color: #00af00; text-decoration-color: #00af00\">50</span>, <span style=\"color: #00af00; text-decoration-color: #00af00\">64</span>)         │        <span style=\"color: #00af00; text-decoration-color: #00af00\">12,352</span> │\n",
       "├─────────────────────────────────┼────────────────────────┼───────────────┤\n",
       "│ max_pooling1d_16 (<span style=\"color: #0087ff; text-decoration-color: #0087ff\">MaxPooling1D</span>) │ (<span style=\"color: #00d7ff; text-decoration-color: #00d7ff\">None</span>, <span style=\"color: #00af00; text-decoration-color: #00af00\">25</span>, <span style=\"color: #00af00; text-decoration-color: #00af00\">64</span>)         │             <span style=\"color: #00af00; text-decoration-color: #00af00\">0</span> │\n",
       "├─────────────────────────────────┼────────────────────────┼───────────────┤\n",
       "│ conv1d_34 (<span style=\"color: #0087ff; text-decoration-color: #0087ff\">Conv1D</span>)              │ (<span style=\"color: #00d7ff; text-decoration-color: #00d7ff\">None</span>, <span style=\"color: #00af00; text-decoration-color: #00af00\">25</span>, <span style=\"color: #00af00; text-decoration-color: #00af00\">128</span>)        │        <span style=\"color: #00af00; text-decoration-color: #00af00\">24,704</span> │\n",
       "├─────────────────────────────────┼────────────────────────┼───────────────┤\n",
       "│ conv1d_35 (<span style=\"color: #0087ff; text-decoration-color: #0087ff\">Conv1D</span>)              │ (<span style=\"color: #00d7ff; text-decoration-color: #00d7ff\">None</span>, <span style=\"color: #00af00; text-decoration-color: #00af00\">25</span>, <span style=\"color: #00af00; text-decoration-color: #00af00\">128</span>)        │        <span style=\"color: #00af00; text-decoration-color: #00af00\">49,280</span> │\n",
       "├─────────────────────────────────┼────────────────────────┼───────────────┤\n",
       "│ max_pooling1d_17 (<span style=\"color: #0087ff; text-decoration-color: #0087ff\">MaxPooling1D</span>) │ (<span style=\"color: #00d7ff; text-decoration-color: #00d7ff\">None</span>, <span style=\"color: #00af00; text-decoration-color: #00af00\">12</span>, <span style=\"color: #00af00; text-decoration-color: #00af00\">128</span>)        │             <span style=\"color: #00af00; text-decoration-color: #00af00\">0</span> │\n",
       "├─────────────────────────────────┼────────────────────────┼───────────────┤\n",
       "│ global_average_pooling1d_5      │ (<span style=\"color: #00d7ff; text-decoration-color: #00d7ff\">None</span>, <span style=\"color: #00af00; text-decoration-color: #00af00\">128</span>)            │             <span style=\"color: #00af00; text-decoration-color: #00af00\">0</span> │\n",
       "│ (<span style=\"color: #0087ff; text-decoration-color: #0087ff\">GlobalAveragePooling1D</span>)        │                        │               │\n",
       "├─────────────────────────────────┼────────────────────────┼───────────────┤\n",
       "│ dense_10 (<span style=\"color: #0087ff; text-decoration-color: #0087ff\">Dense</span>)                │ (<span style=\"color: #00d7ff; text-decoration-color: #00d7ff\">None</span>, <span style=\"color: #00af00; text-decoration-color: #00af00\">128</span>)            │        <span style=\"color: #00af00; text-decoration-color: #00af00\">16,512</span> │\n",
       "├─────────────────────────────────┼────────────────────────┼───────────────┤\n",
       "│ dense_11 (<span style=\"color: #0087ff; text-decoration-color: #0087ff\">Dense</span>)                │ (<span style=\"color: #00d7ff; text-decoration-color: #00d7ff\">None</span>, <span style=\"color: #00af00; text-decoration-color: #00af00\">1</span>)              │           <span style=\"color: #00af00; text-decoration-color: #00af00\">129</span> │\n",
       "└─────────────────────────────────┴────────────────────────┴───────────────┘\n",
       "</pre>\n"
      ],
      "text/plain": [
       "┏━━━━━━━━━━━━━━━━━━━━━━━━━━━━━━━━━┳━━━━━━━━━━━━━━━━━━━━━━━━┳━━━━━━━━━━━━━━━┓\n",
       "┃\u001b[1m \u001b[0m\u001b[1mLayer (type)                   \u001b[0m\u001b[1m \u001b[0m┃\u001b[1m \u001b[0m\u001b[1mOutput Shape          \u001b[0m\u001b[1m \u001b[0m┃\u001b[1m \u001b[0m\u001b[1m      Param #\u001b[0m\u001b[1m \u001b[0m┃\n",
       "┡━━━━━━━━━━━━━━━━━━━━━━━━━━━━━━━━━╇━━━━━━━━━━━━━━━━━━━━━━━━╇━━━━━━━━━━━━━━━┩\n",
       "│ conv1d_30 (\u001b[38;5;33mConv1D\u001b[0m)              │ (\u001b[38;5;45mNone\u001b[0m, \u001b[38;5;34m100\u001b[0m, \u001b[38;5;34m32\u001b[0m)        │           \u001b[38;5;34m320\u001b[0m │\n",
       "├─────────────────────────────────┼────────────────────────┼───────────────┤\n",
       "│ conv1d_31 (\u001b[38;5;33mConv1D\u001b[0m)              │ (\u001b[38;5;45mNone\u001b[0m, \u001b[38;5;34m100\u001b[0m, \u001b[38;5;34m32\u001b[0m)        │         \u001b[38;5;34m3,104\u001b[0m │\n",
       "├─────────────────────────────────┼────────────────────────┼───────────────┤\n",
       "│ max_pooling1d_15 (\u001b[38;5;33mMaxPooling1D\u001b[0m) │ (\u001b[38;5;45mNone\u001b[0m, \u001b[38;5;34m50\u001b[0m, \u001b[38;5;34m32\u001b[0m)         │             \u001b[38;5;34m0\u001b[0m │\n",
       "├─────────────────────────────────┼────────────────────────┼───────────────┤\n",
       "│ conv1d_32 (\u001b[38;5;33mConv1D\u001b[0m)              │ (\u001b[38;5;45mNone\u001b[0m, \u001b[38;5;34m50\u001b[0m, \u001b[38;5;34m64\u001b[0m)         │         \u001b[38;5;34m6,208\u001b[0m │\n",
       "├─────────────────────────────────┼────────────────────────┼───────────────┤\n",
       "│ conv1d_33 (\u001b[38;5;33mConv1D\u001b[0m)              │ (\u001b[38;5;45mNone\u001b[0m, \u001b[38;5;34m50\u001b[0m, \u001b[38;5;34m64\u001b[0m)         │        \u001b[38;5;34m12,352\u001b[0m │\n",
       "├─────────────────────────────────┼────────────────────────┼───────────────┤\n",
       "│ max_pooling1d_16 (\u001b[38;5;33mMaxPooling1D\u001b[0m) │ (\u001b[38;5;45mNone\u001b[0m, \u001b[38;5;34m25\u001b[0m, \u001b[38;5;34m64\u001b[0m)         │             \u001b[38;5;34m0\u001b[0m │\n",
       "├─────────────────────────────────┼────────────────────────┼───────────────┤\n",
       "│ conv1d_34 (\u001b[38;5;33mConv1D\u001b[0m)              │ (\u001b[38;5;45mNone\u001b[0m, \u001b[38;5;34m25\u001b[0m, \u001b[38;5;34m128\u001b[0m)        │        \u001b[38;5;34m24,704\u001b[0m │\n",
       "├─────────────────────────────────┼────────────────────────┼───────────────┤\n",
       "│ conv1d_35 (\u001b[38;5;33mConv1D\u001b[0m)              │ (\u001b[38;5;45mNone\u001b[0m, \u001b[38;5;34m25\u001b[0m, \u001b[38;5;34m128\u001b[0m)        │        \u001b[38;5;34m49,280\u001b[0m │\n",
       "├─────────────────────────────────┼────────────────────────┼───────────────┤\n",
       "│ max_pooling1d_17 (\u001b[38;5;33mMaxPooling1D\u001b[0m) │ (\u001b[38;5;45mNone\u001b[0m, \u001b[38;5;34m12\u001b[0m, \u001b[38;5;34m128\u001b[0m)        │             \u001b[38;5;34m0\u001b[0m │\n",
       "├─────────────────────────────────┼────────────────────────┼───────────────┤\n",
       "│ global_average_pooling1d_5      │ (\u001b[38;5;45mNone\u001b[0m, \u001b[38;5;34m128\u001b[0m)            │             \u001b[38;5;34m0\u001b[0m │\n",
       "│ (\u001b[38;5;33mGlobalAveragePooling1D\u001b[0m)        │                        │               │\n",
       "├─────────────────────────────────┼────────────────────────┼───────────────┤\n",
       "│ dense_10 (\u001b[38;5;33mDense\u001b[0m)                │ (\u001b[38;5;45mNone\u001b[0m, \u001b[38;5;34m128\u001b[0m)            │        \u001b[38;5;34m16,512\u001b[0m │\n",
       "├─────────────────────────────────┼────────────────────────┼───────────────┤\n",
       "│ dense_11 (\u001b[38;5;33mDense\u001b[0m)                │ (\u001b[38;5;45mNone\u001b[0m, \u001b[38;5;34m1\u001b[0m)              │           \u001b[38;5;34m129\u001b[0m │\n",
       "└─────────────────────────────────┴────────────────────────┴───────────────┘\n"
      ]
     },
     "metadata": {},
     "output_type": "display_data"
    },
    {
     "data": {
      "text/html": [
       "<pre style=\"white-space:pre;overflow-x:auto;line-height:normal;font-family:Menlo,'DejaVu Sans Mono',consolas,'Courier New',monospace\"><span style=\"font-weight: bold\"> Total params: </span><span style=\"color: #00af00; text-decoration-color: #00af00\">337,829</span> (1.29 MB)\n",
       "</pre>\n"
      ],
      "text/plain": [
       "\u001b[1m Total params: \u001b[0m\u001b[38;5;34m337,829\u001b[0m (1.29 MB)\n"
      ]
     },
     "metadata": {},
     "output_type": "display_data"
    },
    {
     "data": {
      "text/html": [
       "<pre style=\"white-space:pre;overflow-x:auto;line-height:normal;font-family:Menlo,'DejaVu Sans Mono',consolas,'Courier New',monospace\"><span style=\"font-weight: bold\"> Trainable params: </span><span style=\"color: #00af00; text-decoration-color: #00af00\">112,609</span> (439.88 KB)\n",
       "</pre>\n"
      ],
      "text/plain": [
       "\u001b[1m Trainable params: \u001b[0m\u001b[38;5;34m112,609\u001b[0m (439.88 KB)\n"
      ]
     },
     "metadata": {},
     "output_type": "display_data"
    },
    {
     "data": {
      "text/html": [
       "<pre style=\"white-space:pre;overflow-x:auto;line-height:normal;font-family:Menlo,'DejaVu Sans Mono',consolas,'Courier New',monospace\"><span style=\"font-weight: bold\"> Non-trainable params: </span><span style=\"color: #00af00; text-decoration-color: #00af00\">0</span> (0.00 B)\n",
       "</pre>\n"
      ],
      "text/plain": [
       "\u001b[1m Non-trainable params: \u001b[0m\u001b[38;5;34m0\u001b[0m (0.00 B)\n"
      ]
     },
     "metadata": {},
     "output_type": "display_data"
    },
    {
     "data": {
      "text/html": [
       "<pre style=\"white-space:pre;overflow-x:auto;line-height:normal;font-family:Menlo,'DejaVu Sans Mono',consolas,'Courier New',monospace\"><span style=\"font-weight: bold\"> Optimizer params: </span><span style=\"color: #00af00; text-decoration-color: #00af00\">225,220</span> (879.77 KB)\n",
       "</pre>\n"
      ],
      "text/plain": [
       "\u001b[1m Optimizer params: \u001b[0m\u001b[38;5;34m225,220\u001b[0m (879.77 KB)\n"
      ]
     },
     "metadata": {},
     "output_type": "display_data"
    }
   ],
   "source": [
    "model.summary()"
   ]
  },
  {
   "cell_type": "code",
   "execution_count": 75,
   "metadata": {},
   "outputs": [
    {
     "name": "stdout",
     "output_type": "stream",
     "text": [
      "\u001b[1m326/326\u001b[0m \u001b[32m━━━━━━━━━━━━━━━━━━━━\u001b[0m\u001b[37m\u001b[0m \u001b[1m1s\u001b[0m 2ms/step - accuracy: 0.9993 - loss: nan\n",
      "nan\n",
      "0.9993277192115784\n"
     ]
    }
   ],
   "source": [
    "loss, accuracy = model.evaluate(x_test_concat, y_test_concat, verbose=1)\n",
    "print(loss)\n",
    "print(accuracy)"
   ]
  },
  {
   "cell_type": "code",
   "execution_count": 76,
   "metadata": {},
   "outputs": [
    {
     "data": {
      "text/plain": [
       "(10412,)"
      ]
     },
     "execution_count": 76,
     "metadata": {},
     "output_type": "execute_result"
    }
   ],
   "source": [
    "y_test_concat.shape"
   ]
  },
  {
   "cell_type": "code",
   "execution_count": 77,
   "metadata": {},
   "outputs": [
    {
     "name": "stdout",
     "output_type": "stream",
     "text": [
      "\u001b[1m295/295\u001b[0m \u001b[32m━━━━━━━━━━━━━━━━━━━━\u001b[0m\u001b[37m\u001b[0m \u001b[1m1s\u001b[0m 2ms/step - accuracy: 0.9986 - loss: 0.0031\n",
      "0.007810013368725777\n",
      "0.9963906407356262\n"
     ]
    }
   ],
   "source": [
    "loss, accuracy = model.evaluate(anomaly_splits_test_raw, y_label_1_raw_test, verbose=1)\n",
    "print(loss)\n",
    "print(accuracy)"
   ]
  },
  {
   "cell_type": "code",
   "execution_count": 78,
   "metadata": {},
   "outputs": [
    {
     "data": {
      "text/plain": [
       "(9420,)"
      ]
     },
     "execution_count": 78,
     "metadata": {},
     "output_type": "execute_result"
    }
   ],
   "source": [
    "y_label_1_raw_test.shape"
   ]
  },
  {
   "cell_type": "code",
   "execution_count": 79,
   "metadata": {},
   "outputs": [
    {
     "name": "stdout",
     "output_type": "stream",
     "text": [
      "\u001b[1m295/295\u001b[0m \u001b[32m━━━━━━━━━━━━━━━━━━━━\u001b[0m\u001b[37m\u001b[0m \u001b[1m1s\u001b[0m 2ms/step\n",
      "[[0.99987906]\n",
      " [0.99984145]\n",
      " [0.99858373]\n",
      " [0.99992895]\n",
      " [0.99953914]\n",
      " [0.9998788 ]\n",
      " [0.99976   ]\n",
      " [0.9999536 ]\n",
      " [0.9997635 ]\n",
      " [0.9999184 ]]\n",
      "[1. 1. 1. 1. 1. 1. 1. 1. 1. 1.]\n"
     ]
    }
   ],
   "source": [
    "y_pred = model.predict(anomaly_splits_test_raw, verbose=1)\n",
    "\n",
    "print(y_pred[:10])\n",
    "print(y_label_1_raw_test[:10])"
   ]
  },
  {
   "cell_type": "code",
   "execution_count": 174,
   "metadata": {},
   "outputs": [
    {
     "name": "stdout",
     "output_type": "stream",
     "text": [
      "\u001b[1m54/54\u001b[0m \u001b[32m━━━━━━━━━━━━━━━━━━━━\u001b[0m\u001b[37m\u001b[0m \u001b[1m0s\u001b[0m 2ms/step\n",
      "[[9.9731541e-01 6.2370417e-04 2.0609689e-03]\n",
      " [9.9957550e-01 1.0131643e-04 3.2326195e-04]\n",
      " [9.3877333e-01 3.9682076e-03 5.7258498e-02]\n",
      " [9.6514094e-01 1.8984770e-03 3.2960553e-02]\n",
      " [9.9768603e-01 4.1098875e-04 1.9029751e-03]\n",
      " [9.9929160e-01 1.6895907e-04 5.3948828e-04]\n",
      " [9.9943495e-01 1.0805808e-04 4.5704952e-04]\n",
      " [7.2029099e-02 1.4383234e-02 9.1358769e-01]\n",
      " [3.5445338e-01 1.6174611e-02 6.2937194e-01]\n",
      " [8.1945711e-01 1.2141216e-02 1.6840173e-01]]\n",
      "[0. 0. 0. 0. 0. 0. 0. 0. 0. 0.]\n"
     ]
    }
   ],
   "source": [
    "y_pred = model.predict(x_test_concat, verbose=1)\n",
    "\n",
    "print(y_pred[:10])\n",
    "print(y_test_concat[:10])"
   ]
  },
  {
   "cell_type": "code",
   "execution_count": 191,
   "metadata": {},
   "outputs": [
    {
     "name": "stdout",
     "output_type": "stream",
     "text": [
      "1734\n",
      "16956\n",
      "혼동 행렬:\n",
      " [[1440    0]\n",
      " [ 294    0]]\n"
     ]
    }
   ],
   "source": [
    "import numpy as np\n",
    "\n",
    "# y_pred의 형태 확인 및 정수형으로 변환\n",
    "if y_pred.ndim == 2:\n",
    "    y_pred = np.argmax(y_pred, axis=1)\n",
    "elif y_pred.ndim == 1:\n",
    "    print(\"y_pred는 이미 클래스 인덱스입니다.\")\n",
    "\n",
    "# y_test 및 y_pred의 고유 클래스 추출\n",
    "unique_classes = np.unique(np.concatenate((y_test_concat, y_pred)))  # 두 배열의 고유 클래스 합치기\n",
    "\n",
    "# 클래스 인덱스를 0부터 시작하도록 조정\n",
    "class_to_index = {cls: idx for idx, cls in enumerate(unique_classes)}\n",
    "y_test_mapped = np.array([class_to_index[cls] for cls in y_test_concat])\n",
    "y_pred_mapped = np.array([class_to_index[cls] for cls in y_pred])\n",
    "\n",
    "\n",
    "print(len(y_test_mapped))\n",
    "print(len(y_pred_mapped))\n",
    "# 혼동 행렬 초기화\n",
    "num_classes = len(unique_classes)\n",
    "conf_matrix = np.zeros((num_classes, num_classes), dtype=int)\n",
    "\n",
    "# 혼동 행렬 계산\n",
    "for i in range(len(y_test_concat)):\n",
    "    conf_matrix[y_test_mapped[i], y_pred_mapped[i]] += 1\n",
    "\n",
    "# 혼동 행렬 출력\n",
    "print(\"혼동 행렬:\\n\", conf_matrix)"
   ]
  },
  {
   "cell_type": "code",
   "execution_count": 80,
   "metadata": {},
   "outputs": [
    {
     "name": "stdout",
     "output_type": "stream",
     "text": [
      "\u001b[1m326/326\u001b[0m \u001b[32m━━━━━━━━━━━━━━━━━━━━\u001b[0m\u001b[37m\u001b[0m \u001b[1m1s\u001b[0m 2ms/step\n",
      "(10412, 1) (10412,)\n",
      "              precision    recall  f1-score   support\n",
      "\n",
      "         0.0       1.00      1.00      1.00      8997\n",
      "         1.0       1.00      1.00      1.00      1415\n",
      "\n",
      "    accuracy                           1.00     10412\n",
      "   macro avg       1.00      1.00      1.00     10412\n",
      "weighted avg       1.00      1.00      1.00     10412\n",
      "\n",
      "Confusion Matrix:\n",
      "[[8992    5]\n",
      " [   2 1413]]\n"
     ]
    },
    {
     "data": {
      "image/png": "[encoded data removed]",
      "text/plain": [
       "<Figure size 800x600 with 2 Axes>"
      ]
     },
     "metadata": {},
     "output_type": "display_data"
    }
   ],
   "source": [
    "## v1 - \n",
    "import seaborn as sns\n",
    "from sklearn.metrics import confusion_matrix, classification_report\n",
    "y_pred = model.predict(x_test_concat)\n",
    "\n",
    "y_pred_labels = (y_pred > 0.5).astype(int)\n",
    "# y_test_labels = np.argmax(y_test_concat, axis=1) \n",
    "print(y_pred_labels.shape, y_test_concat.shape)\n",
    "\n",
    "print(classification_report(y_test_concat, y_pred_labels))\n",
    "\n",
    "conf_matrix = confusion_matrix(y_test_concat, y_pred_labels)\n",
    "\n",
    "# 혼동행렬 출력\n",
    "print(\"Confusion Matrix:\")\n",
    "print(conf_matrix)\n",
    "\n",
    "# 혼동행렬 시각화\n",
    "plt.figure(figsize=(8, 6))\n",
    "sns.heatmap(conf_matrix, annot=True, fmt='d', cmap='Blues')\n",
    "plt.xlabel('Predicted Labels')\n",
    "plt.ylabel('True Labels')\n",
    "plt.title('Confusion Matrix')\n",
    "plt.show()"
   ]
  },
  {
   "cell_type": "code",
   "execution_count": 205,
   "metadata": {},
   "outputs": [
    {
     "name": "stdout",
     "output_type": "stream",
     "text": [
      "\u001b[1m530/530\u001b[0m \u001b[32m━━━━━━━━━━━━━━━━━━━━\u001b[0m\u001b[37m\u001b[0m \u001b[1m1s\u001b[0m 2ms/step\n",
      "(16956, 1) (16956,)\n",
      "              precision    recall  f1-score   support\n",
      "\n",
      "         0.0       0.00      0.00      0.00         0\n",
      "         1.0       1.00      0.98      0.99     16956\n",
      "\n",
      "    accuracy                           0.98     16956\n",
      "   macro avg       0.50      0.49      0.50     16956\n",
      "weighted avg       1.00      0.98      0.99     16956\n",
      "\n",
      "Confusion Matrix:\n",
      "[[    0     0]\n",
      " [  266 16690]]\n"
     ]
    },
    {
     "name": "stderr",
     "output_type": "stream",
     "text": [
      "/Users/seyeong/anaconda3/envs/anomaly_detection/lib/python3.10/site-packages/sklearn/metrics/_classification.py:1531: UndefinedMetricWarning: Recall is ill-defined and being set to 0.0 in labels with no true samples. Use `zero_division` parameter to control this behavior.\n",
      "  _warn_prf(average, modifier, f\"{metric.capitalize()} is\", len(result))\n",
      "/Users/seyeong/anaconda3/envs/anomaly_detection/lib/python3.10/site-packages/sklearn/metrics/_classification.py:1531: UndefinedMetricWarning: Recall is ill-defined and being set to 0.0 in labels with no true samples. Use `zero_division` parameter to control this behavior.\n",
      "  _warn_prf(average, modifier, f\"{metric.capitalize()} is\", len(result))\n",
      "/Users/seyeong/anaconda3/envs/anomaly_detection/lib/python3.10/site-packages/sklearn/metrics/_classification.py:1531: UndefinedMetricWarning: Recall is ill-defined and being set to 0.0 in labels with no true samples. Use `zero_division` parameter to control this behavior.\n",
      "  _warn_prf(average, modifier, f\"{metric.capitalize()} is\", len(result))\n"
     ]
    },
    {
     "data": {
      "image/png": "[encoded data removed]",
      "text/plain": [
       "<Figure size 800x600 with 2 Axes>"
      ]
     },
     "metadata": {},
     "output_type": "display_data"
    }
   ],
   "source": [
    "## v2 - \n",
    "import seaborn as sns\n",
    "from sklearn.metrics import confusion_matrix, classification_report\n",
    "y_pred = model.predict(anomaly_splits_test_raw)\n",
    "\n",
    "y_pred_labels = (y_pred > 0.5).astype(int)\n",
    "# y_test_labels = np.argmax(y_test_concat, axis=1) \n",
    "print(y_pred_labels.shape, y_label_1_raw_test.shape)\n",
    "\n",
    "print(classification_report(y_label_1_raw_test, y_pred_labels))\n",
    "\n",
    "conf_matrix = confusion_matrix(y_label_1_raw_test, y_pred_labels)\n",
    "\n",
    "# 혼동행렬 출력\n",
    "print(\"Confusion Matrix:\")\n",
    "print(conf_matrix)\n",
    "\n",
    "# 혼동행렬 시각화\n",
    "plt.figure(figsize=(8, 6))\n",
    "sns.heatmap(conf_matrix, annot=True, fmt='d', cmap='Blues')\n",
    "plt.xlabel('Predicted Labels')\n",
    "plt.ylabel('True Labels')\n",
    "plt.title('Confusion Matrix')\n",
    "plt.show()"
   ]
  },
  {
   "cell_type": "markdown",
   "metadata": {},
   "source": [
    "### Classification with anomaly data"
   ]
  },
  {
   "cell_type": "code",
   "execution_count": 194,
   "metadata": {},
   "outputs": [],
   "source": [
    "import glob\n",
    "file_paths = glob.glob('./data/anomaly_data/*.csv')\n",
    "exclude_files = [\n",
    "    './data/anomaly_data/anomaly_7v_data2.csv',\n",
    "    './data/anomaly_data/anomaly_7v_data1.csv'\n",
    "]\n",
    "\n",
    "file_paths = [file for file in file_paths if file not in exclude_files]\n",
    "\n",
    "# df_list = []\n",
    "\n",
    "# anomaly_splits = []\n",
    "# for i in anomaly_file_paths:\n",
    "#     data_df = pd.read_csv(file, header=None)\n",
    "\n",
    "#     data_df_split_test = np.array_split(data_df, len(data_df) // DATA_SLICE_SIZE)\n",
    "#     print(len(data_df_split_test))\n",
    "\n",
    "#     anomaly_splits_test.append(data_df_split_test)\n",
    "#     anomaly_splits.append(data_df_split)\n",
    "\n"
   ]
  },
  {
   "cell_type": "code",
   "execution_count": 195,
   "metadata": {},
   "outputs": [
    {
     "name": "stdout",
     "output_type": "stream",
     "text": [
      "./data/anomaly_data/anomaly_unstable_data.csv\n",
      "./data/anomaly_data/anomaly_5v_data2.csv\n",
      "./data/anomaly_data/anomaly_5v_data1.csv\n",
      "./data/anomaly_data/anomaly_unbalanced_9v_data1.csv\n"
     ]
    },
    {
     "name": "stderr",
     "output_type": "stream",
     "text": [
      "/Users/seyeong/anaconda3/envs/anomaly_detection/lib/python3.10/site-packages/numpy/core/fromnumeric.py:59: FutureWarning: 'DataFrame.swapaxes' is deprecated and will be removed in a future version. Please use 'DataFrame.transpose' instead.\n",
      "  return bound(*args, **kwds)\n",
      "/Users/seyeong/anaconda3/envs/anomaly_detection/lib/python3.10/site-packages/numpy/core/fromnumeric.py:59: FutureWarning: 'DataFrame.swapaxes' is deprecated and will be removed in a future version. Please use 'DataFrame.transpose' instead.\n",
      "  return bound(*args, **kwds)\n",
      "/Users/seyeong/anaconda3/envs/anomaly_detection/lib/python3.10/site-packages/numpy/core/fromnumeric.py:59: FutureWarning: 'DataFrame.swapaxes' is deprecated and will be removed in a future version. Please use 'DataFrame.transpose' instead.\n",
      "  return bound(*args, **kwds)\n",
      "/Users/seyeong/anaconda3/envs/anomaly_detection/lib/python3.10/site-packages/numpy/core/fromnumeric.py:59: FutureWarning: 'DataFrame.swapaxes' is deprecated and will be removed in a future version. Please use 'DataFrame.transpose' instead.\n",
      "  return bound(*args, **kwds)\n"
     ]
    },
    {
     "name": "stdout",
     "output_type": "stream",
     "text": [
      "./data/anomaly_data/anomaly_3v_data1.csv\n",
      "./data/anomaly_data/anomaly_3v_data2.csv\n",
      "./data/anomaly_data/anomaly_on_off_data.csv\n",
      "./data/anomaly_data/anomaly_tape_contact_data.csv\n",
      "./data/anomaly_data/anomaly_wind_noise_data.csv\n",
      "./data/anomaly_data/anomaly_unbalanced_12v_data1.csv\n"
     ]
    },
    {
     "name": "stderr",
     "output_type": "stream",
     "text": [
      "/Users/seyeong/anaconda3/envs/anomaly_detection/lib/python3.10/site-packages/numpy/core/fromnumeric.py:59: FutureWarning: 'DataFrame.swapaxes' is deprecated and will be removed in a future version. Please use 'DataFrame.transpose' instead.\n",
      "  return bound(*args, **kwds)\n",
      "/Users/seyeong/anaconda3/envs/anomaly_detection/lib/python3.10/site-packages/numpy/core/fromnumeric.py:59: FutureWarning: 'DataFrame.swapaxes' is deprecated and will be removed in a future version. Please use 'DataFrame.transpose' instead.\n",
      "  return bound(*args, **kwds)\n",
      "/Users/seyeong/anaconda3/envs/anomaly_detection/lib/python3.10/site-packages/numpy/core/fromnumeric.py:59: FutureWarning: 'DataFrame.swapaxes' is deprecated and will be removed in a future version. Please use 'DataFrame.transpose' instead.\n",
      "  return bound(*args, **kwds)\n",
      "/Users/seyeong/anaconda3/envs/anomaly_detection/lib/python3.10/site-packages/numpy/core/fromnumeric.py:59: FutureWarning: 'DataFrame.swapaxes' is deprecated and will be removed in a future version. Please use 'DataFrame.transpose' instead.\n",
      "  return bound(*args, **kwds)\n",
      "/Users/seyeong/anaconda3/envs/anomaly_detection/lib/python3.10/site-packages/numpy/core/fromnumeric.py:59: FutureWarning: 'DataFrame.swapaxes' is deprecated and will be removed in a future version. Please use 'DataFrame.transpose' instead.\n",
      "  return bound(*args, **kwds)\n",
      "/Users/seyeong/anaconda3/envs/anomaly_detection/lib/python3.10/site-packages/numpy/core/fromnumeric.py:59: FutureWarning: 'DataFrame.swapaxes' is deprecated and will be removed in a future version. Please use 'DataFrame.transpose' instead.\n",
      "  return bound(*args, **kwds)\n"
     ]
    },
    {
     "name": "stdout",
     "output_type": "stream",
     "text": [
      "./data/anomaly_data/anomaly_contact_12v_data1.csv\n"
     ]
    },
    {
     "name": "stderr",
     "output_type": "stream",
     "text": [
      "/Users/seyeong/anaconda3/envs/anomaly_detection/lib/python3.10/site-packages/numpy/core/fromnumeric.py:59: FutureWarning: 'DataFrame.swapaxes' is deprecated and will be removed in a future version. Please use 'DataFrame.transpose' instead.\n",
      "  return bound(*args, **kwds)\n"
     ]
    },
    {
     "name": "stdout",
     "output_type": "stream",
     "text": [
      "./data/anomaly_data/anomaly_contact_9v_data1.csv\n"
     ]
    },
    {
     "name": "stderr",
     "output_type": "stream",
     "text": [
      "/Users/seyeong/anaconda3/envs/anomaly_detection/lib/python3.10/site-packages/numpy/core/fromnumeric.py:59: FutureWarning: 'DataFrame.swapaxes' is deprecated and will be removed in a future version. Please use 'DataFrame.transpose' instead.\n",
      "  return bound(*args, **kwds)\n"
     ]
    },
    {
     "ename": "ValueError",
     "evalue": "setting an array element with a sequence. The requested array has an inhomogeneous shape after 1 dimensions. The detected shape was (15240,) + inhomogeneous part.",
     "output_type": "error",
     "traceback": [
      "\u001b[0;31m---------------------------------------------------------------------------\u001b[0m",
      "\u001b[0;31mValueError\u001b[0m                                Traceback (most recent call last)",
      "Cell \u001b[0;32mIn[195], line 34\u001b[0m\n\u001b[1;32m     29\u001b[0m         \u001b[38;5;66;03m# print(split.shape, y_label)\u001b[39;00m\n\u001b[1;32m     31\u001b[0m     anomaly_splits\u001b[38;5;241m.\u001b[39mappend(data_df_split_test)\n\u001b[0;32m---> 34\u001b[0m y_label \u001b[38;5;241m=\u001b[39m \u001b[43mnp\u001b[49m\u001b[38;5;241;43m.\u001b[39;49m\u001b[43marray\u001b[49m\u001b[43m(\u001b[49m\u001b[43my_label_raw\u001b[49m\u001b[43m)\u001b[49m\n\u001b[1;32m     35\u001b[0m x_concat \u001b[38;5;241m=\u001b[39m np\u001b[38;5;241m.\u001b[39mconcatenate(anomaly_splits, axis \u001b[38;5;241m=\u001b[39m \u001b[38;5;241m0\u001b[39m)\n\u001b[1;32m     37\u001b[0m \u001b[38;5;28mprint\u001b[39m(\u001b[38;5;124mf\u001b[39m\u001b[38;5;124m\"\u001b[39m\u001b[38;5;124mLabels: \u001b[39m\u001b[38;5;132;01m{\u001b[39;00my_label\u001b[38;5;241m.\u001b[39mshape\u001b[38;5;132;01m}\u001b[39;00m\u001b[38;5;124m\"\u001b[39m)\n",
      "\u001b[0;31mValueError\u001b[0m: setting an array element with a sequence. The requested array has an inhomogeneous shape after 1 dimensions. The detected shape was (15240,) + inhomogeneous part."
     ]
    }
   ],
   "source": [
    "labels = {\n",
    "    '5v': 0,\n",
    "    '3v': 0,\n",
    "    'contact': 1,\n",
    "    'unbalanced': 2\n",
    "}\n",
    "\n",
    "y_label_raw = []  \n",
    "\n",
    "anomaly_splits = []\n",
    "\n",
    "\n",
    "for file in file_paths:\n",
    "    data_df = pd.read_csv(file, header=None)\n",
    "    print(file)\n",
    "    data_df = data_df[:len(data_df) - (len(data_df) % DATA_SLICE_SIZE)]\n",
    "\n",
    "    data_df_split_test = np.array_split(data_df, len(data_df) // DATA_SLICE_SIZE)\n",
    "    # print(len(data_df_split_test))\n",
    "\n",
    "    \n",
    "    for split in data_df_split_test:\n",
    "        \n",
    "        for key in labels.keys():\n",
    "            if key in file:\n",
    "                y_label = labels[key]\n",
    "                break\n",
    "        y_label_raw.append(y_label) \n",
    "        # print(split.shape, y_label)\n",
    "\n",
    "    anomaly_splits.append(data_df_split_test)\n",
    "\n",
    "\n",
    "y_label = np.array(y_label_raw)\n",
    "x_concat = np.concatenate(anomaly_splits, axis = 0)\n",
    "\n",
    "print(f\"Labels: {y_label.shape}\")\n",
    "print(x_concat.shape)\n",
    "\n"
   ]
  },
  {
   "cell_type": "code",
   "execution_count": 158,
   "metadata": {},
   "outputs": [
    {
     "name": "stdout",
     "output_type": "stream",
     "text": [
      "Label counts: {0: 7200, 1: 3600, 2: 3600}\n",
      "Label ratios: {0: 0.5, 1: 0.25, 2: 0.25}\n"
     ]
    }
   ],
   "source": [
    "unique, counts = np.unique(y_label, return_counts=True)\n",
    "label_counts = dict(zip(unique, counts))\n",
    "\n",
    "# 전체 개수 계산\n",
    "total_count = len(y_label)\n",
    "\n",
    "# 라벨 비율 계산\n",
    "label_ratios = {label: count / total_count for label, count in label_counts.items()}\n",
    "\n",
    "# 결과 출력\n",
    "print(\"Label counts:\", label_counts)\n",
    "print(\"Label ratios:\", label_ratios)"
   ]
  },
  {
   "cell_type": "code",
   "execution_count": 159,
   "metadata": {},
   "outputs": [
    {
     "name": "stdout",
     "output_type": "stream",
     "text": [
      "Training set: (10080, 100, 3) (10080,)\n",
      "Validation set: (2160, 100, 3) (2160,)\n",
      "Test set: (2160, 100, 3) (2160,)\n"
     ]
    }
   ],
   "source": [
    "from sklearn.model_selection import train_test_split\n",
    "\n",
    "x_train, x_temp, y_train, y_temp = train_test_split(x_concat, y_label, test_size=0.3, random_state=42, stratify=y_label)\n",
    "x_val, x_test, y_val, y_test = train_test_split(x_temp, y_temp, test_size=0.5, random_state=42, stratify=y_temp)\n",
    "\n",
    "print(\"Training set:\", x_train.shape, y_train.shape)\n",
    "print(\"Validation set:\", x_val.shape, y_val.shape)\n",
    "print(\"Test set:\", x_test.shape, y_test.shape)"
   ]
  },
  {
   "cell_type": "code",
   "execution_count": 240,
   "metadata": {},
   "outputs": [
    {
     "name": "stdout",
     "output_type": "stream",
     "text": [
      "(10080, 3)\n",
      "(2160, 3)\n",
      "(2160, 3)\n"
     ]
    }
   ],
   "source": [
    "from keras.utils import to_categorical\n",
    "\n",
    "# Convert y_train and y_valid to one-hot encoding\n",
    "y_train_one_hot = to_categorical(y_train, num_classes=3)  # Assuming classes are 0, 1\n",
    "y_valid_one_hot = to_categorical(y_val, num_classes=3)  # Assuming you have a similar y_valid\n",
    "y_test_one_hot = to_categorical(y_test, num_classes=3)  # Assuming you have a similar y_test\n",
    "\n",
    "# Check the shape\n",
    "print(y_train_one_hot.shape)  # Should be (10070, 4)\n",
    "print(y_valid_one_hot.shape) \n",
    "print(y_test_one_hot.shape) "
   ]
  },
  {
   "cell_type": "code",
   "execution_count": 1,
   "metadata": {},
   "outputs": [
    {
     "ename": "NameError",
     "evalue": "name 'keras' is not defined",
     "output_type": "error",
     "traceback": [
      "\u001b[0;31m---------------------------------------------------------------------------\u001b[0m",
      "\u001b[0;31mNameError\u001b[0m                                 Traceback (most recent call last)",
      "Cell \u001b[0;32mIn[1], line 1\u001b[0m\n\u001b[0;32m----> 1\u001b[0m model \u001b[38;5;241m=\u001b[39m \u001b[43mkeras\u001b[49m\u001b[38;5;241m.\u001b[39mmodels\u001b[38;5;241m.\u001b[39mSequential([\n\u001b[1;32m      2\u001b[0m     \u001b[38;5;66;03m# Conv Block 1 \u001b[39;00m\n\u001b[1;32m      3\u001b[0m     keras\u001b[38;5;241m.\u001b[39mlayers\u001b[38;5;241m.\u001b[39mConv1D(filters\u001b[38;5;241m=\u001b[39m\u001b[38;5;241m32\u001b[39m, kernel_size\u001b[38;5;241m=\u001b[39m\u001b[38;5;241m3\u001b[39m, strides\u001b[38;5;241m=\u001b[39m\u001b[38;5;241m1\u001b[39m, padding\u001b[38;5;241m=\u001b[39m\u001b[38;5;124m\"\u001b[39m\u001b[38;5;124msame\u001b[39m\u001b[38;5;124m\"\u001b[39m, activation\u001b[38;5;241m=\u001b[39m\u001b[38;5;124m\"\u001b[39m\u001b[38;5;124mrelu\u001b[39m\u001b[38;5;124m\"\u001b[39m,\n\u001b[1;32m      4\u001b[0m                         input_shape\u001b[38;5;241m=\u001b[39m[\u001b[38;5;241m100\u001b[39m, \u001b[38;5;241m3\u001b[39m]),\n\u001b[1;32m      5\u001b[0m     keras\u001b[38;5;241m.\u001b[39mlayers\u001b[38;5;241m.\u001b[39mConv1D(filters\u001b[38;5;241m=\u001b[39m\u001b[38;5;241m32\u001b[39m, kernel_size\u001b[38;5;241m=\u001b[39m\u001b[38;5;241m3\u001b[39m, strides\u001b[38;5;241m=\u001b[39m\u001b[38;5;241m1\u001b[39m, padding\u001b[38;5;241m=\u001b[39m\u001b[38;5;124m\"\u001b[39m\u001b[38;5;124msame\u001b[39m\u001b[38;5;124m\"\u001b[39m, activation\u001b[38;5;241m=\u001b[39m\u001b[38;5;124m\"\u001b[39m\u001b[38;5;124mrelu\u001b[39m\u001b[38;5;124m\"\u001b[39m), \n\u001b[1;32m      6\u001b[0m \n\u001b[1;32m      7\u001b[0m     \u001b[38;5;66;03m# Pooling layer\u001b[39;00m\n\u001b[1;32m      8\u001b[0m     keras\u001b[38;5;241m.\u001b[39mlayers\u001b[38;5;241m.\u001b[39mMaxPooling1D(pool_size\u001b[38;5;241m=\u001b[39m\u001b[38;5;241m2\u001b[39m),\n\u001b[1;32m      9\u001b[0m \n\u001b[1;32m     10\u001b[0m     \u001b[38;5;66;03m# Conv Block 2 \u001b[39;00m\n\u001b[1;32m     11\u001b[0m     keras\u001b[38;5;241m.\u001b[39mlayers\u001b[38;5;241m.\u001b[39mConv1D(filters\u001b[38;5;241m=\u001b[39m\u001b[38;5;241m64\u001b[39m, kernel_size\u001b[38;5;241m=\u001b[39m\u001b[38;5;241m3\u001b[39m, strides\u001b[38;5;241m=\u001b[39m\u001b[38;5;241m1\u001b[39m, padding\u001b[38;5;241m=\u001b[39m\u001b[38;5;124m\"\u001b[39m\u001b[38;5;124msame\u001b[39m\u001b[38;5;124m\"\u001b[39m, activation\u001b[38;5;241m=\u001b[39m\u001b[38;5;124m\"\u001b[39m\u001b[38;5;124mrelu\u001b[39m\u001b[38;5;124m\"\u001b[39m),\n\u001b[1;32m     12\u001b[0m     keras\u001b[38;5;241m.\u001b[39mlayers\u001b[38;5;241m.\u001b[39mConv1D(filters\u001b[38;5;241m=\u001b[39m\u001b[38;5;241m64\u001b[39m, kernel_size\u001b[38;5;241m=\u001b[39m\u001b[38;5;241m3\u001b[39m, strides\u001b[38;5;241m=\u001b[39m\u001b[38;5;241m1\u001b[39m, padding\u001b[38;5;241m=\u001b[39m\u001b[38;5;124m\"\u001b[39m\u001b[38;5;124msame\u001b[39m\u001b[38;5;124m\"\u001b[39m, activation\u001b[38;5;241m=\u001b[39m\u001b[38;5;124m\"\u001b[39m\u001b[38;5;124mrelu\u001b[39m\u001b[38;5;124m\"\u001b[39m),           \n\u001b[1;32m     13\u001b[0m     \n\u001b[1;32m     14\u001b[0m     \u001b[38;5;66;03m# Pooling layer\u001b[39;00m\n\u001b[1;32m     15\u001b[0m     keras\u001b[38;5;241m.\u001b[39mlayers\u001b[38;5;241m.\u001b[39mMaxPooling1D(pool_size\u001b[38;5;241m=\u001b[39m\u001b[38;5;241m2\u001b[39m),  \n\u001b[1;32m     16\u001b[0m \n\u001b[1;32m     17\u001b[0m     \u001b[38;5;66;03m# Conv Block 3\u001b[39;00m\n\u001b[1;32m     18\u001b[0m     keras\u001b[38;5;241m.\u001b[39mlayers\u001b[38;5;241m.\u001b[39mConv1D(filters\u001b[38;5;241m=\u001b[39m\u001b[38;5;241m128\u001b[39m, kernel_size\u001b[38;5;241m=\u001b[39m\u001b[38;5;241m3\u001b[39m, strides\u001b[38;5;241m=\u001b[39m\u001b[38;5;241m1\u001b[39m, padding\u001b[38;5;241m=\u001b[39m\u001b[38;5;124m\"\u001b[39m\u001b[38;5;124msame\u001b[39m\u001b[38;5;124m\"\u001b[39m, activation\u001b[38;5;241m=\u001b[39m\u001b[38;5;124m\"\u001b[39m\u001b[38;5;124mrelu\u001b[39m\u001b[38;5;124m\"\u001b[39m),\n\u001b[1;32m     19\u001b[0m     keras\u001b[38;5;241m.\u001b[39mlayers\u001b[38;5;241m.\u001b[39mConv1D(filters\u001b[38;5;241m=\u001b[39m\u001b[38;5;241m128\u001b[39m, kernel_size\u001b[38;5;241m=\u001b[39m\u001b[38;5;241m3\u001b[39m, strides\u001b[38;5;241m=\u001b[39m\u001b[38;5;241m1\u001b[39m, padding\u001b[38;5;241m=\u001b[39m\u001b[38;5;124m\"\u001b[39m\u001b[38;5;124msame\u001b[39m\u001b[38;5;124m\"\u001b[39m, activation\u001b[38;5;241m=\u001b[39m\u001b[38;5;124m\"\u001b[39m\u001b[38;5;124mrelu\u001b[39m\u001b[38;5;124m\"\u001b[39m),   \n\u001b[1;32m     20\u001b[0m     \n\u001b[1;32m     21\u001b[0m     \u001b[38;5;66;03m# Pooling layer        \u001b[39;00m\n\u001b[1;32m     22\u001b[0m     keras\u001b[38;5;241m.\u001b[39mlayers\u001b[38;5;241m.\u001b[39mMaxPooling1D(pool_size\u001b[38;5;241m=\u001b[39m\u001b[38;5;241m2\u001b[39m),  \n\u001b[1;32m     23\u001b[0m \n\u001b[1;32m     24\u001b[0m     \u001b[38;5;66;03m# Conv Block 4\u001b[39;00m\n\u001b[1;32m     25\u001b[0m     \u001b[38;5;66;03m# keras.layers.Conv1D(filters=256, kernel_size=3, strides=1, padding=\"same\", activation=\"relu\"),\u001b[39;00m\n\u001b[1;32m     26\u001b[0m \n\u001b[1;32m     27\u001b[0m     keras\u001b[38;5;241m.\u001b[39mlayers\u001b[38;5;241m.\u001b[39mGlobalAveragePooling1D(),\n\u001b[1;32m     28\u001b[0m \n\u001b[1;32m     29\u001b[0m     \u001b[38;5;66;03m# Updated output layer for multi-class classification\u001b[39;00m\n\u001b[1;32m     30\u001b[0m     keras\u001b[38;5;241m.\u001b[39mlayers\u001b[38;5;241m.\u001b[39mDense(\u001b[38;5;241m128\u001b[39m, activation\u001b[38;5;241m=\u001b[39m\u001b[38;5;124m\"\u001b[39m\u001b[38;5;124mrelu\u001b[39m\u001b[38;5;124m\"\u001b[39m),\n\u001b[1;32m     31\u001b[0m     keras\u001b[38;5;241m.\u001b[39mlayers\u001b[38;5;241m.\u001b[39mDense(\u001b[38;5;241m1\u001b[39m, activation\u001b[38;5;241m=\u001b[39m\u001b[38;5;124m\"\u001b[39m\u001b[38;5;124msigmoid\u001b[39m\u001b[38;5;124m\"\u001b[39m)  \u001b[38;5;66;03m# Change to 4 units and softmax activation\u001b[39;00m\n\u001b[1;32m     32\u001b[0m ])\n\u001b[1;32m     34\u001b[0m \u001b[38;5;66;03m# Compile the model\u001b[39;00m\n\u001b[1;32m     35\u001b[0m model\u001b[38;5;241m.\u001b[39mcompile(loss\u001b[38;5;241m=\u001b[39m\u001b[38;5;124m\"\u001b[39m\u001b[38;5;124mcategorical_crossentropy\u001b[39m\u001b[38;5;124m\"\u001b[39m,  \u001b[38;5;66;03m# Use categorical crossentropy\u001b[39;00m\n\u001b[1;32m     36\u001b[0m               optimizer\u001b[38;5;241m=\u001b[39m\u001b[38;5;124m\"\u001b[39m\u001b[38;5;124madam\u001b[39m\u001b[38;5;124m\"\u001b[39m,\n\u001b[1;32m     37\u001b[0m               metrics\u001b[38;5;241m=\u001b[39m[\u001b[38;5;124m\"\u001b[39m\u001b[38;5;124maccuracy\u001b[39m\u001b[38;5;124m\"\u001b[39m])  \u001b[38;5;66;03m# Accuracy metric is still appropriate\u001b[39;00m\n",
      "\u001b[0;31mNameError\u001b[0m: name 'keras' is not defined"
     ]
    }
   ],
   "source": [
    "model = keras.models.Sequential([\n",
    "    # Conv Block 1 \n",
    "    keras.layers.Conv1D(filters=32, kernel_size=3, strides=1, padding=\"same\", activation=\"relu\",\n",
    "                        input_shape=[100, 3]),\n",
    "    keras.layers.Conv1D(filters=32, kernel_size=3, strides=1, padding=\"same\", activation=\"relu\"), \n",
    "\n",
    "    # Pooling layer\n",
    "    keras.layers.MaxPooling1D(pool_size=2),\n",
    "\n",
    "    # Conv Block 2 \n",
    "    keras.layers.Conv1D(filters=64, kernel_size=3, strides=1, padding=\"same\", activation=\"relu\"),\n",
    "    keras.layers.Conv1D(filters=64, kernel_size=3, strides=1, padding=\"same\", activation=\"relu\"),           \n",
    "    \n",
    "    # Pooling layer\n",
    "    keras.layers.MaxPooling1D(pool_size=2),  \n",
    "\n",
    "    # Conv Block 3\n",
    "    keras.layers.Conv1D(filters=128, kernel_size=3, strides=1, padding=\"same\", activation=\"relu\"),\n",
    "    keras.layers.Conv1D(filters=128, kernel_size=3, strides=1, padding=\"same\", activation=\"relu\"),   \n",
    "    \n",
    "    # Pooling layer        \n",
    "    keras.layers.MaxPooling1D(pool_size=2),  \n",
    "\n",
    "    # Conv Block 4\n",
    "    # keras.layers.Conv1D(filters=256, kernel_size=3, strides=1, padding=\"same\", activation=\"relu\"),\n",
    "\n",
    "    keras.layers.GlobalAveragePooling1D(),\n",
    "\n",
    "    # Updated output layer for multi-class classification\n",
    "    keras.layers.Dense(128, activation=\"relu\"),\n",
    "    keras.layers.Dense(3, activation=\"softmax\")  # Change to 4 units and softmax activation\n",
    "])\n",
    "\n",
    "# Compile the model\n",
    "model.compile(loss=\"categorical_crossentropy\",  # Use categorical crossentropy\n",
    "              optimizer=\"adam\",\n",
    "              metrics=[\"accuracy\"])  # Accuracy metric is still appropriate\n",
    "\n",
    "# Train the model\n",
    "history = model.fit(\n",
    "    x_train, y_train_one_hot,  # Ensure y_train is one-hot encoded for multi-class\n",
    "    epochs=20,  \n",
    "    batch_size=32,\n",
    "    validation_data=(x_val, y_valid_one_hot),\n",
    "    verbose=1,\n",
    "    # class_weight=class_weights_dict,\n",
    "    # callbacks=[early_stop]\n",
    ")\n",
    "\n",
    "# Get predictions\n",
    "y_pred = model.predict(x_test)\n",
    "y_pred_classes = np.argmax(y_pred, axis=1)  # Get the class with the highest probability\n",
    "\n",
    "# # Save the model\n",
    "model.save(\"conv_net_classification_1.h5\")\n"
   ]
  },
  {
   "cell_type": "code",
   "execution_count": 244,
   "metadata": {},
   "outputs": [
    {
     "data": {
      "text/plain": [
       "((2160, 100, 3), (2160, 3))"
      ]
     },
     "execution_count": 244,
     "metadata": {},
     "output_type": "execute_result"
    }
   ],
   "source": [
    "x_test.shape, y_pred.shape"
   ]
  },
  {
   "cell_type": "code",
   "execution_count": 246,
   "metadata": {},
   "outputs": [
    {
     "name": "stdout",
     "output_type": "stream",
     "text": [
      "\u001b[1m68/68\u001b[0m \u001b[32m━━━━━━━━━━━━━━━━━━━━\u001b[0m\u001b[37m\u001b[0m \u001b[1m0s\u001b[0m 2ms/step\n",
      "(2160,) (2160,)\n",
      "              precision    recall  f1-score   support\n",
      "\n",
      "           0       1.00      1.00      1.00      1080\n",
      "           1       1.00      1.00      1.00       540\n",
      "           2       1.00      1.00      1.00       540\n",
      "\n",
      "    accuracy                           1.00      2160\n",
      "   macro avg       1.00      1.00      1.00      2160\n",
      "weighted avg       1.00      1.00      1.00      2160\n",
      "\n",
      "Confusion Matrix:\n",
      "[[1080    0    0]\n",
      " [   0  540    0]\n",
      " [   0    0  540]]\n"
     ]
    },
    {
     "data": {
      "image/png": "[encoded data removed]",
      "text/plain": [
       "<Figure size 800x600 with 2 Axes>"
      ]
     },
     "metadata": {},
     "output_type": "display_data"
    }
   ],
   "source": [
    "## v1 - before quantization\n",
    "from sklearn.metrics import confusion_matrix, classification_report\n",
    "y_pred = model.predict(x_test)\n",
    "y_pred_classes = np.argmax(y_pred, axis=1)\n",
    "# y_pred_labels = (y_pred > 0.5).astype(int)\n",
    "# y_test_labels = np.argmax(x_test, axis=1) \n",
    "print(y_pred_classes.shape, y_test.shape)\n",
    "\n",
    "print(classification_report(y_test, y_pred_classes))\n",
    "\n",
    "conf_matrix = confusion_matrix(y_test, y_pred_classes)\n",
    "\n",
    "# 혼동행렬 출력\n",
    "print(\"Confusion Matrix:\")\n",
    "print(conf_matrix)\n",
    "\n",
    "# 혼동행렬 시각화\n",
    "plt.figure(figsize=(8, 6))\n",
    "sns.heatmap(conf_matrix, annot=True, fmt='d', cmap='Blues')\n",
    "plt.xlabel('Predicted Labels')\n",
    "plt.ylabel('True Labels')\n",
    "plt.title('Confusion Matrix')\n",
    "plt.show()"
   ]
  },
  {
   "cell_type": "code",
   "execution_count": 83,
   "metadata": {},
   "outputs": [
    {
     "name": "stderr",
     "output_type": "stream",
     "text": [
      "WARNING:absl:Compiled the loaded model, but the compiled metrics have yet to be built. `model.compile_metrics` will be empty until you train or evaluate the model.\n"
     ]
    },
    {
     "name": "stdout",
     "output_type": "stream",
     "text": [
      "INFO:tensorflow:Assets written to: /var/folders/lx/t6fh69qs69d9s21bvsl3_ynr0000gn/T/tmpzwfwyhoj/assets\n"
     ]
    },
    {
     "name": "stderr",
     "output_type": "stream",
     "text": [
      "INFO:tensorflow:Assets written to: /var/folders/lx/t6fh69qs69d9s21bvsl3_ynr0000gn/T/tmpzwfwyhoj/assets\n"
     ]
    },
    {
     "name": "stdout",
     "output_type": "stream",
     "text": [
      "Saved artifact at '/var/folders/lx/t6fh69qs69d9s21bvsl3_ynr0000gn/T/tmpzwfwyhoj'. The following endpoints are available:\n",
      "\n",
      "* Endpoint 'serve'\n",
      "  args_0 (POSITIONAL_ONLY): TensorSpec(shape=(None, 100, 3), dtype=tf.float32, name='input_layer_5')\n",
      "Output Type:\n",
      "  TensorSpec(shape=(None, 1), dtype=tf.float32, name=None)\n",
      "Captures:\n",
      "  4834410192: TensorSpec(shape=(), dtype=tf.resource, name=None)\n",
      "  4834430464: TensorSpec(shape=(), dtype=tf.resource, name=None)\n",
      "  4834438560: TensorSpec(shape=(), dtype=tf.resource, name=None)\n",
      "  4834440672: TensorSpec(shape=(), dtype=tf.resource, name=None)\n",
      "  4834546560: TensorSpec(shape=(), dtype=tf.resource, name=None)\n",
      "  4834549552: TensorSpec(shape=(), dtype=tf.resource, name=None)\n",
      "  4834552192: TensorSpec(shape=(), dtype=tf.resource, name=None)\n",
      "  4834554480: TensorSpec(shape=(), dtype=tf.resource, name=None)\n",
      "  4834556944: TensorSpec(shape=(), dtype=tf.resource, name=None)\n",
      "  4834086048: TensorSpec(shape=(), dtype=tf.resource, name=None)\n",
      "  4834087984: TensorSpec(shape=(), dtype=tf.resource, name=None)\n",
      "  4834090272: TensorSpec(shape=(), dtype=tf.resource, name=None)\n",
      "  4834094320: TensorSpec(shape=(), dtype=tf.resource, name=None)\n",
      "  4834098544: TensorSpec(shape=(), dtype=tf.resource, name=None)\n",
      "  4837082736: TensorSpec(shape=(), dtype=tf.resource, name=None)\n",
      "  4837085024: TensorSpec(shape=(), dtype=tf.resource, name=None)\n"
     ]
    },
    {
     "name": "stderr",
     "output_type": "stream",
     "text": [
      "/Users/seyeong/anaconda3/envs/anomaly_detection/lib/python3.10/site-packages/tensorflow/lite/python/convert.py:983: UserWarning: Statistics for quantized inputs were expected, but not specified; continuing anyway.\n",
      "  warnings.warn(\n",
      "W0000 00:00:1730044013.651696 5113823 tf_tfl_flatbuffer_helpers.cc:392] Ignored output_format.\n",
      "W0000 00:00:1730044013.651719 5113823 tf_tfl_flatbuffer_helpers.cc:395] Ignored drop_control_dependency.\n",
      "2024-10-28 00:46:53.651851: I tensorflow/cc/saved_model/reader.cc:83] Reading SavedModel from: /var/folders/lx/t6fh69qs69d9s21bvsl3_ynr0000gn/T/tmpzwfwyhoj\n",
      "2024-10-28 00:46:53.652495: I tensorflow/cc/saved_model/reader.cc:52] Reading meta graph with tags { serve }\n",
      "2024-10-28 00:46:53.652500: I tensorflow/cc/saved_model/reader.cc:147] Reading SavedModel debug info (if present) from: /var/folders/lx/t6fh69qs69d9s21bvsl3_ynr0000gn/T/tmpzwfwyhoj\n",
      "2024-10-28 00:46:53.659299: I tensorflow/cc/saved_model/loader.cc:236] Restoring SavedModel bundle.\n",
      "2024-10-28 00:46:53.692116: I tensorflow/cc/saved_model/loader.cc:220] Running initialization op on SavedModel bundle at path: /var/folders/lx/t6fh69qs69d9s21bvsl3_ynr0000gn/T/tmpzwfwyhoj\n",
      "2024-10-28 00:46:53.702687: I tensorflow/cc/saved_model/loader.cc:462] SavedModel load for tags { serve }; Status: success: OK. Took 50836 microseconds.\n",
      "fully_quantize: 0, inference_type: 6, input_inference_type: INT8, output_inference_type: INT8\n"
     ]
    }
   ],
   "source": [
    "import tensorflow as tf\n",
    "import numpy as np\n",
    "\n",
    "# .h5 모델 로드\n",
    "h5_model = tf.keras.models.load_model('conv_net_new_data_anomaly_15p_add_normal_3.h5')\n",
    "\n",
    "# .tflite 변환기 생성\n",
    "converter = tf.lite.TFLiteConverter.from_keras_model(h5_model)\n",
    "\n",
    "# 양자화 적용 (정수 양자화)\n",
    "converter.optimizations = [tf.lite.Optimize.DEFAULT]\n",
    "converter._experimental_disable_per_channel_quantization_for_dense_layers = True\n",
    "\n",
    "# INT8 양자화를 위해 필요한 대표적인 데이터셋 함수 정의\n",
    "def representative_dataset():\n",
    "    for i in range(1000):  # 임의로 100개의 샘플을 사용\n",
    "        # X_windows_balanced에서 일부 샘플을 선택\n",
    "        sample = x_train_concat[i]  # 각 sample의 shape은 (10, 3)\n",
    "        # shape을 (1, 10, 3)로 맞추기 위해 배치 차원 추가\n",
    "        yield [np.expand_dims(sample, axis=0).astype(np.float32)]\n",
    "\n",
    "# # INT8 양자화를 위해 필요한 대표적인 데이터셋 함수 정의\n",
    "# def representative_dataset():\n",
    "#     for _ in range(100):\n",
    "#         # (1, 10, 24)은 배치 크기 1, 10x24 크기의 입력 데이터를 의미합니다.\n",
    "#         yield [np.random.rand(1, 10, 24).astype(np.float32)]\n",
    "\n",
    "# # 대표 데이터셋 지정\n",
    "converter.representative_dataset = representative_dataset\n",
    "\n",
    "# 완전한 INT8 양자화를 위한 설정\n",
    "converter.target_spec.supported_ops = [tf.lite.OpsSet.TFLITE_BUILTINS_INT8]  # INT8 연산만 허용\n",
    "converter.inference_input_type = tf.int8  # 입력 타입을 INT8로 설정\n",
    "converter.inference_output_type = tf.int8  # 출력 타입을 INT8로 설정\n",
    "\n",
    "\n",
    "# .tflite 모델로 변환\n",
    "tflite_model = converter.convert()\n",
    "\n",
    "# .tflite 모델 저장\n",
    "with open('conv_net_new_data_anomaly_15p_add_normal.tflite', 'wb') as f:\n",
    "    f.write(tflite_model)"
   ]
  },
  {
   "cell_type": "markdown",
   "metadata": {},
   "source": [
    "### Model quantization and evaluation \n",
    "\n",
    "conv net -> 0, 1 anomaly detection"
   ]
  },
  {
   "cell_type": "code",
   "execution_count": 251,
   "metadata": {},
   "outputs": [
    {
     "name": "stdout",
     "output_type": "stream",
     "text": [
      "0.004703619983047247 -121 0.00390625 -128\n",
      "[[0. ]\n",
      " [0. ]\n",
      " [0. ]\n",
      " ...\n",
      " [0.5]\n",
      " [0.5]\n",
      " [0.5]]\n",
      "[[0. ]\n",
      " [0. ]\n",
      " [0. ]\n",
      " ...\n",
      " [0.5]\n",
      " [0.5]\n",
      " [0.5]]\n",
      "[0.5]\n",
      "[0.]\n"
     ]
    }
   ],
   "source": [
    "# TFLite 모델 로드\n",
    "interpreter = tf.lite.Interpreter(model_path=\"./conv_net_new_data_anomaly_15p_2.tflite\")\n",
    "interpreter.allocate_tensors()\n",
    "\n",
    "# 입력과 출력 텐서의 세부 정보 가져오기\n",
    "input_details = interpreter.get_input_details()\n",
    "output_details = interpreter.get_output_details()\n",
    "\n",
    "# 입력과 출력의 스케일 및 제로 포인트 정보 추출\n",
    "input_scale, input_zero_point = input_details[0]['quantization']\n",
    "output_scale, output_zero_point = output_details[0]['quantization']\n",
    "input_index = input_details[0]['index']\n",
    "output_index = output_details[0]['index']\n",
    "print(input_scale, input_zero_point, output_scale, output_zero_point)\n",
    "\n",
    "y_pred = []\n",
    "\n",
    "# 입력 데이터에 대해 예측 수행\n",
    "for i in range(len(x_test_concat)):\n",
    "    # 입력 데이터를 INT8 형식에 맞게 양자화\n",
    "    input_data = (x_test_concat[i] / input_scale + input_zero_point).astype(np.int8)\n",
    "    input_data = np.expand_dims(input_data, axis=0)  # 배치 차원 추가\n",
    "\n",
    "    interpreter.set_tensor(input_index, input_data)\n",
    "    interpreter.invoke()\n",
    "\n",
    "    # 출력 데이터도 다시 float32로 변환\n",
    "    output_data = interpreter.get_tensor(output_index)\n",
    "    output_data = output_scale * (output_data.astype(np.float32) - output_zero_point)\n",
    "\n",
    "    # y_pred.append(output_data.squeeze())  # 또는 output_data[0]으로 차원 축소 가능\n",
    "    y_pred.append(output_data[0])\n",
    "    # print(output_data)\n",
    "\n",
    "# y_pred = model.predict(x_test_concat, verbose=1)\n",
    "y_pred = np.array(y_pred)\n",
    "print(y_pred)\n",
    "y_pred_classes = (y_pred >= 0.25).astype(int)\n",
    "print(y_pred)\n",
    "print(max(y_pred))\n",
    "print(min(y_pred))\n",
    "\n",
    "\n"
   ]
  },
  {
   "cell_type": "code",
   "execution_count": 252,
   "metadata": {},
   "outputs": [
    {
     "name": "stdout",
     "output_type": "stream",
     "text": [
      "(1734, 1)\n",
      "(1734, 1) (1734,)\n",
      "              precision    recall  f1-score   support\n",
      "\n",
      "         0.0       1.00      0.99      0.99      1440\n",
      "         1.0       0.94      1.00      0.97       294\n",
      "\n",
      "    accuracy                           0.99      1734\n",
      "   macro avg       0.97      0.99      0.98      1734\n",
      "weighted avg       0.99      0.99      0.99      1734\n",
      "\n",
      "Confusion Matrix:\n",
      "[[1420   20]\n",
      " [   0  294]]\n"
     ]
    },
    {
     "data": {
      "image/png": "[encoded data removed]",
      "text/plain": [
       "<Figure size 800x600 with 2 Axes>"
      ]
     },
     "metadata": {},
     "output_type": "display_data"
    }
   ],
   "source": [
    "print(y_pred_classes.shape)\n",
    "\n",
    "## v3 - after quantizer\n",
    "import seaborn as sns\n",
    "from sklearn.metrics import confusion_matrix, classification_report\n",
    "\n",
    "print(y_pred_classes.shape, y_test_concat.shape)\n",
    "\n",
    "print(classification_report(y_test_concat, y_pred_classes))\n",
    "\n",
    "conf_matrix = confusion_matrix(y_test_concat, y_pred_classes)\n",
    "\n",
    "# 혼동행렬 출력\n",
    "print(\"Confusion Matrix:\")\n",
    "print(conf_matrix)\n",
    "\n",
    "# 혼동행렬 시각화\n",
    "plt.figure(figsize=(8, 6))\n",
    "sns.heatmap(conf_matrix, annot=True, fmt='d', cmap='Blues')\n",
    "plt.xlabel('Predicted Labels')\n",
    "plt.ylabel('True Labels')\n",
    "plt.title('Confusion Matrix')\n",
    "plt.show()"
   ]
  },
  {
   "cell_type": "code",
   "execution_count": 236,
   "metadata": {},
   "outputs": [
    {
     "name": "stdout",
     "output_type": "stream",
     "text": [
      "(16956, 1)\n",
      "(16956, 1) (16956,)\n",
      "              precision    recall  f1-score   support\n",
      "\n",
      "         0.0       0.00      0.00      0.00         0\n",
      "         1.0       1.00      0.99      0.99     16956\n",
      "\n",
      "    accuracy                           0.99     16956\n",
      "   macro avg       0.50      0.50      0.50     16956\n",
      "weighted avg       1.00      0.99      0.99     16956\n",
      "\n",
      "Confusion Matrix:\n",
      "[[    0     0]\n",
      " [  169 16787]]\n"
     ]
    },
    {
     "name": "stderr",
     "output_type": "stream",
     "text": [
      "/Users/seyeong/anaconda3/envs/anomaly_detection/lib/python3.10/site-packages/sklearn/metrics/_classification.py:1531: UndefinedMetricWarning: Recall is ill-defined and being set to 0.0 in labels with no true samples. Use `zero_division` parameter to control this behavior.\n",
      "  _warn_prf(average, modifier, f\"{metric.capitalize()} is\", len(result))\n",
      "/Users/seyeong/anaconda3/envs/anomaly_detection/lib/python3.10/site-packages/sklearn/metrics/_classification.py:1531: UndefinedMetricWarning: Recall is ill-defined and being set to 0.0 in labels with no true samples. Use `zero_division` parameter to control this behavior.\n",
      "  _warn_prf(average, modifier, f\"{metric.capitalize()} is\", len(result))\n",
      "/Users/seyeong/anaconda3/envs/anomaly_detection/lib/python3.10/site-packages/sklearn/metrics/_classification.py:1531: UndefinedMetricWarning: Recall is ill-defined and being set to 0.0 in labels with no true samples. Use `zero_division` parameter to control this behavior.\n",
      "  _warn_prf(average, modifier, f\"{metric.capitalize()} is\", len(result))\n"
     ]
    },
    {
     "data": {
      "image/png": "[encoded data removed]",
      "text/plain": [
       "<Figure size 800x600 with 2 Axes>"
      ]
     },
     "metadata": {},
     "output_type": "display_data"
    }
   ],
   "source": [
    "print(y_pred_classes.shape)\n",
    "\n",
    "## v4 - after quantizer - only anomaly data\n",
    "import seaborn as sns\n",
    "from sklearn.metrics import confusion_matrix, classification_report\n",
    "\n",
    "print(y_pred_classes.shape, y_label_1_raw_test.shape)\n",
    "\n",
    "print(classification_report(y_label_1_raw_test, y_pred_classes))\n",
    "\n",
    "conf_matrix = confusion_matrix(y_label_1_raw_test, y_pred_classes)\n",
    "\n",
    "# 혼동행렬 출력\n",
    "print(\"Confusion Matrix:\")\n",
    "print(conf_matrix)\n",
    "\n",
    "# 혼동행렬 시각화\n",
    "plt.figure(figsize=(8, 6))\n",
    "sns.heatmap(conf_matrix, annot=True, fmt='d', cmap='Blues')\n",
    "plt.xlabel('Predicted Labels')\n",
    "plt.ylabel('True Labels')\n",
    "plt.title('Confusion Matrix')\n",
    "plt.show()\n",
    "\n"
   ]
  },
  {
   "cell_type": "code",
   "execution_count": 211,
   "metadata": {},
   "outputs": [
    {
     "data": {
      "image/png": "[encoded data removed]",
      "text/plain": [
       "<Figure size 1000x600 with 1 Axes>"
      ]
     },
     "metadata": {},
     "output_type": "display_data"
    }
   ],
   "source": [
    "plt.figure(figsize=(10, 6))\n",
    "plt.plot(y_pred, marker='o', linestyle='-', color='b')\n",
    "plt.title('Predicted Values (y_pred)')\n",
    "plt.xlabel('Sample Index')\n",
    "plt.ylabel('Predicted Value')\n",
    "plt.ylim(0, 1)  # Setting the y-axis to range from 0 to 1 for clarity\n",
    "plt.grid(True)\n",
    "plt.show()"
   ]
  },
  {
   "cell_type": "code",
   "execution_count": 218,
   "metadata": {},
   "outputs": [
    {
     "name": "stdout",
     "output_type": "stream",
     "text": [
      "\u001b[1m55/55\u001b[0m \u001b[32m━━━━━━━━━━━━━━━━━━━━\u001b[0m\u001b[37m\u001b[0m \u001b[1m0s\u001b[0m 2ms/step\n"
     ]
    },
    {
     "data": {
      "image/png": "[encoded data removed]",
      "text/plain": [
       "<Figure size 1000x600 with 1 Axes>"
      ]
     },
     "metadata": {},
     "output_type": "display_data"
    }
   ],
   "source": [
    "y_pred = model.predict(x_test_concat)\n",
    "plt.figure(figsize=(10, 6))\n",
    "plt.plot(y_pred, marker='o', linestyle='-', color='b')\n",
    "plt.title('Predicted Values (y_pred)')\n",
    "plt.xlabel('Sample Index')\n",
    "plt.ylabel('Predicted Value')\n",
    "plt.ylim(0, 1)  # Setting the y-axis to range from 0 to 1 for clarity\n",
    "plt.grid(True)\n",
    "plt.show()"
   ]
  },
  {
   "cell_type": "markdown",
   "metadata": {},
   "source": [
    "### Model quantization and evaluation \n",
    "\n",
    "conv net -> 0, 1, 2 anomaly judgement"
   ]
  },
  {
   "cell_type": "code",
   "execution_count": 249,
   "metadata": {},
   "outputs": [
    {
     "name": "stdout",
     "output_type": "stream",
     "text": [
      "0.01722520776093006 25 0.00390625 -128\n",
      "[[0.99609375 0.         0.        ]\n",
      " [0.         0.         0.99609375]\n",
      " [0.         0.         0.99609375]\n",
      " ...\n",
      " [0.99609375 0.         0.        ]\n",
      " [0.99609375 0.         0.        ]\n",
      " [0.99609375 0.         0.        ]]\n"
     ]
    }
   ],
   "source": [
    "# TFLite 모델 로드\n",
    "interpreter = tf.lite.Interpreter(model_path=\"./conv_net_classification_1.tflite\")\n",
    "interpreter.allocate_tensors()\n",
    "\n",
    "# 입력과 출력 텐서의 세부 정보 가져오기\n",
    "input_details = interpreter.get_input_details()\n",
    "output_details = interpreter.get_output_details()\n",
    "\n",
    "# 입력과 출력의 스케일 및 제로 포인트 정보 추출\n",
    "input_scale, input_zero_point = input_details[0]['quantization']\n",
    "output_scale, output_zero_point = output_details[0]['quantization']\n",
    "input_index = input_details[0]['index']\n",
    "output_index = output_details[0]['index']\n",
    "print(input_scale, input_zero_point, output_scale, output_zero_point)\n",
    "\n",
    "y_pred = []\n",
    "\n",
    "# 입력 데이터에 대해 예측 수행\n",
    "for i in range(len(x_test)):\n",
    "    # 입력 데이터를 INT8 형식에 맞게 양자화\n",
    "    input_data = (x_test[i] / input_scale + input_zero_point).astype(np.int8)\n",
    "    input_data = np.expand_dims(input_data, axis=0)  # 배치 차원 추가\n",
    "\n",
    "    interpreter.set_tensor(input_index, input_data)\n",
    "    interpreter.invoke()\n",
    "\n",
    "    # 출력 데이터도 다시 float32로 변환\n",
    "    output_data = interpreter.get_tensor(output_index)\n",
    "    output_data = output_scale * (output_data.astype(np.float32) - output_zero_point)\n",
    "\n",
    "    # y_pred.append(output_data.squeeze())  # 또는 output_data[0]으로 차원 축소 가능\n",
    "    y_pred.append(output_data[0])\n",
    "    # print(output_data)\n",
    "\n",
    "# y_pred = model.predict(x_test_concat, verbose=1)\n",
    "y_pred = np.array(y_pred)\n",
    "print(y_pred)\n",
    "y_pred_classes = np.argmax(y_pred, axis=1)\n",
    "\n",
    "# print(max(y_pred))\n",
    "# print(min(y_pred))\n",
    "\n",
    "\n"
   ]
  },
  {
   "cell_type": "code",
   "execution_count": 250,
   "metadata": {},
   "outputs": [
    {
     "name": "stdout",
     "output_type": "stream",
     "text": [
      "(2160,) (2160,)\n",
      "              precision    recall  f1-score   support\n",
      "\n",
      "           0       1.00      1.00      1.00      1080\n",
      "           1       1.00      1.00      1.00       540\n",
      "           2       1.00      1.00      1.00       540\n",
      "\n",
      "    accuracy                           1.00      2160\n",
      "   macro avg       1.00      1.00      1.00      2160\n",
      "weighted avg       1.00      1.00      1.00      2160\n",
      "\n",
      "Confusion Matrix:\n",
      "[[1080    0    0]\n",
      " [   0  540    0]\n",
      " [   0    0  540]]\n"
     ]
    },
    {
     "data": {
      "image/png": "[encoded data removed]",
      "text/plain": [
       "<Figure size 800x600 with 2 Axes>"
      ]
     },
     "metadata": {},
     "output_type": "display_data"
    }
   ],
   "source": [
    "## v1 - after quantization\n",
    "from sklearn.metrics import confusion_matrix, classification_report\n",
    "# y_pred_classes = np.argmax(y_pred, axis=1)\n",
    "# y_pred_labels = (y_pred > 0.5).astype(int)\n",
    "# y_test_labels = np.argmax(x_test, axis=1) \n",
    "print(y_pred_classes.shape, y_test.shape)\n",
    "\n",
    "print(classification_report(y_test, y_pred_classes))\n",
    "\n",
    "conf_matrix = confusion_matrix(y_test, y_pred_classes)\n",
    "\n",
    "# 혼동행렬 출력\n",
    "print(\"Confusion Matrix:\")\n",
    "print(conf_matrix)\n",
    "\n",
    "# 혼동행렬 시각화\n",
    "plt.figure(figsize=(8, 6))\n",
    "sns.heatmap(conf_matrix, annot=True, fmt='d', cmap='Blues')\n",
    "plt.xlabel('Predicted Labels')\n",
    "plt.ylabel('True Labels')\n",
    "plt.title('Confusion Matrix')\n",
    "plt.show()"
   ]
  }
 ],
 "metadata": {
  "kernelspec": {
   "display_name": "ml_cuda",
   "language": "python",
   "name": "python3"
  },
  "language_info": {
   "codemirror_mode": {
    "name": "ipython",
    "version": 3
   },
   "file_extension": ".py",
   "mimetype": "text/x-python",
   "name": "python",
   "nbconvert_exporter": "python",
   "pygments_lexer": "ipython3",
   "version": "3.10.9"
  }
 },
 "nbformat": 4,
 "nbformat_minor": 2
}
